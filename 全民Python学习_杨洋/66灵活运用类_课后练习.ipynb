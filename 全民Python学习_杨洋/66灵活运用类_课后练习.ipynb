{
 "cells": [
  {
   "cell_type": "markdown",
   "metadata": {},
   "source": [
    "### 请先生成一个列表，包含20个从1到20的随机数。然后使用Python标准库的Counter类，求每一种数字重复的次数。\n"
   ]
  },
  {
   "cell_type": "code",
   "execution_count": 10,
   "metadata": {},
   "outputs": [
    {
     "data": {
      "text/plain": [
       "[2, 10, 8, 3, 2, 19, 6, 1, 8, 8, 19, 10, 16, 8, 9, 19, 13, 14, 13, 14]"
      ]
     },
     "execution_count": 10,
     "metadata": {},
     "output_type": "execute_result"
    }
   ],
   "source": [
    "import numpy as np\n",
    "a=list(np.random.randint(1,20,20))\n",
    "a"
   ]
  },
  {
   "cell_type": "code",
   "execution_count": 13,
   "metadata": {},
   "outputs": [
    {
     "data": {
      "text/plain": [
       "Counter({2: 2,\n",
       "         10: 2,\n",
       "         8: 4,\n",
       "         3: 1,\n",
       "         19: 3,\n",
       "         6: 1,\n",
       "         1: 1,\n",
       "         16: 1,\n",
       "         9: 1,\n",
       "         13: 2,\n",
       "         14: 2})"
      ]
     },
     "execution_count": 13,
     "metadata": {},
     "output_type": "execute_result"
    }
   ],
   "source": [
    "from collections import Counter\n",
    "Counter(a)"
   ]
  },
  {
   "cell_type": "code",
   "execution_count": 14,
   "metadata": {},
   "outputs": [
    {
     "name": "stdout",
     "output_type": "stream",
     "text": [
      "Counter({13: 3, 10: 3, 19: 3, 1: 2, 12: 1, 11: 1, 17: 1, 15: 1, 8: 1, 7: 1, 4: 1, 2: 1, 5: 1})\n"
     ]
    }
   ],
   "source": [
    "# 标准答案\n",
    "\n",
    "import random\n",
    "\n",
    "from collections import Counter\n",
    "\n",
    "vals = [random.randint(1, 20) for i in range(20)]\n",
    "\n",
    "res = Counter(vals)\n",
    "\n",
    "print(res)\n"
   ]
  },
  {
   "cell_type": "markdown",
   "metadata": {},
   "source": [
    "### 请自定义一个列表类来扩展python列表的功能，使创建的列表在打印时可以把重复元素只显示一个，而且打印的元素用空格分隔。\n",
    "\n",
    "比如对于列表 [ 3 ,3 , 2, 1, 2, 4 ] ，\n",
    "输出结果应为： 3 2 1 4 。\n",
    "\n",
    "提示：\n",
    "\n",
    "(1) 去重可以利用集合类的特点；\n",
    "\n",
    "(2) __repre__ 方法的标准形式是把要打印的内容生成一个字符串，然后把这个字符串用return语句返回。而 print函数等会自动把 __repre__ 返回的字符串打印在屏幕上"
   ]
  },
  {
   "cell_type": "code",
   "execution_count": 18,
   "metadata": {},
   "outputs": [
    {
     "name": "stdout",
     "output_type": "stream",
     "text": [
      "4 3 2 1 \n",
      "\n"
     ]
    }
   ],
   "source": [
    "class my_list(list):\n",
    "    def __repr__(self):\n",
    "        self=set(self)\n",
    "        q=''\n",
    "        for i in self:\n",
    "            q=str(i)+' '+q\n",
    "        print(q)\n",
    "        return ''\n",
    "        \n",
    "a=my_list([ 3 ,3 , 2, 1, 2, 4 ])\n",
    "print(a)"
   ]
  },
  {
   "cell_type": "code",
   "execution_count": 20,
   "metadata": {},
   "outputs": [
    {
     "name": "stdout",
     "output_type": "stream",
     "text": [
      "1 2 3 4 5\n"
     ]
    }
   ],
   "source": [
    "# 标准答案\n",
    "\n",
    "class MyList(list):\n",
    "\n",
    "\n",
    "\n",
    "    def __repr__(self):\n",
    "\n",
    "        res = [str(i) for i in set(self)]\n",
    "\n",
    "        return ' '.join(res)\n",
    "\n",
    "\n",
    "\n",
    "vals = MyList([1, 2, 2, 3, 4, 4, 5])\n",
    "\n",
    "print(vals)\n"
   ]
  },
  {
   "cell_type": "markdown",
   "metadata": {},
   "source": [
    "### 类属性的功能之一，是作为“计数器”来记录该类对象的实例总数，而该数字也可以用来给该类对象自动分配一个“唯一流水号”。\n",
    "\n",
    "请修改上一回（第40回）作业中的学生系统程序，在“学生类”中增加一个类属性，用作“学生总数计数器”。\n",
    "\n",
    "这样，每当添加一个学生时，添加方法都调用类属性，更新目前的学生总数。\n",
    "\n",
    "然后在主程序中添加多个学生对象；再调用学生类的该属性、打印出学生总数"
   ]
  },
  {
   "cell_type": "code",
   "execution_count": 29,
   "metadata": {},
   "outputs": [],
   "source": [
    "class Student_list():\n",
    "    def __init__(self):\n",
    "        self.S_L=[]\n",
    "    def add(self,student):\n",
    "        self.S_L.append(student)\n",
    "        Student.numb+=1\n",
    "        \n",
    "    def show(self):\n",
    "        for i in self.S_L:\n",
    "            print(i.name)\n",
    "        print('目前学生个数为:',Student.numb)\n",
    "        \n",
    "        \n",
    "class Student():\n",
    "    numb=0\n",
    "    def __init__(self,n,a,s):\n",
    "        self.name=n\n",
    "        self.age=a\n",
    "        self.scor=s"
   ]
  },
  {
   "cell_type": "code",
   "execution_count": 30,
   "metadata": {
    "scrolled": true
   },
   "outputs": [
    {
     "name": "stdout",
     "output_type": "stream",
     "text": [
      "eff\n",
      "eff2\n",
      "eff3\n",
      "目前学生个数为: 3\n"
     ]
    }
   ],
   "source": [
    "a=Student('eff',11,33)\n",
    "b=Student('eff2',311,433)\n",
    "c=Student('eff3',211,533)\n",
    "\n",
    "d=Student_list()\n",
    "d.add(a)\n",
    "d.add(b)\n",
    "d.add(c)\n",
    "\n",
    "d.show()"
   ]
  },
  {
   "cell_type": "code",
   "execution_count": 27,
   "metadata": {},
   "outputs": [],
   "source": [
    "# 标准答案\n",
    "\n",
    "class Student:\n",
    "\n",
    "    count = 0\n",
    "\n",
    "\n",
    "\n",
    "    def __init__(self, name, age, score):\n",
    "\n",
    "        self.name = name\n",
    "\n",
    "        self.age = age\n",
    "\n",
    "        self.score = score\n",
    "\n",
    "\n",
    "\n",
    "class System:\n",
    "\n",
    "    def __init__(self):\n",
    "\n",
    "        self.stus = []\n",
    "\n",
    "\n",
    "\n",
    "    def add(self, stu):\n",
    "\n",
    "        self.stus.append(stu)\n",
    "\n",
    "        Student.count += 1\n",
    "\n",
    "\n",
    "\n",
    "\n",
    "\n",
    "sys = System()\n",
    "\n",
    "sys.add(Student('张三', 22, 87))\n",
    "\n",
    "sys.add(Student('李四', 21, 74))\n",
    "\n",
    "sys.add(Student('王五', 20, 92))\n",
    "\n",
    "print('学生个数为：', Student.count)\n"
   ]
  },
  {
   "cell_type": "markdown",
   "metadata": {},
   "source": [
    "### 请编写一个函数可以判断出某一个对象的类型是什么，比如传入100，打印“100 是整数类型”。请分别测试整数、字符串和元组。\n",
    "\n",
    "该函数可以返回不同的状态值，属于上面的三种类型表示正确并返回0，其他类型则表示错误并返回空值。\n",
    "\n",
    "判断5种不同类型的对象，如果返回值是None则打印 “xxx 是可变类型”，如果不是则打印“xxx 是不可变类型"
   ]
  },
  {
   "cell_type": "code",
   "execution_count": 37,
   "metadata": {},
   "outputs": [
    {
     "name": "stdout",
     "output_type": "stream",
     "text": [
      "100 是不可变类型\n",
      "100 是不可变类型\n",
      "(100,) 是不可变类型\n",
      "[100] 是可变类型\n",
      "{'k': 100} 是可变类型\n"
     ]
    }
   ],
   "source": [
    "def check(s):\n",
    "    if isinstance(s,str) or isinstance(s,int) or isinstance(s,tuple):\n",
    "        \n",
    "        return 0\n",
    "        \n",
    "    else:\n",
    "        \n",
    "        return None\n",
    "\n",
    "for i in [100, '100', (100,), [100], {'k': 100}]:\n",
    "    s=i\n",
    "    if check(s) is None:\n",
    "        print(s,'是可变类型')\n",
    "    else:\n",
    "        print(s,'是不可变类型')\n"
   ]
  },
  {
   "cell_type": "code",
   "execution_count": 36,
   "metadata": {
    "scrolled": true
   },
   "outputs": [
    {
     "name": "stdout",
     "output_type": "stream",
     "text": [
      "100 是整数类型\n",
      "100 是不可变类型\n",
      "\n",
      "100 是字符串类型\n",
      "100 是不可变类型\n",
      "\n",
      "100 是元组类型\n",
      "100 是不可变类型\n",
      "\n",
      "[100] 是可变类型\n",
      "\n",
      "{'k': 100} 是可变类型\n",
      "\n"
     ]
    }
   ],
   "source": [
    "# 标准答案\n",
    "def showtype(obj):\n",
    "    if isinstance(obj, int):\n",
    "        print('%s 是整数类型' % obj)\n",
    "        return 1\n",
    "    elif isinstance(obj, str):\n",
    "        print('%s 是字符串类型' % obj)\n",
    "        return 1\n",
    "    elif isinstance(obj, tuple):\n",
    "        print('%s 是元组类型' % obj)\n",
    "        return 1\n",
    "    else:\n",
    "        return None\n",
    "\n",
    "\n",
    "for i in [100, '100', (100,), [100], {'k': 100}]:\n",
    "    res = showtype(i)\n",
    "    if res is None:\n",
    "        print('%s 是可变类型\\n' % i)\n",
    "    else:\n",
    "        print('%s 是不可变类型\\n' % i)"
   ]
  },
  {
   "cell_type": "markdown",
   "metadata": {},
   "source": [
    "### 综合题：请设计一个大学校园人员信息管理系统，该系统拥有5个模块：大学、人员、教授、学生、社团、教务。功能需求如下所示：\n",
    "\n",
    "1. 大学模块记录大学名称和位置；\n",
    "2. 人员模块的信息有姓名、电话、电子邮箱地址，功能有收电子邮件和发电子邮件；\n",
    "3. 教授模块的信息有姓名、电话、电子邮箱地址、工作证号和工龄，功能有授课、收发电子邮件；\n",
    "4. 学生模块的信息有姓名、电话、电子邮箱地址、学号、班级，功能有考试、收发电子邮件；\n",
    "5. 社团模块的信息有名称、活动时间；\n",
    "6. 教务模块的信息有教授和学生的姓名、电话、电子邮箱地址以及教授的工作证号、工龄、学生的学号、班级。\n",
    "\n",
    "提示：本题目为开放性练习，不具有标准答案，可以根据自己的想法进行设计和讨论"
   ]
  },
  {
   "cell_type": "code",
   "execution_count": 40,
   "metadata": {},
   "outputs": [],
   "source": [
    "class uvy():\n",
    "    def __init__(self,n,d):\n",
    "        self.name=n\n",
    "        self.adr=d\n",
    "class gp():\n",
    "    def __init__(self,n,t):\n",
    "        self.name=n\n",
    "        self.time=t\n",
    "        \n",
    "class Person():\n",
    "    def __init__(self,n,p,e):\n",
    "        self.name=n\n",
    "        self.phone=p\n",
    "        self.email=e\n",
    "    def sent_e(self):\n",
    "        print(self.email,'now sent email to ...')\n",
    "\n",
    "class Student(Person):\n",
    "    def __init__(self,n,p,e,no,clas):\n",
    "        super().__init__(n,p,e)\n",
    "        self.no=no\n",
    "        self.clas=clas\n",
    "    def rec_e(self):\n",
    "        print(self.email,'now rec email from ...')\n",
    "\n",
    "class Pefcs(Person):\n",
    "    def __init__(self,n,p,e,c,a):\n",
    "        super().__init__(n,p,e)\n",
    "        self.card=c\n",
    "        self.a_age=a\n",
    "        \n",
    "    def begin_clas(self):\n",
    "        print(self.name,'begin class...')\n",
    "\n",
    "class System():\n",
    "\n",
    "    def __init__(self):\n",
    "\n",
    "        self.stus = []\n",
    "\n",
    "    def add(self, p):\n",
    "\n",
    "        self.stus.append(p)\n",
    "\n",
    "    def show(self):\n",
    "        for i in self.stus:\n",
    "            if isinstance(i,Student):\n",
    "                print('im a Student',i.name,i.phone,i.email,i.no,i.clas)\n",
    "            else:\n",
    "                print('im a Pefcs',i.name,i.phone,i.email,i.card,i.a_age,)"
   ]
  },
  {
   "cell_type": "code",
   "execution_count": 42,
   "metadata": {
    "scrolled": true
   },
   "outputs": [
    {
     "name": "stdout",
     "output_type": "stream",
     "text": [
      "im a Student eff 1314 ee.com no.5 1class\n",
      "im a Student eff2 1315 ee2.com no.6 1class\n",
      "im a Pefcs doclun 1344 aa.com cd.11 工龄11年\n"
     ]
    }
   ],
   "source": [
    "a=Student('eff',1314,'ee.com','no.5','1class')\n",
    "b=Student('eff2',1315,'ee2.com','no.6','1class')\n",
    "c=Pefcs('doclun',1344,'aa.com','cd.11','工龄11年')\n",
    "\n",
    "d=System()\n",
    "d.add(a)\n",
    "d.add(b)\n",
    "d.add(c)\n",
    "\n",
    "d.show()"
   ]
  },
  {
   "cell_type": "code",
   "execution_count": 45,
   "metadata": {},
   "outputs": [
    {
     "name": "stdout",
     "output_type": "stream",
     "text": [
      "doclun begin class...\n",
      "aa.com now sent email to ...\n",
      "ee2.com now rec email from ...\n"
     ]
    }
   ],
   "source": [
    "c.begin_clas()\n",
    "c.sent_e()\n",
    "b.rec_e()"
   ]
  }
 ],
 "metadata": {
  "kernelspec": {
   "display_name": "Python 3",
   "language": "python",
   "name": "python3"
  },
  "language_info": {
   "codemirror_mode": {
    "name": "ipython",
    "version": 3
   },
   "file_extension": ".py",
   "mimetype": "text/x-python",
   "name": "python",
   "nbconvert_exporter": "python",
   "pygments_lexer": "ipython3",
   "version": "3.8.3"
  }
 },
 "nbformat": 4,
 "nbformat_minor": 4
}
