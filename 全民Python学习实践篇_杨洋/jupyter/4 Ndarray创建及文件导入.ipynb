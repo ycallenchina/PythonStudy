{
 "cells": [
  {
   "cell_type": "markdown",
   "metadata": {},
   "source": [
    "## 创建ndarray"
   ]
  },
  {
   "cell_type": "code",
   "execution_count": 1,
   "metadata": {},
   "outputs": [
    {
     "data": {
      "text/plain": [
       "array(['1', '2', '3', 'abc', 'qqq'], dtype='<U21')"
      ]
     },
     "execution_count": 1,
     "metadata": {},
     "output_type": "execute_result"
    }
   ],
   "source": [
    "import numpy as np\n",
    "import pandas as pd\n",
    "x=[1,2,3,'abc','qqq']\n",
    "x_nd=np.array(x)#创建ndarray方法\n",
    "x_nd"
   ]
  },
  {
   "cell_type": "markdown",
   "metadata": {},
   "source": [
    "## 笔记---创建ndarray注意\n",
    "####    结构会强制统一.\n",
    "#### \t向上兼容法则\n",
    "    向上兼容法制:在容器转换为ndarray时,\n",
    "    如果遇到容器内容里类型不统一的情况下\n",
    "    ndarray会强制统一容器里的内容.\n",
    "    并使用向上兼容法制:整数-浮点数-字符串.\n",
    "    法则为:有字符串就全都字符串,没有就全浮点,再没有就整数.\n",
    "####    dtype='U11' \n",
    "    表示用的时unico 11长度类型"
   ]
  },
  {
   "cell_type": "markdown",
   "metadata": {},
   "source": [
    "## List转化为ndarry_创建多维数组"
   ]
  },
  {
   "cell_type": "code",
   "execution_count": 6,
   "metadata": {},
   "outputs": [
    {
     "data": {
      "text/plain": [
       "[[3, 5, 7], [2, 5, 6]]"
      ]
     },
     "execution_count": 6,
     "metadata": {},
     "output_type": "execute_result"
    }
   ],
   "source": [
    "x=[[3,5,7],[2,5,6]]\n",
    "x_nd=np.array(x)\n",
    "x"
   ]
  },
  {
   "cell_type": "markdown",
   "metadata": {},
   "source": [
    "#### 对于长度不一致者,不推荐进行ndarray转换操作"
   ]
  },
  {
   "cell_type": "code",
   "execution_count": 8,
   "metadata": {},
   "outputs": [
    {
     "data": {
      "text/plain": [
       "array([list([3, 5]), list([2, 5, 6])], dtype=object)"
      ]
     },
     "execution_count": 8,
     "metadata": {},
     "output_type": "execute_result"
    }
   ],
   "source": [
    "x2=[[3,5,],[2,5,6]]\n",
    "x2_nd=np.array(x)\n",
    "x2_nd"
   ]
  },
  {
   "cell_type": "markdown",
   "metadata": {},
   "source": [
    "## 函数生成数组\n",
    "#### numpy.zeros 生成内容都为0的数组\n",
    "#### numpy.ones\n",
    "#### numpy.eye\n",
    "#### numpy.arange\n",
    "    zeros((n,m),dtype='int'):其中n表示行数,m表示列数,dtype表示指定数据类型\n",
    "    zeros((1,2,3...n),dtype='int') :其中用zeros生成n为数组."
   ]
  },
  {
   "cell_type": "code",
   "execution_count": 5,
   "metadata": {},
   "outputs": [
    {
     "data": {
      "text/plain": [
       "array([[0, 0, 0, 0],\n",
       "       [0, 0, 0, 0],\n",
       "       [0, 0, 0, 0]])"
      ]
     },
     "execution_count": 5,
     "metadata": {},
     "output_type": "execute_result"
    }
   ],
   "source": [
    "a=np.zeros((3,4),dtype='int')\n",
    "a"
   ]
  },
  {
   "cell_type": "code",
   "execution_count": 10,
   "metadata": {},
   "outputs": [
    {
     "data": {
      "text/plain": [
       "array([[1., 1., 1., 1.],\n",
       "       [1., 1., 1., 1.],\n",
       "       [1., 1., 1., 1.]])"
      ]
     },
     "execution_count": 10,
     "metadata": {},
     "output_type": "execute_result"
    }
   ],
   "source": [
    "a=np.ones((3,4))\n",
    "a"
   ]
  },
  {
   "cell_type": "markdown",
   "metadata": {},
   "source": [
    "####  eye的参数只能是纯数字"
   ]
  },
  {
   "cell_type": "code",
   "execution_count": 16,
   "metadata": {},
   "outputs": [
    {
     "data": {
      "text/plain": [
       "array([[0., 0., 0.],\n",
       "       [0., 0., 0.],\n",
       "       [0., 0., 0.],\n",
       "       [1., 0., 0.],\n",
       "       [0., 1., 0.],\n",
       "       [0., 0., 1.]])"
      ]
     },
     "execution_count": 16,
     "metadata": {},
     "output_type": "execute_result"
    }
   ],
   "source": [
    "a=np.eye(6,3,k=-3)\n",
    "a"
   ]
  },
  {
   "cell_type": "markdown",
   "metadata": {},
   "source": [
    "#### arange参数:起始值,末值,步长(步长可用任意实数) "
   ]
  },
  {
   "cell_type": "code",
   "execution_count": 16,
   "metadata": {},
   "outputs": [
    {
     "data": {
      "text/plain": [
       "array([-5.0000000e+00, -4.8000000e+00, -4.6000000e+00, -4.4000000e+00,\n",
       "       -4.2000000e+00, -4.0000000e+00, -3.8000000e+00, -3.6000000e+00,\n",
       "       -3.4000000e+00, -3.2000000e+00, -3.0000000e+00, -2.8000000e+00,\n",
       "       -2.6000000e+00, -2.4000000e+00, -2.2000000e+00, -2.0000000e+00,\n",
       "       -1.8000000e+00, -1.6000000e+00, -1.4000000e+00, -1.2000000e+00,\n",
       "       -1.0000000e+00, -8.0000000e-01, -6.0000000e-01, -4.0000000e-01,\n",
       "       -2.0000000e-01,  4.4408921e-15,  2.0000000e-01,  4.0000000e-01,\n",
       "        6.0000000e-01,  8.0000000e-01,  1.0000000e+00,  1.2000000e+00,\n",
       "        1.4000000e+00,  1.6000000e+00,  1.8000000e+00,  2.0000000e+00,\n",
       "        2.2000000e+00,  2.4000000e+00,  2.6000000e+00,  2.8000000e+00,\n",
       "        3.0000000e+00,  3.2000000e+00,  3.4000000e+00,  3.6000000e+00,\n",
       "        3.8000000e+00,  4.0000000e+00,  4.2000000e+00,  4.4000000e+00,\n",
       "        4.6000000e+00,  4.8000000e+00,  5.0000000e+00,  5.2000000e+00,\n",
       "        5.4000000e+00,  5.6000000e+00,  5.8000000e+00,  6.0000000e+00,\n",
       "        6.2000000e+00,  6.4000000e+00,  6.6000000e+00,  6.8000000e+00,\n",
       "        7.0000000e+00,  7.2000000e+00,  7.4000000e+00,  7.6000000e+00,\n",
       "        7.8000000e+00,  8.0000000e+00,  8.2000000e+00,  8.4000000e+00,\n",
       "        8.6000000e+00,  8.8000000e+00,  9.0000000e+00,  9.2000000e+00,\n",
       "        9.4000000e+00,  9.6000000e+00,  9.8000000e+00])"
      ]
     },
     "execution_count": 16,
     "metadata": {},
     "output_type": "execute_result"
    }
   ],
   "source": [
    "a=np.arange(-5,10,0.2)\n",
    "a"
   ]
  },
  {
   "cell_type": "markdown",
   "metadata": {},
   "source": [
    "# 函数生成随机数组 "
   ]
  },
  {
   "cell_type": "markdown",
   "metadata": {},
   "source": [
    "###  np.random.rand(n,m)   生成0-1之间的随机浮点数.n表示二维行数,m表示二维的列数.同理可以生成n维数组"
   ]
  },
  {
   "cell_type": "code",
   "execution_count": 19,
   "metadata": {},
   "outputs": [
    {
     "data": {
      "text/plain": [
       "array([[[0.65223449, 0.45127684],\n",
       "        [0.50244101, 0.74849236],\n",
       "        [0.34343917, 0.32512683],\n",
       "        [0.88560915, 0.2856679 ],\n",
       "        [0.75653804, 0.92381515]],\n",
       "\n",
       "       [[0.04122019, 0.70288853],\n",
       "        [0.69128509, 0.2773773 ],\n",
       "        [0.01689837, 0.75720934],\n",
       "        [0.16810786, 0.41126833],\n",
       "        [0.50565065, 0.83988771]],\n",
       "\n",
       "       [[0.83125158, 0.28311114],\n",
       "        [0.92143017, 0.38704139],\n",
       "        [0.9375427 , 0.98079614],\n",
       "        [0.66772558, 0.3568215 ],\n",
       "        [0.52662681, 0.45399264]]])"
      ]
     },
     "execution_count": 19,
     "metadata": {},
     "output_type": "execute_result"
    }
   ],
   "source": [
    "a=np.random.rand(3,5,2)\n",
    "a"
   ]
  },
  {
   "cell_type": "markdown",
   "metadata": {},
   "source": [
    "###  np.random.randint(n,m,(a,b)) 生成n到m之间,a行b列的整数 数组,同理可以生成n维数组"
   ]
  },
  {
   "cell_type": "code",
   "execution_count": 20,
   "metadata": {},
   "outputs": [
    {
     "data": {
      "text/plain": [
       "array([[3, 3, 3, 4],\n",
       "       [3, 3, 4, 4]])"
      ]
     },
     "execution_count": 20,
     "metadata": {},
     "output_type": "execute_result"
    }
   ],
   "source": [
    "a=np.random.randint(3,5,(2,4))\n",
    "a"
   ]
  },
  {
   "cell_type": "markdown",
   "metadata": {},
   "source": [
    "### np.random.choice(容器,(a,b)) 生成容器里的随机内容 a行b列的数组,同理可以生成n维数组  "
   ]
  },
  {
   "cell_type": "code",
   "execution_count": 21,
   "metadata": {},
   "outputs": [
    {
     "data": {
      "text/plain": [
       "array([['hzc', 'effy', 'hzc', 'effy'],\n",
       "       ['hzc', 'yc', 'hzc', 'yc']], dtype='<U4')"
      ]
     },
     "execution_count": 21,
     "metadata": {},
     "output_type": "execute_result"
    }
   ],
   "source": [
    "a=np.random.choice(['effy','yc','hzc'],(2,4))\n",
    "a"
   ]
  },
  {
   "cell_type": "markdown",
   "metadata": {},
   "source": [
    "####  randn():生成正太分布的随机数组\n",
    "#### uniform():生成均匀分布的随机数组\n",
    "#### 原理 unmpy.random.uniform(low,high,size)\n",
    "参数介绍\n",
    "low: 采样下界，float类型，默认值为0；\n",
    "high: 采样上界，float类型，默认值为1；\n",
    "size: 输出样本数目，为int或元组(tuple)类型。"
   ]
  },
  {
   "cell_type": "code",
   "execution_count": 35,
   "metadata": {},
   "outputs": [
    {
     "data": {
      "text/plain": [
       "array([ 0.18132784, -0.03734398,  0.65961281, -0.66824892, -1.27291097,\n",
       "       -1.30651572,  1.333448  ,  0.87237417, -1.08592244,  0.33477209,\n",
       "        0.33485217, -1.06681809, -0.54382548, -0.62637922,  0.00268557,\n",
       "        0.7069963 , -0.36880047,  0.27572724, -0.36851394, -0.75064244,\n",
       "       -0.3133555 ,  0.07025327,  0.19035762,  1.31615919, -1.32174906,\n",
       "       -0.38292515, -1.14183009,  1.34975702,  0.17819698, -0.0252265 ,\n",
       "        1.22868015, -0.75495337,  0.79934379,  0.81761705,  0.1804149 ,\n",
       "        1.63562935, -1.13482048, -0.45970262,  0.57596463,  0.93901247,\n",
       "       -0.65581455,  0.2759848 , -0.21379334, -1.95438259,  0.04316447,\n",
       "       -1.3066153 ,  0.66515777, -0.64637792, -0.80688011, -0.26892004,\n",
       "        1.26871642,  1.37489173,  0.58212208,  0.81928964,  1.81807026,\n",
       "        0.13604805,  1.06061796, -1.03004653, -0.49650147,  0.04492215,\n",
       "       -0.38825807,  0.28074177,  0.44285454,  1.80508239,  1.2453843 ,\n",
       "        0.53470697,  0.86651942,  1.35932732,  0.23403808, -0.23130704,\n",
       "       -1.49874568, -1.15021558,  0.21792294, -0.42994668, -1.01679295,\n",
       "       -0.01998284,  0.37130152,  0.55901259,  0.04596226, -0.14688035,\n",
       "        1.61142159, -1.03409263, -0.66524025, -0.09390662, -1.5466179 ,\n",
       "        0.27977316, -1.31216248,  0.19792285, -0.07918017,  0.33788851,\n",
       "        1.44650996,  0.14430601, -0.12728715,  0.60017753, -0.8014101 ,\n",
       "       -1.1211783 ,  0.28125056, -0.13622771, -0.96539413, -0.71155126])"
      ]
     },
     "execution_count": 35,
     "metadata": {},
     "output_type": "execute_result"
    }
   ],
   "source": [
    "a=np.random.randn(100)#生成2行10列的正态分布随机数组\n",
    "a"
   ]
  },
  {
   "cell_type": "code",
   "execution_count": 36,
   "metadata": {},
   "outputs": [
    {
     "data": {
      "text/plain": [
       "array([519.89824935, 678.26992166, 654.22340722, 997.40742093,\n",
       "       636.90387665,  77.09623211, 305.57315413, 381.5812346 ,\n",
       "       154.14847079, 123.19990494])"
      ]
     },
     "execution_count": 36,
     "metadata": {},
     "output_type": "execute_result"
    }
   ],
   "source": [
    "a=np.random.uniform(1,1000,10)#10个均匀的1-10数组\n",
    "a"
   ]
  },
  {
   "cell_type": "markdown",
   "metadata": {},
   "source": [
    "### 转化为dataframe 后用图标画出随机数组."
   ]
  },
  {
   "cell_type": "code",
   "execution_count": 38,
   "metadata": {},
   "outputs": [
    {
     "data": {
      "text/html": [
       "<div>\n",
       "<style scoped>\n",
       "    .dataframe tbody tr th:only-of-type {\n",
       "        vertical-align: middle;\n",
       "    }\n",
       "\n",
       "    .dataframe tbody tr th {\n",
       "        vertical-align: top;\n",
       "    }\n",
       "\n",
       "    .dataframe thead th {\n",
       "        text-align: right;\n",
       "    }\n",
       "</style>\n",
       "<table border=\"1\" class=\"dataframe\">\n",
       "  <thead>\n",
       "    <tr style=\"text-align: right;\">\n",
       "      <th></th>\n",
       "      <th>0</th>\n",
       "    </tr>\n",
       "  </thead>\n",
       "  <tbody>\n",
       "    <tr>\n",
       "      <th>0</th>\n",
       "      <td>519.898249</td>\n",
       "    </tr>\n",
       "    <tr>\n",
       "      <th>1</th>\n",
       "      <td>678.269922</td>\n",
       "    </tr>\n",
       "    <tr>\n",
       "      <th>2</th>\n",
       "      <td>654.223407</td>\n",
       "    </tr>\n",
       "    <tr>\n",
       "      <th>3</th>\n",
       "      <td>997.407421</td>\n",
       "    </tr>\n",
       "    <tr>\n",
       "      <th>4</th>\n",
       "      <td>636.903877</td>\n",
       "    </tr>\n",
       "    <tr>\n",
       "      <th>5</th>\n",
       "      <td>77.096232</td>\n",
       "    </tr>\n",
       "    <tr>\n",
       "      <th>6</th>\n",
       "      <td>305.573154</td>\n",
       "    </tr>\n",
       "    <tr>\n",
       "      <th>7</th>\n",
       "      <td>381.581235</td>\n",
       "    </tr>\n",
       "    <tr>\n",
       "      <th>8</th>\n",
       "      <td>154.148471</td>\n",
       "    </tr>\n",
       "    <tr>\n",
       "      <th>9</th>\n",
       "      <td>123.199905</td>\n",
       "    </tr>\n",
       "  </tbody>\n",
       "</table>\n",
       "</div>"
      ],
      "text/plain": [
       "            0\n",
       "0  519.898249\n",
       "1  678.269922\n",
       "2  654.223407\n",
       "3  997.407421\n",
       "4  636.903877\n",
       "5   77.096232\n",
       "6  305.573154\n",
       "7  381.581235\n",
       "8  154.148471\n",
       "9  123.199905"
      ]
     },
     "execution_count": 38,
     "metadata": {},
     "output_type": "execute_result"
    }
   ],
   "source": [
    "df = pd.DataFrame(a)\n",
    "df"
   ]
  },
  {
   "cell_type": "code",
   "execution_count": 48,
   "metadata": {},
   "outputs": [
    {
     "data": {
      "image/png": "[encoded data removed]",
      "text/plain": [
       "<Figure size 432x288 with 1 Axes>"
      ]
     },
     "metadata": {
      "needs_background": "light"
     },
     "output_type": "display_data"
    }
   ],
   "source": [
    "\n",
    "def 画散点图(x,y,size=10):\n",
    "    #x，y都为同长度一维数组，size大小（可选）\n",
    "    import matplotlib.pyplot as plt\n",
    "    plt.figure(1)\n",
    "    plt.scatter(x,y,size)\n",
    "\n",
    "画散点图(df.index,df[0])"
   ]
  },
  {
   "cell_type": "markdown",
   "metadata": {},
   "source": [
    "# 导入文件_ndarray "
   ]
  },
  {
   "cell_type": "markdown",
   "metadata": {},
   "source": [
    "###  np.loadtxt('导入路径',delimiter=',')分隔符号为,号.也可以指定数据类型,dtype='int'"
   ]
  },
  {
   "cell_type": "markdown",
   "metadata": {},
   "source": [
    "### np.genfromtxt用法与loadtxt类似,增多了filling_values参数,可以filling_values=0指定空置内容等于0."
   ]
  }
 ],
 "metadata": {
  "kernelspec": {
   "display_name": "Python 3 (ipykernel)",
   "language": "python",
   "name": "python3"
  },
  "language_info": {
   "codemirror_mode": {
    "name": "ipython",
    "version": 3
   },
   "file_extension": ".py",
   "mimetype": "text/x-python",
   "name": "python",
   "nbconvert_exporter": "python",
   "pygments_lexer": "ipython3",
   "version": "3.8.8"
  }
 },
 "nbformat": 4,
 "nbformat_minor": 4
}
