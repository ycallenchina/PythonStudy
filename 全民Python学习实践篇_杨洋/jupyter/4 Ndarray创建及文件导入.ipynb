{
 "cells": [
  {
   "cell_type": "markdown",
   "metadata": {},
   "source": [
    "## 创建ndarray"
   ]
  },
  {
   "cell_type": "code",
   "execution_count": 35,
   "metadata": {},
   "outputs": [
    {
     "data": {
      "text/plain": [
       "array(['1', '2', '3', 'abc', 'qqq'], dtype='<U11')"
      ]
     },
     "execution_count": 35,
     "metadata": {},
     "output_type": "execute_result"
    }
   ],
   "source": [
    "import numpy as np\n",
    "import pandas as pd\n",
    "x=[1,2,3,'abc','qqq']\n",
    "x_nd=np.array(x)#创建ndarray方法\n",
    "x_nd"
   ]
  },
  {
   "cell_type": "markdown",
   "metadata": {},
   "source": [
    "## 笔记---创建ndarray注意\n",
    "####    结构会强制统一.\n",
    "#### \t向上兼容法则\n",
    "    向上兼容法制:在容器转换为ndarray时,\n",
    "    如果遇到容器内容里类型不统一的情况下\n",
    "    ndarray会强制统一容器里的内容.\n",
    "    并使用向上兼容法制:整数-浮点数-字符串.\n",
    "    法则为:有字符串就全都字符串,没有就全浮点,再没有就整数.\n",
    "####    dtype='U11' \n",
    "    表示用的时unico 11长度类型"
   ]
  },
  {
   "cell_type": "markdown",
   "metadata": {},
   "source": [
    "## 创建多维数组"
   ]
  },
  {
   "cell_type": "code",
   "execution_count": 6,
   "metadata": {},
   "outputs": [
    {
     "data": {
      "text/plain": [
       "[[3, 5, 7], [2, 5, 6]]"
      ]
     },
     "execution_count": 6,
     "metadata": {},
     "output_type": "execute_result"
    }
   ],
   "source": [
    "x=[[3,5,7],[2,5,6]]\n",
    "x_nd=np.array(x)\n",
    "x"
   ]
  },
  {
   "cell_type": "markdown",
   "metadata": {},
   "source": [
    "#### 对于长度不一致者,不推荐进行ndarray转换操作"
   ]
  },
  {
   "cell_type": "code",
   "execution_count": 8,
   "metadata": {},
   "outputs": [
    {
     "data": {
      "text/plain": [
       "array([list([3, 5]), list([2, 5, 6])], dtype=object)"
      ]
     },
     "execution_count": 8,
     "metadata": {},
     "output_type": "execute_result"
    }
   ],
   "source": [
    "x2=[[3,5,],[2,5,6]]\n",
    "x2_nd=np.array(x)\n",
    "x2_nd"
   ]
  },
  {
   "cell_type": "markdown",
   "metadata": {},
   "source": [
    "## 函数生成数组\n",
    "#### numpy.zeros 生成内容都为0的数组\n",
    "#### numpy.ones\n",
    "#### numpy.eye\n",
    "#### numpy.arange\n",
    "    zeros((n,m),dtype='int'):其中n表示行数,m表示列数,dtype表示指定数据类型\n",
    "    zeros((1,2,3...n),dtype='int') :其中用zeros生成n为数组."
   ]
  },
  {
   "cell_type": "code",
   "execution_count": 9,
   "metadata": {},
   "outputs": [
    {
     "data": {
      "text/plain": [
       "array([[0, 0, 0, 0],\n",
       "       [0, 0, 0, 0],\n",
       "       [0, 0, 0, 0]])"
      ]
     },
     "execution_count": 9,
     "metadata": {},
     "output_type": "execute_result"
    }
   ],
   "source": [
    "a=np.zeros((3,4),dtype='int')\n",
    "a"
   ]
  },
  {
   "cell_type": "code",
   "execution_count": 10,
   "metadata": {},
   "outputs": [
    {
     "data": {
      "text/plain": [
       "array([[1., 1., 1., 1.],\n",
       "       [1., 1., 1., 1.],\n",
       "       [1., 1., 1., 1.]])"
      ]
     },
     "execution_count": 10,
     "metadata": {},
     "output_type": "execute_result"
    }
   ],
   "source": [
    "a=np.ones((3,4))\n",
    "a"
   ]
  },
  {
   "cell_type": "markdown",
   "metadata": {},
   "source": [
    "####  eye的参数只能是纯数字"
   ]
  },
  {
   "cell_type": "code",
   "execution_count": 12,
   "metadata": {},
   "outputs": [
    {
     "data": {
      "text/plain": [
       "array([[1., 0., 0., 0.],\n",
       "       [0., 1., 0., 0.],\n",
       "       [0., 0., 1., 0.],\n",
       "       [0., 0., 0., 1.]])"
      ]
     },
     "execution_count": 12,
     "metadata": {},
     "output_type": "execute_result"
    }
   ],
   "source": [
    "a=np.eye(4)\n",
    "a"
   ]
  },
  {
   "cell_type": "markdown",
   "metadata": {},
   "source": [
    "#### arange参数:起始值,末值,步长(步长可用任意实数) "
   ]
  },
  {
   "cell_type": "code",
   "execution_count": 16,
   "metadata": {},
   "outputs": [
    {
     "data": {
      "text/plain": [
       "array([-5.0000000e+00, -4.8000000e+00, -4.6000000e+00, -4.4000000e+00,\n",
       "       -4.2000000e+00, -4.0000000e+00, -3.8000000e+00, -3.6000000e+00,\n",
       "       -3.4000000e+00, -3.2000000e+00, -3.0000000e+00, -2.8000000e+00,\n",
       "       -2.6000000e+00, -2.4000000e+00, -2.2000000e+00, -2.0000000e+00,\n",
       "       -1.8000000e+00, -1.6000000e+00, -1.4000000e+00, -1.2000000e+00,\n",
       "       -1.0000000e+00, -8.0000000e-01, -6.0000000e-01, -4.0000000e-01,\n",
       "       -2.0000000e-01,  4.4408921e-15,  2.0000000e-01,  4.0000000e-01,\n",
       "        6.0000000e-01,  8.0000000e-01,  1.0000000e+00,  1.2000000e+00,\n",
       "        1.4000000e+00,  1.6000000e+00,  1.8000000e+00,  2.0000000e+00,\n",
       "        2.2000000e+00,  2.4000000e+00,  2.6000000e+00,  2.8000000e+00,\n",
       "        3.0000000e+00,  3.2000000e+00,  3.4000000e+00,  3.6000000e+00,\n",
       "        3.8000000e+00,  4.0000000e+00,  4.2000000e+00,  4.4000000e+00,\n",
       "        4.6000000e+00,  4.8000000e+00,  5.0000000e+00,  5.2000000e+00,\n",
       "        5.4000000e+00,  5.6000000e+00,  5.8000000e+00,  6.0000000e+00,\n",
       "        6.2000000e+00,  6.4000000e+00,  6.6000000e+00,  6.8000000e+00,\n",
       "        7.0000000e+00,  7.2000000e+00,  7.4000000e+00,  7.6000000e+00,\n",
       "        7.8000000e+00,  8.0000000e+00,  8.2000000e+00,  8.4000000e+00,\n",
       "        8.6000000e+00,  8.8000000e+00,  9.0000000e+00,  9.2000000e+00,\n",
       "        9.4000000e+00,  9.6000000e+00,  9.8000000e+00])"
      ]
     },
     "execution_count": 16,
     "metadata": {},
     "output_type": "execute_result"
    }
   ],
   "source": [
    "a=np.arange(-5,10,0.2)\n",
    "a"
   ]
  },
  {
   "cell_type": "markdown",
   "metadata": {},
   "source": [
    "# 函数生成随机数组 "
   ]
  },
  {
   "cell_type": "markdown",
   "metadata": {},
   "source": [
    "###  np.random.rand(n,m)   生成0-1之间的随机浮点数.n表示二维行数,m表示二维的列数.同理可以生成n维数组"
   ]
  },
  {
   "cell_type": "code",
   "execution_count": 19,
   "metadata": {},
   "outputs": [
    {
     "data": {
      "text/plain": [
       "array([[[0.65223449, 0.45127684],\n",
       "        [0.50244101, 0.74849236],\n",
       "        [0.34343917, 0.32512683],\n",
       "        [0.88560915, 0.2856679 ],\n",
       "        [0.75653804, 0.92381515]],\n",
       "\n",
       "       [[0.04122019, 0.70288853],\n",
       "        [0.69128509, 0.2773773 ],\n",
       "        [0.01689837, 0.75720934],\n",
       "        [0.16810786, 0.41126833],\n",
       "        [0.50565065, 0.83988771]],\n",
       "\n",
       "       [[0.83125158, 0.28311114],\n",
       "        [0.92143017, 0.38704139],\n",
       "        [0.9375427 , 0.98079614],\n",
       "        [0.66772558, 0.3568215 ],\n",
       "        [0.52662681, 0.45399264]]])"
      ]
     },
     "execution_count": 19,
     "metadata": {},
     "output_type": "execute_result"
    }
   ],
   "source": [
    "a=np.random.rand(3,5,2)\n",
    "a"
   ]
  },
  {
   "cell_type": "markdown",
   "metadata": {},
   "source": [
    "###  np.random.randint(n,m,(a,b)) 生成n到m之间,a行b列的整数 数组,同理可以生成n维数组"
   ]
  },
  {
   "cell_type": "code",
   "execution_count": 20,
   "metadata": {},
   "outputs": [
    {
     "data": {
      "text/plain": [
       "array([[3, 3, 3, 4],\n",
       "       [3, 3, 4, 4]])"
      ]
     },
     "execution_count": 20,
     "metadata": {},
     "output_type": "execute_result"
    }
   ],
   "source": [
    "a=np.random.randint(3,5,(2,4))\n",
    "a"
   ]
  },
  {
   "cell_type": "markdown",
   "metadata": {},
   "source": [
    "### np.random.choice(容器,(a,b)) 生成容器里的随机内容 a行b列的数组,同理可以生成n维数组  "
   ]
  },
  {
   "cell_type": "code",
   "execution_count": 21,
   "metadata": {},
   "outputs": [
    {
     "data": {
      "text/plain": [
       "array([['hzc', 'effy', 'hzc', 'effy'],\n",
       "       ['hzc', 'yc', 'hzc', 'yc']], dtype='<U4')"
      ]
     },
     "execution_count": 21,
     "metadata": {},
     "output_type": "execute_result"
    }
   ],
   "source": [
    "a=np.random.choice(['effy','yc','hzc'],(2,4))\n",
    "a"
   ]
  },
  {
   "cell_type": "markdown",
   "metadata": {},
   "source": [
    "####  randn():生成正太分布的随机数组\n",
    "#### uniform():生成均匀分布的随机数组\n",
    "#### 原理 unmpy.random.uniform(low,high,size)\n",
    "参数介绍\n",
    "low: 采样下界，float类型，默认值为0；\n",
    "high: 采样上界，float类型，默认值为1；\n",
    "size: 输出样本数目，为int或元组(tuple)类型。"
   ]
  },
  {
   "cell_type": "code",
   "execution_count": 34,
   "metadata": {},
   "outputs": [
    {
     "data": {
      "text/plain": [
       "array([[ 0.01808108,  0.32894797,  0.8928943 ,  1.73595147,  0.18129357,\n",
       "        -0.27835571, -1.7941829 ,  0.11971885, -1.00359096, -0.94707541],\n",
       "       [ 1.30992458, -0.88179749, -0.96722104,  1.61705056, -0.29662172,\n",
       "        -1.9549128 ,  0.3639915 , -0.53493473, -0.1392105 ,  2.0876963 ]])"
      ]
     },
     "execution_count": 34,
     "metadata": {},
     "output_type": "execute_result"
    }
   ],
   "source": [
    "a=np.random.randn(2,10)#生成2行10列的正态分布随机数组\n",
    "a"
   ]
  },
  {
   "cell_type": "code",
   "execution_count": 52,
   "metadata": {},
   "outputs": [
    {
     "data": {
      "text/plain": [
       "array([16.44093111, 38.8452778 , 50.72402422, 49.92464627, 13.04401377,\n",
       "       39.14127781,  1.71851197, 23.80764766, 22.50443293, 74.73581225,\n",
       "       52.77858766, 95.43295814, 39.36908921, 96.45510157, 24.46720808,\n",
       "       66.12612786,  3.54118306, 30.37484203, 66.28600329, 67.0522859 ,\n",
       "       43.19080749,  7.5856244 , 15.76867624, 15.42330025,  4.13112768,\n",
       "       28.15577936, 87.0196876 , 68.83549201, 80.69142169,  1.71208533,\n",
       "       82.45559845, 32.75509499, 99.8731502 , 27.01334089,  7.05693961,\n",
       "       72.77205483, 29.82460932, 20.99566835, 98.19492541, 12.5737882 ,\n",
       "       11.53353186, 17.97169044, 25.13784031, 38.22238368, 91.18981381,\n",
       "       94.66546595, 79.42571181, 51.27001185,  3.47104211, 36.93443922,\n",
       "       89.35707133, 48.30999613, 82.49123253, 80.75667363, 46.78895445,\n",
       "       33.23310532, 89.71492927, 91.15767179, 53.37353142, 19.94510351,\n",
       "       29.34361313, 89.89234236, 39.45002712, 20.36002455, 75.92270201,\n",
       "       33.8409469 , 59.76980239, 23.01963718, 26.26785916, 37.30808736,\n",
       "       87.36063416, 77.38067719, 25.18807453, 93.41056896, 17.84766453,\n",
       "       28.56569668, 56.31933166, 21.96108645,  9.90896041, 78.81961078,\n",
       "       42.2375487 , 30.28176275, 62.96893509, 18.35744016, 56.77799325,\n",
       "       61.72211101, 23.8597045 , 52.35154919, 43.33973287, 61.17613113,\n",
       "       76.96550227, 49.72008534,  9.82447835, 32.65403154, 17.8628812 ,\n",
       "       50.07299597, 61.34076141, 85.10099302, 82.54617815, 46.35009022])"
      ]
     },
     "execution_count": 52,
     "metadata": {},
     "output_type": "execute_result"
    }
   ],
   "source": [
    "a=np.random.uniform(1,100,100)#10个均匀的1-10数组\n",
    "a"
   ]
  },
  {
   "cell_type": "markdown",
   "metadata": {},
   "source": [
    "### 转化为dataframe 后用图标画出随机数组."
   ]
  },
  {
   "cell_type": "code",
   "execution_count": 53,
   "metadata": {},
   "outputs": [
    {
     "data": {
      "text/html": [
       "<div>\n",
       "<style scoped>\n",
       "    .dataframe tbody tr th:only-of-type {\n",
       "        vertical-align: middle;\n",
       "    }\n",
       "\n",
       "    .dataframe tbody tr th {\n",
       "        vertical-align: top;\n",
       "    }\n",
       "\n",
       "    .dataframe thead th {\n",
       "        text-align: right;\n",
       "    }\n",
       "</style>\n",
       "<table border=\"1\" class=\"dataframe\">\n",
       "  <thead>\n",
       "    <tr style=\"text-align: right;\">\n",
       "      <th></th>\n",
       "      <th>0</th>\n",
       "    </tr>\n",
       "  </thead>\n",
       "  <tbody>\n",
       "    <tr>\n",
       "      <th>0</th>\n",
       "      <td>16.440931</td>\n",
       "    </tr>\n",
       "    <tr>\n",
       "      <th>1</th>\n",
       "      <td>38.845278</td>\n",
       "    </tr>\n",
       "    <tr>\n",
       "      <th>2</th>\n",
       "      <td>50.724024</td>\n",
       "    </tr>\n",
       "    <tr>\n",
       "      <th>3</th>\n",
       "      <td>49.924646</td>\n",
       "    </tr>\n",
       "    <tr>\n",
       "      <th>4</th>\n",
       "      <td>13.044014</td>\n",
       "    </tr>\n",
       "    <tr>\n",
       "      <th>...</th>\n",
       "      <td>...</td>\n",
       "    </tr>\n",
       "    <tr>\n",
       "      <th>95</th>\n",
       "      <td>50.072996</td>\n",
       "    </tr>\n",
       "    <tr>\n",
       "      <th>96</th>\n",
       "      <td>61.340761</td>\n",
       "    </tr>\n",
       "    <tr>\n",
       "      <th>97</th>\n",
       "      <td>85.100993</td>\n",
       "    </tr>\n",
       "    <tr>\n",
       "      <th>98</th>\n",
       "      <td>82.546178</td>\n",
       "    </tr>\n",
       "    <tr>\n",
       "      <th>99</th>\n",
       "      <td>46.350090</td>\n",
       "    </tr>\n",
       "  </tbody>\n",
       "</table>\n",
       "<p>100 rows × 1 columns</p>\n",
       "</div>"
      ],
      "text/plain": [
       "            0\n",
       "0   16.440931\n",
       "1   38.845278\n",
       "2   50.724024\n",
       "3   49.924646\n",
       "4   13.044014\n",
       "..        ...\n",
       "95  50.072996\n",
       "96  61.340761\n",
       "97  85.100993\n",
       "98  82.546178\n",
       "99  46.350090\n",
       "\n",
       "[100 rows x 1 columns]"
      ]
     },
     "execution_count": 53,
     "metadata": {},
     "output_type": "execute_result"
    }
   ],
   "source": [
    "df = pd.DataFrame(a)\n",
    "df"
   ]
  },
  {
   "cell_type": "code",
   "execution_count": 54,
   "metadata": {},
   "outputs": [
    {
     "data": {
      "text/plain": [
       "<matplotlib.collections.PathCollection at 0x221208c48e0>"
      ]
     },
     "execution_count": 54,
     "metadata": {},
     "output_type": "execute_result"
    },
    {
     "data": {
      "image/png": "[encoded data removed]",
      "text/plain": [
       "<Figure size 432x288 with 1 Axes>"
      ]
     },
     "metadata": {
      "needs_background": "light"
     },
     "output_type": "display_data"
    }
   ],
   "source": [
    "import matplotlib.pyplot as plt\n",
    "plt.figure(1)\n",
    "plt.scatter(df.index,df[0])"
   ]
  },
  {
   "cell_type": "markdown",
   "metadata": {},
   "source": [
    "# 导入文件_ndarray "
   ]
  },
  {
   "cell_type": "markdown",
   "metadata": {},
   "source": [
    "###  np.loadtxt('导入路径',delimiter=',')分隔符号为,号.也可以指定数据类型,dtype='int'"
   ]
  },
  {
   "cell_type": "markdown",
   "metadata": {},
   "source": [
    "### np.genfromtxt用法与loadtxt类似,增多了filling_values参数,可以filling_values=0指定空置内容等于0."
   ]
  }
 ],
 "metadata": {
  "kernelspec": {
   "display_name": "Python 3",
   "language": "python",
   "name": "python3"
  },
  "language_info": {
   "codemirror_mode": {
    "name": "ipython",
    "version": 3
   },
   "file_extension": ".py",
   "mimetype": "text/x-python",
   "name": "python",
   "nbconvert_exporter": "python",
   "pygments_lexer": "ipython3",
   "version": "3.8.3"
  }
 },
 "nbformat": 4,
 "nbformat_minor": 4
}
