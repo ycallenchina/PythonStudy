{
 "cells": [
  {
   "cell_type": "markdown",
   "id": "f95ae86a",
   "metadata": {},
   "source": [
    "### 读取 玻璃数据 ，观察特征之间的相关性，思考多重共线性的问题，然后 使用 LogisticRegression 与 PCA 分析测试集预测准确率最高时主成分的数量。"
   ]
  },
  {
   "cell_type": "code",
   "execution_count": 1,
   "id": "f15ecdaf",
   "metadata": {
    "scrolled": true
   },
   "outputs": [
    {
     "data": {
      "text/html": [
       "<div>\n",
       "<style scoped>\n",
       "    .dataframe tbody tr th:only-of-type {\n",
       "        vertical-align: middle;\n",
       "    }\n",
       "\n",
       "    .dataframe tbody tr th {\n",
       "        vertical-align: top;\n",
       "    }\n",
       "\n",
       "    .dataframe thead th {\n",
       "        text-align: right;\n",
       "    }\n",
       "</style>\n",
       "<table border=\"1\" class=\"dataframe\">\n",
       "  <thead>\n",
       "    <tr style=\"text-align: right;\">\n",
       "      <th></th>\n",
       "      <th>id</th>\n",
       "      <th>refractive</th>\n",
       "      <th>Sodium</th>\n",
       "      <th>Magnesium</th>\n",
       "      <th>Aluminum</th>\n",
       "      <th>Silicon</th>\n",
       "      <th>Potassium</th>\n",
       "      <th>Calcium</th>\n",
       "      <th>Barium</th>\n",
       "      <th>Iron</th>\n",
       "      <th>Type</th>\n",
       "    </tr>\n",
       "  </thead>\n",
       "  <tbody>\n",
       "    <tr>\n",
       "      <th>0</th>\n",
       "      <td>1</td>\n",
       "      <td>1.52101</td>\n",
       "      <td>13.64</td>\n",
       "      <td>4.49</td>\n",
       "      <td>1.10</td>\n",
       "      <td>71.78</td>\n",
       "      <td>0.06</td>\n",
       "      <td>8.75</td>\n",
       "      <td>0.00</td>\n",
       "      <td>0.0</td>\n",
       "      <td>1</td>\n",
       "    </tr>\n",
       "    <tr>\n",
       "      <th>1</th>\n",
       "      <td>2</td>\n",
       "      <td>1.51761</td>\n",
       "      <td>13.89</td>\n",
       "      <td>3.60</td>\n",
       "      <td>1.36</td>\n",
       "      <td>72.73</td>\n",
       "      <td>0.48</td>\n",
       "      <td>7.83</td>\n",
       "      <td>0.00</td>\n",
       "      <td>0.0</td>\n",
       "      <td>1</td>\n",
       "    </tr>\n",
       "    <tr>\n",
       "      <th>2</th>\n",
       "      <td>3</td>\n",
       "      <td>1.51618</td>\n",
       "      <td>13.53</td>\n",
       "      <td>3.55</td>\n",
       "      <td>1.54</td>\n",
       "      <td>72.99</td>\n",
       "      <td>0.39</td>\n",
       "      <td>7.78</td>\n",
       "      <td>0.00</td>\n",
       "      <td>0.0</td>\n",
       "      <td>1</td>\n",
       "    </tr>\n",
       "    <tr>\n",
       "      <th>3</th>\n",
       "      <td>4</td>\n",
       "      <td>1.51766</td>\n",
       "      <td>13.21</td>\n",
       "      <td>3.69</td>\n",
       "      <td>1.29</td>\n",
       "      <td>72.61</td>\n",
       "      <td>0.57</td>\n",
       "      <td>8.22</td>\n",
       "      <td>0.00</td>\n",
       "      <td>0.0</td>\n",
       "      <td>1</td>\n",
       "    </tr>\n",
       "    <tr>\n",
       "      <th>4</th>\n",
       "      <td>5</td>\n",
       "      <td>1.51742</td>\n",
       "      <td>13.27</td>\n",
       "      <td>3.62</td>\n",
       "      <td>1.24</td>\n",
       "      <td>73.08</td>\n",
       "      <td>0.55</td>\n",
       "      <td>8.07</td>\n",
       "      <td>0.00</td>\n",
       "      <td>0.0</td>\n",
       "      <td>1</td>\n",
       "    </tr>\n",
       "    <tr>\n",
       "      <th>...</th>\n",
       "      <td>...</td>\n",
       "      <td>...</td>\n",
       "      <td>...</td>\n",
       "      <td>...</td>\n",
       "      <td>...</td>\n",
       "      <td>...</td>\n",
       "      <td>...</td>\n",
       "      <td>...</td>\n",
       "      <td>...</td>\n",
       "      <td>...</td>\n",
       "      <td>...</td>\n",
       "    </tr>\n",
       "    <tr>\n",
       "      <th>209</th>\n",
       "      <td>210</td>\n",
       "      <td>1.51623</td>\n",
       "      <td>14.14</td>\n",
       "      <td>0.00</td>\n",
       "      <td>2.88</td>\n",
       "      <td>72.61</td>\n",
       "      <td>0.08</td>\n",
       "      <td>9.18</td>\n",
       "      <td>1.06</td>\n",
       "      <td>0.0</td>\n",
       "      <td>7</td>\n",
       "    </tr>\n",
       "    <tr>\n",
       "      <th>210</th>\n",
       "      <td>211</td>\n",
       "      <td>1.51685</td>\n",
       "      <td>14.92</td>\n",
       "      <td>0.00</td>\n",
       "      <td>1.99</td>\n",
       "      <td>73.06</td>\n",
       "      <td>0.00</td>\n",
       "      <td>8.40</td>\n",
       "      <td>1.59</td>\n",
       "      <td>0.0</td>\n",
       "      <td>7</td>\n",
       "    </tr>\n",
       "    <tr>\n",
       "      <th>211</th>\n",
       "      <td>212</td>\n",
       "      <td>1.52065</td>\n",
       "      <td>14.36</td>\n",
       "      <td>0.00</td>\n",
       "      <td>2.02</td>\n",
       "      <td>73.42</td>\n",
       "      <td>0.00</td>\n",
       "      <td>8.44</td>\n",
       "      <td>1.64</td>\n",
       "      <td>0.0</td>\n",
       "      <td>7</td>\n",
       "    </tr>\n",
       "    <tr>\n",
       "      <th>212</th>\n",
       "      <td>213</td>\n",
       "      <td>1.51651</td>\n",
       "      <td>14.38</td>\n",
       "      <td>0.00</td>\n",
       "      <td>1.94</td>\n",
       "      <td>73.61</td>\n",
       "      <td>0.00</td>\n",
       "      <td>8.48</td>\n",
       "      <td>1.57</td>\n",
       "      <td>0.0</td>\n",
       "      <td>7</td>\n",
       "    </tr>\n",
       "    <tr>\n",
       "      <th>213</th>\n",
       "      <td>214</td>\n",
       "      <td>1.51711</td>\n",
       "      <td>14.23</td>\n",
       "      <td>0.00</td>\n",
       "      <td>2.08</td>\n",
       "      <td>73.36</td>\n",
       "      <td>0.00</td>\n",
       "      <td>8.62</td>\n",
       "      <td>1.67</td>\n",
       "      <td>0.0</td>\n",
       "      <td>7</td>\n",
       "    </tr>\n",
       "  </tbody>\n",
       "</table>\n",
       "<p>214 rows × 11 columns</p>\n",
       "</div>"
      ],
      "text/plain": [
       "      id  refractive  Sodium  Magnesium  Aluminum  Silicon  Potassium  \\\n",
       "0      1     1.52101   13.64       4.49      1.10    71.78       0.06   \n",
       "1      2     1.51761   13.89       3.60      1.36    72.73       0.48   \n",
       "2      3     1.51618   13.53       3.55      1.54    72.99       0.39   \n",
       "3      4     1.51766   13.21       3.69      1.29    72.61       0.57   \n",
       "4      5     1.51742   13.27       3.62      1.24    73.08       0.55   \n",
       "..   ...         ...     ...        ...       ...      ...        ...   \n",
       "209  210     1.51623   14.14       0.00      2.88    72.61       0.08   \n",
       "210  211     1.51685   14.92       0.00      1.99    73.06       0.00   \n",
       "211  212     1.52065   14.36       0.00      2.02    73.42       0.00   \n",
       "212  213     1.51651   14.38       0.00      1.94    73.61       0.00   \n",
       "213  214     1.51711   14.23       0.00      2.08    73.36       0.00   \n",
       "\n",
       "     Calcium  Barium  Iron  Type  \n",
       "0       8.75    0.00   0.0     1  \n",
       "1       7.83    0.00   0.0     1  \n",
       "2       7.78    0.00   0.0     1  \n",
       "3       8.22    0.00   0.0     1  \n",
       "4       8.07    0.00   0.0     1  \n",
       "..       ...     ...   ...   ...  \n",
       "209     9.18    1.06   0.0     7  \n",
       "210     8.40    1.59   0.0     7  \n",
       "211     8.44    1.64   0.0     7  \n",
       "212     8.48    1.57   0.0     7  \n",
       "213     8.62    1.67   0.0     7  \n",
       "\n",
       "[214 rows x 11 columns]"
      ]
     },
     "execution_count": 1,
     "metadata": {},
     "output_type": "execute_result"
    }
   ],
   "source": [
    "import numpy as np\n",
    "import pandas as pd\n",
    "pd.set_option('display.max_rows', 20)\n",
    "sh=pd.read_csv(r'C:\\Users\\YcAllenEffy\\Desktop\\glass.csv')\n",
    "df=sh.copy()\n",
    "df"
   ]
  },
  {
   "cell_type": "code",
   "execution_count": 6,
   "id": "9cf1cce5",
   "metadata": {
    "scrolled": true
   },
   "outputs": [
    {
     "data": {
      "text/plain": [
       "<AxesSubplot:>"
      ]
     },
     "execution_count": 6,
     "metadata": {},
     "output_type": "execute_result"
    },
    {
     "data": {
      "image/png": "[encoded data removed]",
      "text/plain": [
       "<Figure size 432x288 with 2 Axes>"
      ]
     },
     "metadata": {
      "needs_background": "light"
     },
     "output_type": "display_data"
    }
   ],
   "source": [
    "# 画热力图\n",
    "import seaborn as sns\n",
    "import matplotlib.pyplot as plt\n",
    "\n",
    "plt.rcParams['font.family']=['simhei']\n",
    "plt.rcParams['axes.unicode_minus']=False\n",
    "\n",
    "sns.heatmap(abs(df.iloc[:,1:-1].corr()),vmax=1,square=True,cmap='BuGn')"
   ]
  },
  {
   "cell_type": "code",
   "execution_count": 14,
   "id": "670696ab",
   "metadata": {},
   "outputs": [
    {
     "data": {
      "text/plain": [
       "0.6481481481481481"
      ]
     },
     "execution_count": 14,
     "metadata": {},
     "output_type": "execute_result"
    }
   ],
   "source": [
    "# 逻辑回归模型训练\n",
    "from sklearn.model_selection import train_test_split\n",
    "from sklearn.linear_model import LogisticRegression\n",
    "from sklearn.metrics import accuracy_score,recall_score,precision_score,f1_score\n",
    "\n",
    "#划分训练,测试集\n",
    "x_train,x_test,y_train,y_test = train_test_split(df.iloc[:,1:-1],df.iloc[:,-1],random_state=42)\n",
    "\n",
    "#训练模型\n",
    "model= LogisticRegression(solver='newton-cg')\n",
    "model.fit(x_train,y_train)\n",
    "#打分\n",
    "y_predict=model.predict(x_test)\n",
    "accuracy_score(y_test,y_predict)"
   ]
  },
  {
   "cell_type": "code",
   "execution_count": 31,
   "id": "1508a9f3",
   "metadata": {
    "scrolled": true
   },
   "outputs": [
    {
     "name": "stdout",
     "output_type": "stream",
     "text": [
      "1\n",
      "0.25925925925925924\n",
      "2\n",
      "0.7037037037037037\n",
      "3\n",
      "0.7037037037037037\n",
      "4\n",
      "0.6851851851851852\n",
      "5\n",
      "0.6481481481481481\n",
      "6\n",
      "0.7037037037037037\n",
      "7\n",
      "0.6481481481481481\n",
      "8\n",
      "0.6481481481481481\n",
      "9\n",
      "0.6481481481481481\n"
     ]
    }
   ],
   "source": [
    "# 主成分分析\n",
    "from sklearn.decomposition import PCA\n",
    "\n",
    "for i in range(9):\n",
    "    print(i+1)\n",
    "    p=PCA(n_components=i+1)\n",
    "\n",
    "    #划分训练,测试集\n",
    "    x_train,x_test,y_train,y_test = train_test_split(df.iloc[:,1:-1],df.iloc[:,-1],random_state=42)\n",
    "\n",
    "    x_train=p.fit_transform(x_train)\n",
    "    x_test=p.transform(x_test)\n",
    "\n",
    "    # 逻辑回归训练模型\n",
    "    model= LogisticRegression(solver='newton-cg')\n",
    "    model.fit(x_train,y_train)\n",
    "\n",
    "    #打分\n",
    "    y_predict=model.predict(x_test)\n",
    "    print(accuracy_score(y_test,y_predict))"
   ]
  },
  {
   "cell_type": "code",
   "execution_count": 32,
   "id": "0f22dd0c",
   "metadata": {},
   "outputs": [
    {
     "name": "stdout",
     "output_type": "stream",
     "text": [
      "主成分数量为1时, 准确率： 0.25925925925925924\n",
      "主成分数量为2时, 准确率： 0.7037037037037037\n",
      "主成分数量为3时, 准确率： 0.7037037037037037\n",
      "主成分数量为4时, 准确率： 0.6851851851851852\n",
      "主成分数量为5时, 准确率： 0.6481481481481481\n",
      "主成分数量为6时, 准确率： 0.7037037037037037\n",
      "主成分数量为7时, 准确率： 0.6481481481481481\n",
      "主成分数量为8时, 准确率： 0.6481481481481481\n",
      "主成分数量为9时, 准确率： 0.6481481481481481\n"
     ]
    },
    {
     "data": {
      "image/png": "[encoded data removed]",
      "text/plain": [
       "<Figure size 432x288 with 2 Axes>"
      ]
     },
     "metadata": {
      "needs_background": "light"
     },
     "output_type": "display_data"
    }
   ],
   "source": [
    "# 标准答案\n",
    "import pandas as pd\n",
    "import seaborn as sns\n",
    "import matplotlib.pyplot as plt\n",
    "from sklearn.model_selection import train_test_split\n",
    "from sklearn.linear_model import LogisticRegression\n",
    "from sklearn.metrics import accuracy_score\n",
    "from sklearn.decomposition import PCA\n",
    "\n",
    "plt.rcParams['axes.unicode_minus'] = False\n",
    "\n",
    "# 读取数据\n",
    "df = sh.copy()\n",
    "# 查看相关性\n",
    "sns.heatmap( abs( df.iloc[:,1:-1].corr() ), vmax=1, square=True, cmap='BuGn' )\n",
    "# 拆分数据集\n",
    "x_train, x_test, y_train, y_test = train_test_split( \n",
    "                    df.iloc[:,1:-1], df.iloc[:,-1], random_state=42 )\n",
    "\n",
    "# 主成分数量1~9，计算测试集预测的准确性\n",
    "for n in range(1, 10):\n",
    "    # 创建PCA工具，转换到新指标集\n",
    "    p = PCA(n_components=n)\n",
    "    pca_train = p.fit_transform( x_train )\n",
    "    pca_test = p.transform( x_test )\n",
    "    # 训练\n",
    "    model = LogisticRegression(solver='newton-cg')\n",
    "    model.fit( pca_train, y_train )\n",
    "    # 预测测试集\n",
    "    y_predict = model.predict( pca_test )\n",
    "    # 计算准确性\n",
    "    print(f'主成分数量为{n}时, 准确率：', accuracy_score( y_test, y_predict ))"
   ]
  }
 ],
 "metadata": {
  "kernelspec": {
   "display_name": "Python 3 (ipykernel)",
   "language": "python",
   "name": "python3"
  },
  "language_info": {
   "codemirror_mode": {
    "name": "ipython",
    "version": 3
   },
   "file_extension": ".py",
   "mimetype": "text/x-python",
   "name": "python",
   "nbconvert_exporter": "python",
   "pygments_lexer": "ipython3",
   "version": "3.8.3"
  }
 },
 "nbformat": 4,
 "nbformat_minor": 5
}
