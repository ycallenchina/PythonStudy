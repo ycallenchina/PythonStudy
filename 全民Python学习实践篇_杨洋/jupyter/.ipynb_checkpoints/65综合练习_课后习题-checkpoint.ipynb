{
 "cells": [
  {
   "cell_type": "markdown",
   "metadata": {},
   "source": [
    "### 假设要开发一个学校综合管理系统，你负责其中学生管理这个模块。因而需要定义两个类：学生名册类和学生类。\n",
    "\n",
    "其中学生类的每个对象都应该有姓名、年龄和分数三个属性，一个学生对象代表一个具体的学生；\n",
    "\n",
    "而学生名册类有一个“学生名单”属性，类型为列表，用于保存所有学生对象。同时该类提供一个add方法，当用户需要添加一个学生到“学生名单”中时，只要调用该方法，并把学生对象作为参数传递给它就可以。同时学生名册类还提供一个names方法，可以打印名单中所有学生的姓名。\n",
    "\n",
    "请按如上要求编写这两个类。然后在主程序中创建多个学生对象，再使用“学生名册”类的相关方法，将它们添加到名册中，最后把他们的姓名都打印在屏幕上。"
   ]
  },
  {
   "cell_type": "code",
   "execution_count": 3,
   "metadata": {},
   "outputs": [],
   "source": [
    "class Student_list():\n",
    "    def __init__(self):\n",
    "        self.S_L=[]\n",
    "    def add(self,student):\n",
    "        self.S_L.append(student)\n",
    "        \n",
    "    def show(self):\n",
    "        for i in self.S_L:\n",
    "            print(i.name)\n",
    "        \n",
    "        \n",
    "class Student():\n",
    "    def __init__(self,n,a,s):\n",
    "        self.name=n\n",
    "        self.age=a\n",
    "        self.scor=s"
   ]
  },
  {
   "cell_type": "code",
   "execution_count": 4,
   "metadata": {},
   "outputs": [
    {
     "name": "stdout",
     "output_type": "stream",
     "text": [
      "eff\n",
      "eff2\n",
      "eff3\n"
     ]
    }
   ],
   "source": [
    "a=Student('eff',11,33)\n",
    "b=Student('eff2',311,433)\n",
    "c=Student('eff3',211,533)\n",
    "\n",
    "d=Student_list()\n",
    "d.add(a)\n",
    "d.add(b)\n",
    "d.add(c)\n",
    "\n",
    "d.show()"
   ]
  },
  {
   "cell_type": "code",
   "execution_count": 5,
   "metadata": {
    "scrolled": true
   },
   "outputs": [
    {
     "name": "stdout",
     "output_type": "stream",
     "text": [
      "张三\n",
      "李四\n",
      "王五\n"
     ]
    }
   ],
   "source": [
    "# 标准答案\n",
    "\n",
    "class Student:\n",
    "\n",
    "    def __init__(self, name, age, score):\n",
    "\n",
    "        self.name = name\n",
    "\n",
    "        self.age = age\n",
    "\n",
    "        self.score = score\n",
    "\n",
    "\n",
    "\n",
    "class System:\n",
    "\n",
    "    def __init__(self):\n",
    "\n",
    "        self.stus = []\n",
    "\n",
    "\n",
    "\n",
    "    def add(self, stu):\n",
    "\n",
    "        self.stus.append(stu)\n",
    "\n",
    "\n",
    "\n",
    "    def names(self):\n",
    "\n",
    "        for stu in self.stus:\n",
    "\n",
    "            print(stu.name)\n",
    "\n",
    "\n",
    "\n",
    "sys = System()\n",
    "\n",
    "sys.add(Student('张三', 22, 87))\n",
    "\n",
    "sys.add(Student('李四', 21, 74))\n",
    "\n",
    "sys.add(Student('王五', 20, 92))\n",
    "\n",
    "sys.names()\n"
   ]
  },
  {
   "cell_type": "markdown",
   "metadata": {},
   "source": [
    "### 假设编写一个“CPU能力测试”程序时，需要创建 CPU 类和测试器类。其中 CPU 类拥有一个型号属性，而测试器类拥有测试方法，名为 test。\n",
    "\n",
    "调用测试器类的 test方法时，需要把一个CPU对象作为参数传递给它，然后该方法会显示出该CPU对象的具体型号、打印在屏幕上。\n",
    "\n",
    "编写上述类后，请在主程序中创建两个不同型号的CPU对象，然后用一个测试器类的对象，分别显示它们的型号。 "
   ]
  },
  {
   "cell_type": "code",
   "execution_count": 9,
   "metadata": {},
   "outputs": [],
   "source": [
    "class CPU():\n",
    "    def __init__(self,n):\n",
    "        self.name=n\n",
    "\n",
    "class chet():\n",
    "    def test(self,cpu):\n",
    "        print(cpu.name)"
   ]
  },
  {
   "cell_type": "code",
   "execution_count": 10,
   "metadata": {
    "scrolled": true
   },
   "outputs": [
    {
     "name": "stdout",
     "output_type": "stream",
     "text": [
      "5600\n",
      "5800\n"
     ]
    }
   ],
   "source": [
    "a=CPU('5600')\n",
    "b=CPU('5800')\n",
    "\n",
    "d=chet()\n",
    "d.test(a)\n",
    "d.test(b)"
   ]
  },
  {
   "cell_type": "code",
   "execution_count": null,
   "metadata": {},
   "outputs": [],
   "source": [
    "# 标准答案\n",
    "\n",
    "class Cpu:\n",
    "\n",
    "    def __init__(self, t):\n",
    "\n",
    "        self.type = t\n",
    "\n",
    "\n",
    "\n",
    "class Tester:\n",
    "\n",
    "    def test(self, cpu):\n",
    "\n",
    "        print('处理器的类型是：', cpu.type)\n",
    "\n",
    "\n",
    "\n",
    "cpu1 = Cpu('i7 4710hq')\n",
    "\n",
    "cpu2 = Cpu('i7 5300mq')\n",
    "\n",
    "t= Tester()\n",
    "\n",
    "t.test(cpu1)\n",
    "\n",
    "t.test(cpu2)\n"
   ]
  },
  {
   "cell_type": "markdown",
   "metadata": {},
   "source": [
    "###  假设正在编写一个工程设计计算软件，其中需要用到几个常用的几何形体类：\n",
    "\n",
    "长方体类Cuboid，拥有两个属性“底面积”s 和 “高度” h ，并有一个计算自己体积的方法 calc ，可以根据公式 s * h 计算出体积数值并返回。\n",
    "\n",
    "方锥体类Pyramid（即金字塔形状），也拥有两个属性“底面积”s 和 “高度” h ，并有一个计算自己体积的方法 calc ，可以根据公式 s * h / 3 计算出体积数值并返回。\n",
    "\n",
    "方尖碑类Obelisk，是由一个长方体类和一个方锥体类组合而成的物体。因而该类拥有两个属性，分别是一个长方体对象和一个方锥体对象。同时该方尖碑也拥有一个方法calc，可以计算返回方尖碑的体积，计算方法就是将两个属性（长方体与方锥体）的体积相加。\n",
    "\n",
    "请按上述要求编写这三个类的代码。然后在主程序中创建一个长方体、一个方椎体，并用二者作为属性创建一个方尖碑对象。接下来让该方尖碑对象打印出自己的总体积"
   ]
  },
  {
   "cell_type": "code",
   "execution_count": 18,
   "metadata": {},
   "outputs": [],
   "source": [
    "class Cuboid():\n",
    "    def __init__(self, s,h):\n",
    "        self.s=s\n",
    "        self.h=h\n",
    "\n",
    "    def calc (self):\n",
    "        return self.s*self.h\n",
    "\n",
    "class Pyramid():\n",
    "    def __init__(self, s,h):\n",
    "        self.s=s\n",
    "        self.h=h\n",
    "    def calc(self):\n",
    "        return self.s*self.h/3\n",
    "\n",
    "class Obelisk():\n",
    "    \n",
    "    def __init__(self,cu,py):\n",
    "        self.cu=cu\n",
    "        self.py=py\n",
    "    def calc(self):\n",
    "        print(self.cu.calc()+self.py.calc())\n",
    "\n",
    "        "
   ]
  },
  {
   "cell_type": "code",
   "execution_count": 19,
   "metadata": {},
   "outputs": [
    {
     "name": "stdout",
     "output_type": "stream",
     "text": [
      "15.333333333333334\n"
     ]
    }
   ],
   "source": [
    "a=Cuboid(3,4)\n",
    "b=Pyramid(2,5)\n",
    "\n",
    "c=Obelisk(a,b)\n",
    "c.calc()"
   ]
  },
  {
   "cell_type": "code",
   "execution_count": 17,
   "metadata": {},
   "outputs": [
    {
     "name": "stdout",
     "output_type": "stream",
     "text": [
      "525.0\n"
     ]
    }
   ],
   "source": [
    "# 标准答案\n",
    "\n",
    "# 立方体类\n",
    "\n",
    "class Cuboid:\n",
    "\n",
    "    def __init__(self, s, h):\n",
    "\n",
    "        self.s = s\n",
    "\n",
    "        self.h = h\n",
    "\n",
    "\n",
    "\n",
    "    def calc(self):\n",
    "\n",
    "        return self.s * self.h\n",
    "\n",
    "# 方锥体类\n",
    "\n",
    "class Pyramid:\n",
    "\n",
    "    def __init__(self, s, h):\n",
    "\n",
    "        self.s = s\n",
    "\n",
    "        self.h = h\n",
    "\n",
    "\n",
    "\n",
    "    def calc(self):\n",
    "\n",
    "        return self.s * self.h / 3\n",
    "\n",
    "\n",
    "\n",
    "# 方尖碑类\n",
    "\n",
    "class Obelisk:\n",
    "\n",
    "    def __init__(self, c, p):\n",
    "\n",
    "        self.cuboid = c\n",
    "\n",
    "        self.pyramid = p\n",
    "\n",
    "\n",
    "\n",
    "    def calc(self):\n",
    "\n",
    "        cub = self.cuboid.calc()\n",
    "\n",
    "        pyr = self.pyramid.calc()\n",
    "\n",
    "        print(cub + pyr)\n",
    "\n",
    "\n",
    "\n",
    "if __name__ == '__main__':\n",
    "\n",
    "    cub = Cuboid(25, 20)\n",
    "\n",
    "    pyr = Pyramid(25, 3)\n",
    "\n",
    "    obe = Obelisk(cub, pyr)\n",
    "\n",
    "    obe.calc()\n"
   ]
  }
 ],
 "metadata": {
  "kernelspec": {
   "display_name": "Python 3",
   "language": "python",
   "name": "python3"
  },
  "language_info": {
   "codemirror_mode": {
    "name": "ipython",
    "version": 3
   },
   "file_extension": ".py",
   "mimetype": "text/x-python",
   "name": "python",
   "nbconvert_exporter": "python",
   "pygments_lexer": "ipython3",
   "version": "3.8.3"
  }
 },
 "nbformat": 4,
 "nbformat_minor": 4
}
