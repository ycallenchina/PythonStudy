{
 "cells": [
  {
   "cell_type": "markdown",
   "metadata": {},
   "source": [
    "### 请先下载 压缩文件（zip格式），解压后在pygame文件夹下有一张背景图片和五张猫的图片。\n",
    "请使用pygame模块编写一个窗口动画，让其中三只猫从左向右移动，另外两只猫从右向左移动，直到左面的猫移动到屏幕边缘关闭窗口。 "
   ]
  },
  {
   "cell_type": "code",
   "execution_count": 6,
   "metadata": {},
   "outputs": [],
   "source": [
    "import random \n",
    "import pygame\n",
    "\n"
   ]
  },
  {
   "cell_type": "code",
   "execution_count": 7,
   "metadata": {},
   "outputs": [],
   "source": [
    "class Cat():\n",
    "    def __init__(self,n,s,img,y,x):\n",
    "        self.name=n\n",
    "        self.speed=s\n",
    "        self.__image=pygame.image.load(img)\n",
    "        self.__y=y\n",
    "        self.__x=x\n",
    "    def run(self):\n",
    "        self.__x+=round(self.speed*random.random())\n",
    "    def get_image(self):\n",
    "        return self.__image\n",
    "    def get_location(self):\n",
    "        return(self.__x,self.__y)"
   ]
  },
  {
   "cell_type": "code",
   "execution_count": 8,
   "metadata": {},
   "outputs": [
    {
     "name": "stdout",
     "output_type": "stream",
     "text": [
      "游戏结束\n"
     ]
    }
   ],
   "source": [
    "pygame.init()\n",
    "screen=pygame.display.set_mode((800,600))\n",
    "img_bg=pygame.image.load('C:/Users/YcAllenEffy/Desktop/pygame/bg.png')\n",
    "c_list=[Cat('Effy',30,'C:/Users/YcAllenEffy/Desktop/pygame/cat_green.png',400,0),\n",
    "        Cat('Effy',30,'C:/Users/YcAllenEffy/Desktop/pygame/cat_purple.png',500,0),\n",
    "        Cat('Effy',-2,'C:/Users/YcAllenEffy/Desktop/pygame/cat_red.png',300,800),\n",
    "        Cat('Effy',-5,'C:/Users/YcAllenEffy/Desktop/pygame/cat_yellow.png',450,800),\n",
    "        Cat('Effy',30,'C:/Users/YcAllenEffy/Desktop/pygame/cat_blue.png',200,0),\n",
    "       ]\n",
    "stop=1 #结束按钮 =1无限循环,=0则结束\n",
    "while stop:\n",
    "    screen.blit(img_bg,(0,0))\n",
    "    \n",
    "    for c in c_list:\n",
    "        screen.blit(c.get_image(),c.get_location())\n",
    "        c.run()\n",
    "        a,b=c.get_location()\n",
    "        if a>800:\n",
    "            print('游戏结束')\n",
    "            stop=0\n",
    "    \n",
    "    pygame.display.update()\n",
    "    pygame.time.delay(50)\n",
    "\n",
    "pygame.quit()"
   ]
  },
  {
   "cell_type": "markdown",
   "metadata": {},
   "source": [
    "### 标准答案"
   ]
  },
  {
   "cell_type": "code",
   "execution_count": 5,
   "metadata": {},
   "outputs": [],
   "source": [
    "import pygame\n",
    "\n",
    "pygame.init()\n",
    "\n",
    "\n",
    "screen = pygame.display.set_mode((1280, 731))\n",
    "\n",
    "img_cat_blue = pygame.image.load('d:/pygame/cat_blue.png')\n",
    "img_cat_green = pygame.image.load('d:/pygame/cat_green.png')\n",
    "img_cat_purple = pygame.image.load('d:/pygame/cat_purple.png')\n",
    "img_cat_red = pygame.image.load('d:/pygame/cat_red.png')\n",
    "img_cat_yellow = pygame.image.load('d:/pygame/cat_yellow.png')\n",
    "img_bg = pygame.image.load('d:/pygame/bg.png')\n",
    "\n",
    "i = 0\n",
    "j = 1280\n",
    "while True:\n",
    "    screen.blit(img_bg, (0, 0))\n",
    "    screen.blit(img_cat_blue, (i, 200))\n",
    "    screen.blit(img_cat_green, (i, 300))\n",
    "    screen.blit(img_cat_purple, (i, 400))\n",
    "    screen.blit(img_cat_red, (j, 500))\n",
    "    screen.blit(img_cat_yellow, (j, 600))\n",
    "    pygame.display.update()\n",
    "    pygame.time.delay(300)\n",
    "    i += 100\n",
    "    j -= 100\n",
    "\n",
    "    if i >= 1280:\n",
    "        break\n",
    "\n",
    "pygame.quit()\n"
   ]
  }
 ],
 "metadata": {
  "kernelspec": {
   "display_name": "Python 3",
   "language": "python",
   "name": "python3"
  },
  "language_info": {
   "codemirror_mode": {
    "name": "ipython",
    "version": 3
   },
   "file_extension": ".py",
   "mimetype": "text/x-python",
   "name": "python",
   "nbconvert_exporter": "python",
   "pygments_lexer": "ipython3",
   "version": "3.8.3"
  }
 },
 "nbformat": 4,
 "nbformat_minor": 4
}
