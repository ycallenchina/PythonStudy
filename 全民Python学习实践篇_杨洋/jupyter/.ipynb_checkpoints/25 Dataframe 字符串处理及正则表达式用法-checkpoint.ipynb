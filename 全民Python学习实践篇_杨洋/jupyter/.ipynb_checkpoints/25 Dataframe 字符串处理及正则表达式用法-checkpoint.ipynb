{
 "cells": [
  {
   "cell_type": "markdown",
   "metadata": {},
   "source": [
    "### DF取值里的文本切片用法\n",
    "\n",
    "  df['列1'].str[:3]  取列1 里所有前3个文本值.\n",
    "\n",
    "### str里的其他方法\n",
    "    \n",
    "\n",
    "  df['列1'].str.contains('L') 找出列1里包含L文本的值   返回布尔数组\n",
    "\n",
    "  len(n) 找出列1里长度为n的文本的值   返回布尔数组\n",
    "  \n",
    "  startswith('文本')  找出列1里以文本的开头值   返回布尔数组\n",
    "\n",
    "\n",
    "\n",
    "### 正则表达式用法 \n",
    "\n",
    "  df['列1'].str.match('正则式')    返回布尔数组\n",
    "\n",
    "### 正则替换用法\n",
    "\n",
    "  df['列1'].str.replace('正则式',r'\\1',reger=True) 抽取出正则式里 捕获者1里的值 reger=True为替换  返回替换的文本"
   ]
  }
 ],
 "metadata": {
  "kernelspec": {
   "display_name": "Python 3",
   "language": "python",
   "name": "python3"
  },
  "language_info": {
   "codemirror_mode": {
    "name": "ipython",
    "version": 3
   },
   "file_extension": ".py",
   "mimetype": "text/x-python",
   "name": "python",
   "nbconvert_exporter": "python",
   "pygments_lexer": "ipython3",
   "version": "3.8.3"
  }
 },
 "nbformat": 4,
 "nbformat_minor": 4
}
