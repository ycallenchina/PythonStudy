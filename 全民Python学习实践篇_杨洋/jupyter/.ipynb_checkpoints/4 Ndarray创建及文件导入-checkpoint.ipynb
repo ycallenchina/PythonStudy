{
 "cells": [
  {
   "cell_type": "markdown",
   "metadata": {},
   "source": [
    "## 创建ndarray"
   ]
  },
  {
   "cell_type": "code",
   "execution_count": 1,
   "metadata": {},
   "outputs": [
    {
     "data": {
      "text/plain": [
       "array(['1', '2', '3', 'abc', 'qqq'], dtype='<U21')"
      ]
     },
     "execution_count": 1,
     "metadata": {},
     "output_type": "execute_result"
    }
   ],
   "source": [
    "import numpy as np\n",
    "import pandas as pd\n",
    "x=[1,2,3,'abc','qqq']\n",
    "x_nd=np.array(x)#创建ndarray方法\n",
    "x_nd"
   ]
  },
  {
   "cell_type": "markdown",
   "metadata": {},
   "source": [
    "## 笔记---创建ndarray注意\n",
    "####    结构会强制统一.\n",
    "#### \t向上兼容法则\n",
    "    向上兼容法制:在容器转换为ndarray时,\n",
    "    如果遇到容器内容里类型不统一的情况下\n",
    "    ndarray会强制统一容器里的内容.\n",
    "    并使用向上兼容法制:整数-浮点数-字符串.\n",
    "    法则为:有字符串就全都字符串,没有就全浮点,再没有就整数.\n",
    "####    dtype='U11' \n",
    "    表示用的时unico 11长度类型"
   ]
  },
  {
   "cell_type": "markdown",
   "metadata": {},
   "source": [
    "## List转化为ndarry_创建多维数组"
   ]
  },
  {
   "cell_type": "code",
   "execution_count": 6,
   "metadata": {},
   "outputs": [
    {
     "data": {
      "text/plain": [
       "[[3, 5, 7], [2, 5, 6]]"
      ]
     },
     "execution_count": 6,
     "metadata": {},
     "output_type": "execute_result"
    }
   ],
   "source": [
    "x=[[3,5,7],[2,5,6]]\n",
    "x_nd=np.array(x)\n",
    "x"
   ]
  },
  {
   "cell_type": "markdown",
   "metadata": {},
   "source": [
    "#### 对于长度不一致者,不推荐进行ndarray转换操作"
   ]
  },
  {
   "cell_type": "code",
   "execution_count": 8,
   "metadata": {},
   "outputs": [
    {
     "data": {
      "text/plain": [
       "array([list([3, 5]), list([2, 5, 6])], dtype=object)"
      ]
     },
     "execution_count": 8,
     "metadata": {},
     "output_type": "execute_result"
    }
   ],
   "source": [
    "x2=[[3,5,],[2,5,6]]\n",
    "x2_nd=np.array(x)\n",
    "x2_nd"
   ]
  },
  {
   "cell_type": "markdown",
   "metadata": {},
   "source": [
    "## 函数生成数组\n",
    "#### numpy.zeros 生成内容都为0的数组\n",
    "#### numpy.ones\n",
    "#### numpy.eye\n",
    "#### numpy.arange\n",
    "    zeros((n,m),dtype='int'):其中n表示行数,m表示列数,dtype表示指定数据类型\n",
    "    zeros((1,2,3...n),dtype='int') :其中用zeros生成n为数组."
   ]
  },
  {
   "cell_type": "code",
   "execution_count": 5,
   "metadata": {},
   "outputs": [
    {
     "data": {
      "text/plain": [
       "array([[0, 0, 0, 0],\n",
       "       [0, 0, 0, 0],\n",
       "       [0, 0, 0, 0]])"
      ]
     },
     "execution_count": 5,
     "metadata": {},
     "output_type": "execute_result"
    }
   ],
   "source": [
    "a=np.zeros((3,4),dtype='int')\n",
    "a"
   ]
  },
  {
   "cell_type": "code",
   "execution_count": 10,
   "metadata": {},
   "outputs": [
    {
     "data": {
      "text/plain": [
       "array([[1., 1., 1., 1.],\n",
       "       [1., 1., 1., 1.],\n",
       "       [1., 1., 1., 1.]])"
      ]
     },
     "execution_count": 10,
     "metadata": {},
     "output_type": "execute_result"
    }
   ],
   "source": [
    "a=np.ones((3,4))\n",
    "a"
   ]
  },
  {
   "cell_type": "markdown",
   "metadata": {},
   "source": [
    "####  eye的参数只能是纯数字"
   ]
  },
  {
   "cell_type": "code",
   "execution_count": 16,
   "metadata": {},
   "outputs": [
    {
     "data": {
      "text/plain": [
       "array([[0., 0., 0.],\n",
       "       [0., 0., 0.],\n",
       "       [0., 0., 0.],\n",
       "       [1., 0., 0.],\n",
       "       [0., 1., 0.],\n",
       "       [0., 0., 1.]])"
      ]
     },
     "execution_count": 16,
     "metadata": {},
     "output_type": "execute_result"
    }
   ],
   "source": [
    "a=np.eye(6,3,k=-3)\n",
    "a"
   ]
  },
  {
   "cell_type": "markdown",
   "metadata": {},
   "source": [
    "#### arange参数:起始值,末值,步长(步长可用任意实数) "
   ]
  },
  {
   "cell_type": "code",
   "execution_count": 16,
   "metadata": {},
   "outputs": [
    {
     "data": {
      "text/plain": [
       "array([-5.0000000e+00, -4.8000000e+00, -4.6000000e+00, -4.4000000e+00,\n",
       "       -4.2000000e+00, -4.0000000e+00, -3.8000000e+00, -3.6000000e+00,\n",
       "       -3.4000000e+00, -3.2000000e+00, -3.0000000e+00, -2.8000000e+00,\n",
       "       -2.6000000e+00, -2.4000000e+00, -2.2000000e+00, -2.0000000e+00,\n",
       "       -1.8000000e+00, -1.6000000e+00, -1.4000000e+00, -1.2000000e+00,\n",
       "       -1.0000000e+00, -8.0000000e-01, -6.0000000e-01, -4.0000000e-01,\n",
       "       -2.0000000e-01,  4.4408921e-15,  2.0000000e-01,  4.0000000e-01,\n",
       "        6.0000000e-01,  8.0000000e-01,  1.0000000e+00,  1.2000000e+00,\n",
       "        1.4000000e+00,  1.6000000e+00,  1.8000000e+00,  2.0000000e+00,\n",
       "        2.2000000e+00,  2.4000000e+00,  2.6000000e+00,  2.8000000e+00,\n",
       "        3.0000000e+00,  3.2000000e+00,  3.4000000e+00,  3.6000000e+00,\n",
       "        3.8000000e+00,  4.0000000e+00,  4.2000000e+00,  4.4000000e+00,\n",
       "        4.6000000e+00,  4.8000000e+00,  5.0000000e+00,  5.2000000e+00,\n",
       "        5.4000000e+00,  5.6000000e+00,  5.8000000e+00,  6.0000000e+00,\n",
       "        6.2000000e+00,  6.4000000e+00,  6.6000000e+00,  6.8000000e+00,\n",
       "        7.0000000e+00,  7.2000000e+00,  7.4000000e+00,  7.6000000e+00,\n",
       "        7.8000000e+00,  8.0000000e+00,  8.2000000e+00,  8.4000000e+00,\n",
       "        8.6000000e+00,  8.8000000e+00,  9.0000000e+00,  9.2000000e+00,\n",
       "        9.4000000e+00,  9.6000000e+00,  9.8000000e+00])"
      ]
     },
     "execution_count": 16,
     "metadata": {},
     "output_type": "execute_result"
    }
   ],
   "source": [
    "a=np.arange(-5,10,0.2)\n",
    "a"
   ]
  },
  {
   "cell_type": "markdown",
   "metadata": {},
   "source": [
    "# 函数生成随机数组 "
   ]
  },
  {
   "cell_type": "markdown",
   "metadata": {},
   "source": [
    "###  np.random.rand(n,m)   生成0-1之间的随机浮点数.n表示二维行数,m表示二维的列数.同理可以生成n维数组"
   ]
  },
  {
   "cell_type": "code",
   "execution_count": 19,
   "metadata": {},
   "outputs": [
    {
     "data": {
      "text/plain": [
       "array([[[0.65223449, 0.45127684],\n",
       "        [0.50244101, 0.74849236],\n",
       "        [0.34343917, 0.32512683],\n",
       "        [0.88560915, 0.2856679 ],\n",
       "        [0.75653804, 0.92381515]],\n",
       "\n",
       "       [[0.04122019, 0.70288853],\n",
       "        [0.69128509, 0.2773773 ],\n",
       "        [0.01689837, 0.75720934],\n",
       "        [0.16810786, 0.41126833],\n",
       "        [0.50565065, 0.83988771]],\n",
       "\n",
       "       [[0.83125158, 0.28311114],\n",
       "        [0.92143017, 0.38704139],\n",
       "        [0.9375427 , 0.98079614],\n",
       "        [0.66772558, 0.3568215 ],\n",
       "        [0.52662681, 0.45399264]]])"
      ]
     },
     "execution_count": 19,
     "metadata": {},
     "output_type": "execute_result"
    }
   ],
   "source": [
    "a=np.random.rand(3,5,2)\n",
    "a"
   ]
  },
  {
   "cell_type": "markdown",
   "metadata": {},
   "source": [
    "###  np.random.randint(n,m,(a,b)) 生成n到m之间,a行b列的整数 数组,同理可以生成n维数组"
   ]
  },
  {
   "cell_type": "code",
   "execution_count": 20,
   "metadata": {},
   "outputs": [
    {
     "data": {
      "text/plain": [
       "array([[3, 3, 3, 4],\n",
       "       [3, 3, 4, 4]])"
      ]
     },
     "execution_count": 20,
     "metadata": {},
     "output_type": "execute_result"
    }
   ],
   "source": [
    "a=np.random.randint(3,5,(2,4))\n",
    "a"
   ]
  },
  {
   "cell_type": "markdown",
   "metadata": {},
   "source": [
    "### np.random.choice(容器,(a,b)) 生成容器里的随机内容 a行b列的数组,同理可以生成n维数组  "
   ]
  },
  {
   "cell_type": "code",
   "execution_count": 21,
   "metadata": {},
   "outputs": [
    {
     "data": {
      "text/plain": [
       "array([['hzc', 'effy', 'hzc', 'effy'],\n",
       "       ['hzc', 'yc', 'hzc', 'yc']], dtype='<U4')"
      ]
     },
     "execution_count": 21,
     "metadata": {},
     "output_type": "execute_result"
    }
   ],
   "source": [
    "a=np.random.choice(['effy','yc','hzc'],(2,4))\n",
    "a"
   ]
  },
  {
   "cell_type": "markdown",
   "metadata": {},
   "source": [
    "####  randn():生成正太分布的随机数组\n",
    "#### uniform():生成均匀分布的随机数组\n",
    "#### 原理 unmpy.random.uniform(low,high,size)\n",
    "参数介绍\n",
    "low: 采样下界，float类型，默认值为0；\n",
    "high: 采样上界，float类型，默认值为1；\n",
    "size: 输出样本数目，为int或元组(tuple)类型。"
   ]
  },
  {
   "cell_type": "code",
   "execution_count": 30,
   "metadata": {},
   "outputs": [
    {
     "data": {
      "text/plain": [
       "array([-1.6926366 ,  1.58756638,  1.27616739, -0.99591706,  0.82804245,\n",
       "        0.46640318,  0.70172534, -0.14365167, -0.16060971, -1.20817886,\n",
       "        1.01495705, -0.24882355,  0.85675958, -1.32518189, -0.45415176,\n",
       "        0.69611979, -1.23120054,  0.66996591,  0.83803414, -1.12598985,\n",
       "        0.55741442,  0.35854877,  0.3107181 , -0.21572961, -0.17769848,\n",
       "        0.21826914, -0.75557324, -0.65265343,  0.42744947, -0.67862965,\n",
       "        0.80134908,  0.37714009, -1.74817265, -1.1392957 ,  0.42560811,\n",
       "       -0.08989821,  0.61812575, -1.37065181,  1.63862686,  0.12030335,\n",
       "        0.51247356, -0.93646503,  0.13329695, -0.67036231, -0.07277363,\n",
       "       -0.13888275,  0.33887263,  0.47630104, -1.64189961, -1.32002831,\n",
       "       -0.51904264,  1.02284931,  1.18717883,  0.71271506, -1.04851128,\n",
       "        0.36196901, -1.71469217,  0.14866454,  0.49281777, -0.22274532,\n",
       "        0.50173084,  0.67795732,  0.26661083,  1.39852328,  0.146033  ,\n",
       "       -1.06929571, -2.38208589,  1.10104811, -1.04710018, -1.26398676,\n",
       "        0.89268983,  0.68093118, -0.20194534, -1.57418695,  0.60436154,\n",
       "        0.62301559,  0.43979261, -0.6781877 , -0.85638046, -0.58160809,\n",
       "       -1.52222786, -0.37710651,  1.72707141, -0.26040297,  0.23992937,\n",
       "        0.56218758,  0.11958474,  1.07266826,  1.09745284,  1.34377679,\n",
       "       -0.64605145, -0.25386585,  0.40394934,  0.70867892, -0.96049639,\n",
       "        0.34185543,  1.18632667, -0.65592527,  0.33927564, -0.55732547])"
      ]
     },
     "execution_count": 30,
     "metadata": {},
     "output_type": "execute_result"
    }
   ],
   "source": [
    "a=np.random.randn(100)#生成2行10列的正态分布随机数组\n",
    "a"
   ]
  },
  {
   "cell_type": "code",
   "execution_count": 18,
   "metadata": {},
   "outputs": [
    {
     "data": {
      "text/plain": [
       "array([80.54530191, 88.91323891, 37.95133889,  3.15211735, 69.61350311,\n",
       "       34.6062457 , 96.92638729, 22.17259073, 65.13475443, 43.02650781])"
      ]
     },
     "execution_count": 18,
     "metadata": {},
     "output_type": "execute_result"
    }
   ],
   "source": [
    "a=np.random.uniform(1,100,10)#10个均匀的1-10数组\n",
    "a"
   ]
  },
  {
   "cell_type": "markdown",
   "metadata": {},
   "source": [
    "### 转化为dataframe 后用图标画出随机数组."
   ]
  },
  {
   "cell_type": "code",
   "execution_count": 31,
   "metadata": {},
   "outputs": [
    {
     "data": {
      "text/html": [
       "<div>\n",
       "<style scoped>\n",
       "    .dataframe tbody tr th:only-of-type {\n",
       "        vertical-align: middle;\n",
       "    }\n",
       "\n",
       "    .dataframe tbody tr th {\n",
       "        vertical-align: top;\n",
       "    }\n",
       "\n",
       "    .dataframe thead th {\n",
       "        text-align: right;\n",
       "    }\n",
       "</style>\n",
       "<table border=\"1\" class=\"dataframe\">\n",
       "  <thead>\n",
       "    <tr style=\"text-align: right;\">\n",
       "      <th></th>\n",
       "      <th>0</th>\n",
       "    </tr>\n",
       "  </thead>\n",
       "  <tbody>\n",
       "    <tr>\n",
       "      <th>0</th>\n",
       "      <td>-1.692637</td>\n",
       "    </tr>\n",
       "    <tr>\n",
       "      <th>1</th>\n",
       "      <td>1.587566</td>\n",
       "    </tr>\n",
       "    <tr>\n",
       "      <th>2</th>\n",
       "      <td>1.276167</td>\n",
       "    </tr>\n",
       "    <tr>\n",
       "      <th>3</th>\n",
       "      <td>-0.995917</td>\n",
       "    </tr>\n",
       "    <tr>\n",
       "      <th>4</th>\n",
       "      <td>0.828042</td>\n",
       "    </tr>\n",
       "    <tr>\n",
       "      <th>...</th>\n",
       "      <td>...</td>\n",
       "    </tr>\n",
       "    <tr>\n",
       "      <th>95</th>\n",
       "      <td>0.341855</td>\n",
       "    </tr>\n",
       "    <tr>\n",
       "      <th>96</th>\n",
       "      <td>1.186327</td>\n",
       "    </tr>\n",
       "    <tr>\n",
       "      <th>97</th>\n",
       "      <td>-0.655925</td>\n",
       "    </tr>\n",
       "    <tr>\n",
       "      <th>98</th>\n",
       "      <td>0.339276</td>\n",
       "    </tr>\n",
       "    <tr>\n",
       "      <th>99</th>\n",
       "      <td>-0.557325</td>\n",
       "    </tr>\n",
       "  </tbody>\n",
       "</table>\n",
       "<p>100 rows × 1 columns</p>\n",
       "</div>"
      ],
      "text/plain": [
       "           0\n",
       "0  -1.692637\n",
       "1   1.587566\n",
       "2   1.276167\n",
       "3  -0.995917\n",
       "4   0.828042\n",
       "..       ...\n",
       "95  0.341855\n",
       "96  1.186327\n",
       "97 -0.655925\n",
       "98  0.339276\n",
       "99 -0.557325\n",
       "\n",
       "[100 rows x 1 columns]"
      ]
     },
     "execution_count": 31,
     "metadata": {},
     "output_type": "execute_result"
    }
   ],
   "source": [
    "df = pd.DataFrame(a)\n",
    "df"
   ]
  },
  {
   "cell_type": "code",
   "execution_count": 32,
   "metadata": {},
   "outputs": [
    {
     "data": {
      "text/plain": [
       "<matplotlib.collections.PathCollection at 0x7febe1a2cfa0>"
      ]
     },
     "execution_count": 32,
     "metadata": {},
     "output_type": "execute_result"
    },
    {
     "data": {
      "image/png": "[encoded data removed]",
      "text/plain": [
       "<Figure size 432x288 with 1 Axes>"
      ]
     },
     "metadata": {
      "needs_background": "light"
     },
     "output_type": "display_data"
    }
   ],
   "source": [
    "import matplotlib.pyplot as plt\n",
    "plt.figure(1)\n",
    "plt.scatter(df.index,df[0])"
   ]
  },
  {
   "cell_type": "markdown",
   "metadata": {},
   "source": [
    "# 导入文件_ndarray "
   ]
  },
  {
   "cell_type": "markdown",
   "metadata": {},
   "source": [
    "###  np.loadtxt('导入路径',delimiter=',')分隔符号为,号.也可以指定数据类型,dtype='int'"
   ]
  },
  {
   "cell_type": "markdown",
   "metadata": {},
   "source": [
    "### np.genfromtxt用法与loadtxt类似,增多了filling_values参数,可以filling_values=0指定空置内容等于0."
   ]
  }
 ],
 "metadata": {
  "kernelspec": {
   "display_name": "Python 3 (ipykernel)",
   "language": "python",
   "name": "python3"
  },
  "language_info": {
   "codemirror_mode": {
    "name": "ipython",
    "version": 3
   },
   "file_extension": ".py",
   "mimetype": "text/x-python",
   "name": "python",
   "nbconvert_exporter": "python",
   "pygments_lexer": "ipython3",
   "version": "3.8.8"
  }
 },
 "nbformat": 4,
 "nbformat_minor": 4
}
