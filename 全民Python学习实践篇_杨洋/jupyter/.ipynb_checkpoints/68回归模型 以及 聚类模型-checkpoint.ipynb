{
 "cells": [
  {
   "cell_type": "markdown",
   "id": "282422e0",
   "metadata": {},
   "source": [
    "###     读取 汽车燃油数据 ，使用 LinearRegression 线性回归预测测试集的油耗里程，求MSE与R²。"
   ]
  },
  {
   "cell_type": "code",
   "execution_count": 1,
   "id": "557d0721",
   "metadata": {
    "scrolled": true
   },
   "outputs": [
    {
     "data": {
      "text/html": [
       "<div>\n",
       "<style scoped>\n",
       "    .dataframe tbody tr th:only-of-type {\n",
       "        vertical-align: middle;\n",
       "    }\n",
       "\n",
       "    .dataframe tbody tr th {\n",
       "        vertical-align: top;\n",
       "    }\n",
       "\n",
       "    .dataframe thead th {\n",
       "        text-align: right;\n",
       "    }\n",
       "</style>\n",
       "<table border=\"1\" class=\"dataframe\">\n",
       "  <thead>\n",
       "    <tr style=\"text-align: right;\">\n",
       "      <th></th>\n",
       "      <th>油耗里程</th>\n",
       "      <th>气缸数</th>\n",
       "      <th>排量</th>\n",
       "      <th>马力</th>\n",
       "      <th>重量</th>\n",
       "      <th>加速度</th>\n",
       "    </tr>\n",
       "  </thead>\n",
       "  <tbody>\n",
       "    <tr>\n",
       "      <th>0</th>\n",
       "      <td>18.0</td>\n",
       "      <td>8</td>\n",
       "      <td>307.0</td>\n",
       "      <td>130.0</td>\n",
       "      <td>3504.0</td>\n",
       "      <td>12.0</td>\n",
       "    </tr>\n",
       "    <tr>\n",
       "      <th>1</th>\n",
       "      <td>15.0</td>\n",
       "      <td>8</td>\n",
       "      <td>350.0</td>\n",
       "      <td>165.0</td>\n",
       "      <td>3693.0</td>\n",
       "      <td>11.5</td>\n",
       "    </tr>\n",
       "    <tr>\n",
       "      <th>2</th>\n",
       "      <td>18.0</td>\n",
       "      <td>8</td>\n",
       "      <td>318.0</td>\n",
       "      <td>150.0</td>\n",
       "      <td>3436.0</td>\n",
       "      <td>11.0</td>\n",
       "    </tr>\n",
       "    <tr>\n",
       "      <th>3</th>\n",
       "      <td>16.0</td>\n",
       "      <td>8</td>\n",
       "      <td>304.0</td>\n",
       "      <td>150.0</td>\n",
       "      <td>3433.0</td>\n",
       "      <td>12.0</td>\n",
       "    </tr>\n",
       "    <tr>\n",
       "      <th>4</th>\n",
       "      <td>17.0</td>\n",
       "      <td>8</td>\n",
       "      <td>302.0</td>\n",
       "      <td>140.0</td>\n",
       "      <td>3449.0</td>\n",
       "      <td>10.5</td>\n",
       "    </tr>\n",
       "    <tr>\n",
       "      <th>...</th>\n",
       "      <td>...</td>\n",
       "      <td>...</td>\n",
       "      <td>...</td>\n",
       "      <td>...</td>\n",
       "      <td>...</td>\n",
       "      <td>...</td>\n",
       "    </tr>\n",
       "    <tr>\n",
       "      <th>387</th>\n",
       "      <td>27.0</td>\n",
       "      <td>4</td>\n",
       "      <td>140.0</td>\n",
       "      <td>86.0</td>\n",
       "      <td>2790.0</td>\n",
       "      <td>15.6</td>\n",
       "    </tr>\n",
       "    <tr>\n",
       "      <th>388</th>\n",
       "      <td>44.0</td>\n",
       "      <td>4</td>\n",
       "      <td>97.0</td>\n",
       "      <td>52.0</td>\n",
       "      <td>2130.0</td>\n",
       "      <td>24.6</td>\n",
       "    </tr>\n",
       "    <tr>\n",
       "      <th>389</th>\n",
       "      <td>32.0</td>\n",
       "      <td>4</td>\n",
       "      <td>135.0</td>\n",
       "      <td>84.0</td>\n",
       "      <td>2295.0</td>\n",
       "      <td>11.6</td>\n",
       "    </tr>\n",
       "    <tr>\n",
       "      <th>390</th>\n",
       "      <td>28.0</td>\n",
       "      <td>4</td>\n",
       "      <td>120.0</td>\n",
       "      <td>79.0</td>\n",
       "      <td>2625.0</td>\n",
       "      <td>18.6</td>\n",
       "    </tr>\n",
       "    <tr>\n",
       "      <th>391</th>\n",
       "      <td>31.0</td>\n",
       "      <td>4</td>\n",
       "      <td>119.0</td>\n",
       "      <td>82.0</td>\n",
       "      <td>2720.0</td>\n",
       "      <td>19.4</td>\n",
       "    </tr>\n",
       "  </tbody>\n",
       "</table>\n",
       "<p>392 rows × 6 columns</p>\n",
       "</div>"
      ],
      "text/plain": [
       "     油耗里程  气缸数     排量     马力      重量   加速度\n",
       "0    18.0    8  307.0  130.0  3504.0  12.0\n",
       "1    15.0    8  350.0  165.0  3693.0  11.5\n",
       "2    18.0    8  318.0  150.0  3436.0  11.0\n",
       "3    16.0    8  304.0  150.0  3433.0  12.0\n",
       "4    17.0    8  302.0  140.0  3449.0  10.5\n",
       "..    ...  ...    ...    ...     ...   ...\n",
       "387  27.0    4  140.0   86.0  2790.0  15.6\n",
       "388  44.0    4   97.0   52.0  2130.0  24.6\n",
       "389  32.0    4  135.0   84.0  2295.0  11.6\n",
       "390  28.0    4  120.0   79.0  2625.0  18.6\n",
       "391  31.0    4  119.0   82.0  2720.0  19.4\n",
       "\n",
       "[392 rows x 6 columns]"
      ]
     },
     "execution_count": 1,
     "metadata": {},
     "output_type": "execute_result"
    }
   ],
   "source": [
    "\n",
    "import numpy as np\n",
    "import pandas as pd\n",
    "pd.set_option('display.max_rows', 20)\n",
    "sh=pd.read_csv(r'C:\\Users\\YcAllenEffy\\Desktop\\auto-mpg.csv')\n",
    "df=sh.copy()\n",
    "df"
   ]
  },
  {
   "cell_type": "code",
   "execution_count": 2,
   "id": "075bea59",
   "metadata": {},
   "outputs": [],
   "source": [
    "from sklearn.model_selection import train_test_split\n",
    "from sklearn.linear_model import LinearRegression\n",
    "from sklearn.metrics import mean_squared_error , r2_score"
   ]
  },
  {
   "cell_type": "code",
   "execution_count": 6,
   "id": "352d3d12",
   "metadata": {},
   "outputs": [],
   "source": [
    "#划分训练集测试集\n",
    "x_1,x_2,y_1,y_2 = train_test_split(df.iloc[:,1:],df.iloc[:,:1],random_state=42)"
   ]
  },
  {
   "cell_type": "code",
   "execution_count": 7,
   "id": "6e2cf07a",
   "metadata": {},
   "outputs": [],
   "source": [
    "#训练\n",
    "model=LinearRegression()\n",
    "model.fit(x_1,y_1)\n",
    "y_predict=model.predict(x_2)"
   ]
  },
  {
   "cell_type": "code",
   "execution_count": 8,
   "id": "4d4fd049",
   "metadata": {
    "scrolled": true
   },
   "outputs": [
    {
     "data": {
      "text/plain": [
       "17.156479228880194"
      ]
     },
     "execution_count": 8,
     "metadata": {},
     "output_type": "execute_result"
    }
   ],
   "source": [
    "#MSE评分\n",
    "mean_squared_error(y_2,y_predict)"
   ]
  },
  {
   "cell_type": "code",
   "execution_count": 9,
   "id": "68efbf71",
   "metadata": {
    "scrolled": true
   },
   "outputs": [
    {
     "data": {
      "text/plain": [
       "0.6598171624711537"
      ]
     },
     "execution_count": 9,
     "metadata": {},
     "output_type": "execute_result"
    }
   ],
   "source": [
    "# R方评分\n",
    "r2_score(y_2,y_predict)"
   ]
  },
  {
   "cell_type": "markdown",
   "id": "cc034df4",
   "metadata": {},
   "source": [
    "#### 标准答案"
   ]
  },
  {
   "cell_type": "code",
   "execution_count": 10,
   "id": "d121dad0",
   "metadata": {},
   "outputs": [
    {
     "name": "stdout",
     "output_type": "stream",
     "text": [
      "MSE： 17.156479228880194\n",
      "R²评分： 0.6598171624711537\n"
     ]
    }
   ],
   "source": [
    "\n",
    "import pandas as pd\n",
    "\n",
    "# 读取数据\n",
    "df = sh.copy()\n",
    "\n",
    "# 拆分测试集与训练集\n",
    "from sklearn.model_selection import train_test_split\n",
    "x_train, x_test, y_train, y_test = train_test_split( \n",
    "                                df.iloc[:,1:], df.iloc[:,0], \n",
    "                                random_state=42 )\n",
    "\n",
    "# 训练线性回归模型\n",
    "from sklearn.linear_model import LinearRegression\n",
    "model = LinearRegression()\n",
    "model.fit( x_train, y_train )\n",
    "\n",
    "# 预测测试集\n",
    "y_predict = model.predict( x_test )\n",
    "\n",
    "# 求MSE与R²\n",
    "from sklearn.metrics import mean_squared_error\n",
    "from sklearn.metrics import r2_score\n",
    "print('MSE：', mean_squared_error ( y_test, y_predict ) )\n",
    "print('R²评分：', r2_score ( y_test, y_predict ) )"
   ]
  },
  {
   "cell_type": "markdown",
   "id": "c0c641ad",
   "metadata": {},
   "source": [
    "###  读取 汽车燃油数据 ，按以下要求完成练习：\n",
    "\n",
    "    1. 使用 SGDRegressor 预测测试集的油耗里程，求测试集的MSE与R²：\n",
    "\n",
    "    2. 使用 RandomForestRegressor 预测测试集的油耗里程，求测试集的MSE与R²。"
   ]
  },
  {
   "cell_type": "code",
   "execution_count": 11,
   "id": "42295cda",
   "metadata": {},
   "outputs": [],
   "source": [
    "from sklearn.ensemble import RandomForestRegressor\n",
    "from sklearn.preprocessing import StandardScaler"
   ]
  },
  {
   "cell_type": "code",
   "execution_count": 21,
   "id": "1b3ec60e",
   "metadata": {},
   "outputs": [],
   "source": [
    "#划分训练集测试集\n",
    "x_1,x_2,y_1,y_2 = train_test_split(df.iloc[:,1:],df.iloc[:,:1],random_state=42)"
   ]
  },
  {
   "cell_type": "code",
   "execution_count": 22,
   "id": "74cffd45",
   "metadata": {},
   "outputs": [],
   "source": [
    "#归一化\n",
    "scaler= StandardScaler()\n",
    "x_111=scaler.fit_transform(x_1)\n",
    "x_211=scaler.transform(x_2)"
   ]
  },
  {
   "cell_type": "code",
   "execution_count": 16,
   "id": "6d326c56",
   "metadata": {
    "scrolled": true
   },
   "outputs": [
    {
     "name": "stderr",
     "output_type": "stream",
     "text": [
      "C:\\Users\\YCALLE~1\\AppData\\Local\\Temp/ipykernel_3012/2349693261.py:2: DataConversionWarning: A column-vector y was passed when a 1d array was expected. Please change the shape of y to (n_samples,), for example using ravel().\n",
      "  model.fit(x_111,y_1)\n"
     ]
    }
   ],
   "source": [
    "model= RandomForestRegressor()\n",
    "model.fit(x_111,y_1)\n",
    "y_predict= model.predict(x_211)"
   ]
  },
  {
   "cell_type": "code",
   "execution_count": 17,
   "id": "31900b99",
   "metadata": {},
   "outputs": [
    {
     "data": {
      "text/plain": [
       "15.619887196428577"
      ]
     },
     "execution_count": 17,
     "metadata": {},
     "output_type": "execute_result"
    }
   ],
   "source": [
    "#MSE评分\n",
    "mean_squared_error(y_2,y_predict)"
   ]
  },
  {
   "cell_type": "code",
   "execution_count": 18,
   "id": "84564981",
   "metadata": {},
   "outputs": [
    {
     "data": {
      "text/plain": [
       "0.690285082535061"
      ]
     },
     "execution_count": 18,
     "metadata": {},
     "output_type": "execute_result"
    }
   ],
   "source": [
    "# R方评分\n",
    "r2_score(y_2,y_predict)"
   ]
  },
  {
   "cell_type": "markdown",
   "id": "817a13f1",
   "metadata": {},
   "source": [
    "####  使用SGD"
   ]
  },
  {
   "cell_type": "code",
   "execution_count": 19,
   "id": "828e5021",
   "metadata": {},
   "outputs": [],
   "source": [
    "from sklearn.linear_model import SGDRegressor"
   ]
  },
  {
   "cell_type": "code",
   "execution_count": 24,
   "id": "9841330f",
   "metadata": {
    "scrolled": true
   },
   "outputs": [
    {
     "name": "stderr",
     "output_type": "stream",
     "text": [
      "D:\\CODE\\Anaconda\\lib\\site-packages\\sklearn\\utils\\validation.py:993: DataConversionWarning: A column-vector y was passed when a 1d array was expected. Please change the shape of y to (n_samples, ), for example using ravel().\n",
      "  y = column_or_1d(y, warn=True)\n"
     ]
    }
   ],
   "source": [
    "sgd= SGDRegressor()\n",
    "sgd.fit(x_111,y_1)\n",
    "y_predict= sgd.predict(x_211)"
   ]
  },
  {
   "cell_type": "code",
   "execution_count": 25,
   "id": "5f58125f",
   "metadata": {},
   "outputs": [
    {
     "data": {
      "text/plain": [
       "17.536144596851525"
      ]
     },
     "execution_count": 25,
     "metadata": {},
     "output_type": "execute_result"
    }
   ],
   "source": [
    "#MSE评分\n",
    "mean_squared_error(y_2,y_predict)"
   ]
  },
  {
   "cell_type": "code",
   "execution_count": 26,
   "id": "8cd25a08",
   "metadata": {
    "scrolled": true
   },
   "outputs": [
    {
     "data": {
      "text/plain": [
       "0.6522890653327555"
      ]
     },
     "execution_count": 26,
     "metadata": {},
     "output_type": "execute_result"
    }
   ],
   "source": [
    "# R方评分\n",
    "r2_score(y_2,y_predict)"
   ]
  },
  {
   "cell_type": "markdown",
   "id": "5982ea07",
   "metadata": {},
   "source": [
    "#### 标准答案"
   ]
  },
  {
   "cell_type": "code",
   "execution_count": 27,
   "id": "94f32262",
   "metadata": {},
   "outputs": [
    {
     "name": "stdout",
     "output_type": "stream",
     "text": [
      "sdgMSE： 17.469388409793886\n",
      "sdgR²评分： 0.6536127232250839\n",
      "MSE： 15.403169247448984\n",
      "R²评分： 0.6945822186691\n"
     ]
    }
   ],
   "source": [
    "import pandas as pd\n",
    "\n",
    "# 读取数据\n",
    "df = sh.copy()\n",
    "\n",
    "# 拆分测试集与训练集\n",
    "from sklearn.model_selection import train_test_split\n",
    "x_train, x_test, y_train, y_test = train_test_split( \n",
    "                                df.iloc[:,1:], df.iloc[:,0], \n",
    "                                random_state=42 )\n",
    "\n",
    "# 标准化\n",
    "from sklearn.preprocessing import StandardScaler\n",
    "scaler = StandardScaler()\n",
    "x_train = scaler.fit_transform( x_train )\n",
    "x_test = scaler.transform( x_test )\n",
    "\n",
    "# 1.\n",
    "# 训练线性回归模型\n",
    "from sklearn.linear_model import SGDRegressor\n",
    "model = SGDRegressor()\n",
    "model.fit( x_train, y_train )\n",
    "\n",
    "# 预测测试集\n",
    "y_predict = model.predict( x_test )\n",
    "\n",
    "# 求MSE与R²\n",
    "from sklearn.metrics import mean_squared_error\n",
    "from sklearn.metrics import r2_score\n",
    "print('sdgMSE：', mean_squared_error ( y_test, y_predict ) )\n",
    "print('sdgR²评分：', r2_score ( y_test, y_predict ) )\n",
    "\n",
    "# 2.\n",
    "# 训练随机森林回归模型\n",
    "from sklearn.ensemble import RandomForestRegressor\n",
    "model = RandomForestRegressor()\n",
    "model.fit( x_train, y_train )\n",
    "\n",
    "# 预测测试集\n",
    "y_predict = model.predict( x_test )\n",
    "\n",
    "# 求MSE与R²\n",
    "print('MSE：', mean_squared_error ( y_test, y_predict ) )\n",
    "print('R²评分：', r2_score ( y_test, y_predict ) )"
   ]
  },
  {
   "cell_type": "code",
   "execution_count": 29,
   "id": "8322d31e",
   "metadata": {},
   "outputs": [
    {
     "data": {
      "text/plain": [
       "array([[-8.59521527e-01, -5.88476463e-01, -2.45826066e-01,\n",
       "        -4.90076268e-01, -4.58303212e-01],\n",
       "       [ 3.10382774e-01,  3.36625726e-02, -1.93924548e-01,\n",
       "        -2.35416970e-01, -2.50438914e-03],\n",
       "       [ 1.48028707e+00,  2.23507762e+00,  2.68660969e+00,\n",
       "         1.97678693e+00, -1.58026954e+00],\n",
       "       ...,\n",
       "       [-8.59521527e-01, -4.25763177e-01, -5.05333655e-01,\n",
       "        -1.39027236e-01,  7.33786017e-01],\n",
       "       [-8.59521527e-01, -9.33045775e-01, -1.02434883e+00,\n",
       "        -7.04275677e-01,  1.82069090e+00],\n",
       "       [ 1.48028707e+00,  1.95750790e+00,  1.18146567e+00,\n",
       "         2.40994574e+00, -5.28426108e-01]])"
      ]
     },
     "execution_count": 29,
     "metadata": {},
     "output_type": "execute_result"
    }
   ],
   "source": [
    "x_train"
   ]
  },
  {
   "cell_type": "markdown",
   "id": "34ed25d0",
   "metadata": {},
   "source": [
    "### 读取 种子数据，使用k-means聚类将数据集划分为3组。"
   ]
  },
  {
   "cell_type": "code",
   "execution_count": 50,
   "id": "9d86b983",
   "metadata": {},
   "outputs": [],
   "source": [
    "from sklearn.cluster import KMeans\n",
    "from sklearn.preprocessing import MinMaxScaler"
   ]
  },
  {
   "cell_type": "code",
   "execution_count": 51,
   "id": "adad6a61",
   "metadata": {
    "scrolled": true
   },
   "outputs": [
    {
     "data": {
      "text/html": [
       "<div>\n",
       "<style scoped>\n",
       "    .dataframe tbody tr th:only-of-type {\n",
       "        vertical-align: middle;\n",
       "    }\n",
       "\n",
       "    .dataframe tbody tr th {\n",
       "        vertical-align: top;\n",
       "    }\n",
       "\n",
       "    .dataframe thead th {\n",
       "        text-align: right;\n",
       "    }\n",
       "</style>\n",
       "<table border=\"1\" class=\"dataframe\">\n",
       "  <thead>\n",
       "    <tr style=\"text-align: right;\">\n",
       "      <th></th>\n",
       "      <th>区域</th>\n",
       "      <th>周长</th>\n",
       "      <th>压实度</th>\n",
       "      <th>籽粒长度</th>\n",
       "      <th>籽粒宽度</th>\n",
       "      <th>不对称系数</th>\n",
       "      <th>籽粒腹沟长度</th>\n",
       "    </tr>\n",
       "  </thead>\n",
       "  <tbody>\n",
       "    <tr>\n",
       "      <th>0</th>\n",
       "      <td>15.26</td>\n",
       "      <td>14.84</td>\n",
       "      <td>0.8710</td>\n",
       "      <td>5.763</td>\n",
       "      <td>3.312</td>\n",
       "      <td>2.221</td>\n",
       "      <td>5.220</td>\n",
       "    </tr>\n",
       "    <tr>\n",
       "      <th>1</th>\n",
       "      <td>14.88</td>\n",
       "      <td>14.57</td>\n",
       "      <td>0.8811</td>\n",
       "      <td>5.554</td>\n",
       "      <td>3.333</td>\n",
       "      <td>1.018</td>\n",
       "      <td>4.956</td>\n",
       "    </tr>\n",
       "    <tr>\n",
       "      <th>2</th>\n",
       "      <td>14.29</td>\n",
       "      <td>14.09</td>\n",
       "      <td>0.9050</td>\n",
       "      <td>5.291</td>\n",
       "      <td>3.337</td>\n",
       "      <td>2.699</td>\n",
       "      <td>4.825</td>\n",
       "    </tr>\n",
       "    <tr>\n",
       "      <th>3</th>\n",
       "      <td>13.84</td>\n",
       "      <td>13.94</td>\n",
       "      <td>0.8955</td>\n",
       "      <td>5.324</td>\n",
       "      <td>3.379</td>\n",
       "      <td>2.259</td>\n",
       "      <td>4.805</td>\n",
       "    </tr>\n",
       "    <tr>\n",
       "      <th>4</th>\n",
       "      <td>16.14</td>\n",
       "      <td>14.99</td>\n",
       "      <td>0.9034</td>\n",
       "      <td>5.658</td>\n",
       "      <td>3.562</td>\n",
       "      <td>1.355</td>\n",
       "      <td>5.175</td>\n",
       "    </tr>\n",
       "    <tr>\n",
       "      <th>...</th>\n",
       "      <td>...</td>\n",
       "      <td>...</td>\n",
       "      <td>...</td>\n",
       "      <td>...</td>\n",
       "      <td>...</td>\n",
       "      <td>...</td>\n",
       "      <td>...</td>\n",
       "    </tr>\n",
       "    <tr>\n",
       "      <th>194</th>\n",
       "      <td>12.19</td>\n",
       "      <td>13.20</td>\n",
       "      <td>0.8783</td>\n",
       "      <td>5.137</td>\n",
       "      <td>2.981</td>\n",
       "      <td>3.631</td>\n",
       "      <td>4.870</td>\n",
       "    </tr>\n",
       "    <tr>\n",
       "      <th>195</th>\n",
       "      <td>11.23</td>\n",
       "      <td>12.88</td>\n",
       "      <td>0.8511</td>\n",
       "      <td>5.140</td>\n",
       "      <td>2.795</td>\n",
       "      <td>4.325</td>\n",
       "      <td>5.003</td>\n",
       "    </tr>\n",
       "    <tr>\n",
       "      <th>196</th>\n",
       "      <td>13.20</td>\n",
       "      <td>13.66</td>\n",
       "      <td>0.8883</td>\n",
       "      <td>5.236</td>\n",
       "      <td>3.232</td>\n",
       "      <td>8.315</td>\n",
       "      <td>5.056</td>\n",
       "    </tr>\n",
       "    <tr>\n",
       "      <th>197</th>\n",
       "      <td>11.84</td>\n",
       "      <td>13.21</td>\n",
       "      <td>0.8521</td>\n",
       "      <td>5.175</td>\n",
       "      <td>2.836</td>\n",
       "      <td>3.598</td>\n",
       "      <td>5.044</td>\n",
       "    </tr>\n",
       "    <tr>\n",
       "      <th>198</th>\n",
       "      <td>12.30</td>\n",
       "      <td>13.34</td>\n",
       "      <td>0.8684</td>\n",
       "      <td>5.243</td>\n",
       "      <td>2.974</td>\n",
       "      <td>5.637</td>\n",
       "      <td>5.063</td>\n",
       "    </tr>\n",
       "  </tbody>\n",
       "</table>\n",
       "<p>199 rows × 7 columns</p>\n",
       "</div>"
      ],
      "text/plain": [
       "        区域     周长     压实度   籽粒长度   籽粒宽度  不对称系数  籽粒腹沟长度\n",
       "0    15.26  14.84  0.8710  5.763  3.312  2.221   5.220\n",
       "1    14.88  14.57  0.8811  5.554  3.333  1.018   4.956\n",
       "2    14.29  14.09  0.9050  5.291  3.337  2.699   4.825\n",
       "3    13.84  13.94  0.8955  5.324  3.379  2.259   4.805\n",
       "4    16.14  14.99  0.9034  5.658  3.562  1.355   5.175\n",
       "..     ...    ...     ...    ...    ...    ...     ...\n",
       "194  12.19  13.20  0.8783  5.137  2.981  3.631   4.870\n",
       "195  11.23  12.88  0.8511  5.140  2.795  4.325   5.003\n",
       "196  13.20  13.66  0.8883  5.236  3.232  8.315   5.056\n",
       "197  11.84  13.21  0.8521  5.175  2.836  3.598   5.044\n",
       "198  12.30  13.34  0.8684  5.243  2.974  5.637   5.063\n",
       "\n",
       "[199 rows x 7 columns]"
      ]
     },
     "execution_count": 51,
     "metadata": {},
     "output_type": "execute_result"
    }
   ],
   "source": [
    "sh2=pd.read_csv(r'C:\\Users\\YcAllenEffy\\Desktop\\seeds.csv')\n",
    "df=sh2.copy()\n",
    "df"
   ]
  },
  {
   "cell_type": "code",
   "execution_count": 52,
   "id": "f7130683",
   "metadata": {
    "scrolled": true
   },
   "outputs": [
    {
     "data": {
      "text/plain": [
       "array([[0.44098206, 0.50206612, 0.5707804 , ..., 0.48610121, 0.19283699,\n",
       "        0.34515017],\n",
       "       [0.40509915, 0.44628099, 0.66243194, ..., 0.50106914, 0.03349713,\n",
       "        0.21516494],\n",
       "       [0.34938621, 0.34710744, 0.87931034, ..., 0.50392017, 0.25614909,\n",
       "        0.1506647 ],\n",
       "       ...,\n",
       "       [0.24645892, 0.25826446, 0.7277677 , ..., 0.42908054, 1.        ,\n",
       "        0.26440177],\n",
       "       [0.11803588, 0.16528926, 0.39927405, ..., 0.14682823, 0.37522351,\n",
       "        0.25849335],\n",
       "       [0.16147309, 0.19214876, 0.54718693, ..., 0.24518888, 0.64529332,\n",
       "        0.26784835]])"
      ]
     },
     "execution_count": 52,
     "metadata": {},
     "output_type": "execute_result"
    }
   ],
   "source": [
    "#归一化\n",
    "ms = MinMaxScaler()\n",
    "df1=ms.fit_transform(df)\n",
    "df1"
   ]
  },
  {
   "cell_type": "code",
   "execution_count": 53,
   "id": "fabe5096",
   "metadata": {
    "scrolled": true
   },
   "outputs": [
    {
     "data": {
      "text/plain": [
       "KMeans(n_clusters=3)"
      ]
     },
     "execution_count": 53,
     "metadata": {},
     "output_type": "execute_result"
    }
   ],
   "source": [
    "#训练\n",
    "model=KMeans(n_clusters=3)\n",
    "model.fit(df1)"
   ]
  },
  {
   "cell_type": "code",
   "execution_count": 54,
   "id": "f5b22ca0",
   "metadata": {
    "scrolled": true
   },
   "outputs": [
    {
     "data": {
      "text/html": [
       "<div>\n",
       "<style scoped>\n",
       "    .dataframe tbody tr th:only-of-type {\n",
       "        vertical-align: middle;\n",
       "    }\n",
       "\n",
       "    .dataframe tbody tr th {\n",
       "        vertical-align: top;\n",
       "    }\n",
       "\n",
       "    .dataframe thead th {\n",
       "        text-align: right;\n",
       "    }\n",
       "</style>\n",
       "<table border=\"1\" class=\"dataframe\">\n",
       "  <thead>\n",
       "    <tr style=\"text-align: right;\">\n",
       "      <th></th>\n",
       "      <th>区域</th>\n",
       "      <th>周长</th>\n",
       "      <th>压实度</th>\n",
       "      <th>籽粒长度</th>\n",
       "      <th>籽粒宽度</th>\n",
       "      <th>不对称系数</th>\n",
       "      <th>籽粒腹沟长度</th>\n",
       "      <th>分类结果</th>\n",
       "    </tr>\n",
       "  </thead>\n",
       "  <tbody>\n",
       "    <tr>\n",
       "      <th>0</th>\n",
       "      <td>15.26</td>\n",
       "      <td>14.84</td>\n",
       "      <td>0.8710</td>\n",
       "      <td>5.763</td>\n",
       "      <td>3.312</td>\n",
       "      <td>2.221</td>\n",
       "      <td>5.220</td>\n",
       "      <td>0</td>\n",
       "    </tr>\n",
       "    <tr>\n",
       "      <th>1</th>\n",
       "      <td>14.88</td>\n",
       "      <td>14.57</td>\n",
       "      <td>0.8811</td>\n",
       "      <td>5.554</td>\n",
       "      <td>3.333</td>\n",
       "      <td>1.018</td>\n",
       "      <td>4.956</td>\n",
       "      <td>0</td>\n",
       "    </tr>\n",
       "    <tr>\n",
       "      <th>2</th>\n",
       "      <td>14.29</td>\n",
       "      <td>14.09</td>\n",
       "      <td>0.9050</td>\n",
       "      <td>5.291</td>\n",
       "      <td>3.337</td>\n",
       "      <td>2.699</td>\n",
       "      <td>4.825</td>\n",
       "      <td>0</td>\n",
       "    </tr>\n",
       "    <tr>\n",
       "      <th>3</th>\n",
       "      <td>13.84</td>\n",
       "      <td>13.94</td>\n",
       "      <td>0.8955</td>\n",
       "      <td>5.324</td>\n",
       "      <td>3.379</td>\n",
       "      <td>2.259</td>\n",
       "      <td>4.805</td>\n",
       "      <td>0</td>\n",
       "    </tr>\n",
       "    <tr>\n",
       "      <th>4</th>\n",
       "      <td>16.14</td>\n",
       "      <td>14.99</td>\n",
       "      <td>0.9034</td>\n",
       "      <td>5.658</td>\n",
       "      <td>3.562</td>\n",
       "      <td>1.355</td>\n",
       "      <td>5.175</td>\n",
       "      <td>0</td>\n",
       "    </tr>\n",
       "    <tr>\n",
       "      <th>...</th>\n",
       "      <td>...</td>\n",
       "      <td>...</td>\n",
       "      <td>...</td>\n",
       "      <td>...</td>\n",
       "      <td>...</td>\n",
       "      <td>...</td>\n",
       "      <td>...</td>\n",
       "      <td>...</td>\n",
       "    </tr>\n",
       "    <tr>\n",
       "      <th>194</th>\n",
       "      <td>12.19</td>\n",
       "      <td>13.20</td>\n",
       "      <td>0.8783</td>\n",
       "      <td>5.137</td>\n",
       "      <td>2.981</td>\n",
       "      <td>3.631</td>\n",
       "      <td>4.870</td>\n",
       "      <td>1</td>\n",
       "    </tr>\n",
       "    <tr>\n",
       "      <th>195</th>\n",
       "      <td>11.23</td>\n",
       "      <td>12.88</td>\n",
       "      <td>0.8511</td>\n",
       "      <td>5.140</td>\n",
       "      <td>2.795</td>\n",
       "      <td>4.325</td>\n",
       "      <td>5.003</td>\n",
       "      <td>1</td>\n",
       "    </tr>\n",
       "    <tr>\n",
       "      <th>196</th>\n",
       "      <td>13.20</td>\n",
       "      <td>13.66</td>\n",
       "      <td>0.8883</td>\n",
       "      <td>5.236</td>\n",
       "      <td>3.232</td>\n",
       "      <td>8.315</td>\n",
       "      <td>5.056</td>\n",
       "      <td>1</td>\n",
       "    </tr>\n",
       "    <tr>\n",
       "      <th>197</th>\n",
       "      <td>11.84</td>\n",
       "      <td>13.21</td>\n",
       "      <td>0.8521</td>\n",
       "      <td>5.175</td>\n",
       "      <td>2.836</td>\n",
       "      <td>3.598</td>\n",
       "      <td>5.044</td>\n",
       "      <td>1</td>\n",
       "    </tr>\n",
       "    <tr>\n",
       "      <th>198</th>\n",
       "      <td>12.30</td>\n",
       "      <td>13.34</td>\n",
       "      <td>0.8684</td>\n",
       "      <td>5.243</td>\n",
       "      <td>2.974</td>\n",
       "      <td>5.637</td>\n",
       "      <td>5.063</td>\n",
       "      <td>1</td>\n",
       "    </tr>\n",
       "  </tbody>\n",
       "</table>\n",
       "<p>199 rows × 8 columns</p>\n",
       "</div>"
      ],
      "text/plain": [
       "        区域     周长     压实度   籽粒长度   籽粒宽度  不对称系数  籽粒腹沟长度  分类结果\n",
       "0    15.26  14.84  0.8710  5.763  3.312  2.221   5.220     0\n",
       "1    14.88  14.57  0.8811  5.554  3.333  1.018   4.956     0\n",
       "2    14.29  14.09  0.9050  5.291  3.337  2.699   4.825     0\n",
       "3    13.84  13.94  0.8955  5.324  3.379  2.259   4.805     0\n",
       "4    16.14  14.99  0.9034  5.658  3.562  1.355   5.175     0\n",
       "..     ...    ...     ...    ...    ...    ...     ...   ...\n",
       "194  12.19  13.20  0.8783  5.137  2.981  3.631   4.870     1\n",
       "195  11.23  12.88  0.8511  5.140  2.795  4.325   5.003     1\n",
       "196  13.20  13.66  0.8883  5.236  3.232  8.315   5.056     1\n",
       "197  11.84  13.21  0.8521  5.175  2.836  3.598   5.044     1\n",
       "198  12.30  13.34  0.8684  5.243  2.974  5.637   5.063     1\n",
       "\n",
       "[199 rows x 8 columns]"
      ]
     },
     "execution_count": 54,
     "metadata": {},
     "output_type": "execute_result"
    }
   ],
   "source": [
    "df['分类结果']=model.predict(df1)\n",
    "df"
   ]
  },
  {
   "cell_type": "markdown",
   "id": "df64766b",
   "metadata": {},
   "source": [
    "#### 标准答案"
   ]
  },
  {
   "cell_type": "code",
   "execution_count": 55,
   "id": "a2b1a46d",
   "metadata": {},
   "outputs": [
    {
     "data": {
      "text/html": [
       "<div>\n",
       "<style scoped>\n",
       "    .dataframe tbody tr th:only-of-type {\n",
       "        vertical-align: middle;\n",
       "    }\n",
       "\n",
       "    .dataframe tbody tr th {\n",
       "        vertical-align: top;\n",
       "    }\n",
       "\n",
       "    .dataframe thead th {\n",
       "        text-align: right;\n",
       "    }\n",
       "</style>\n",
       "<table border=\"1\" class=\"dataframe\">\n",
       "  <thead>\n",
       "    <tr style=\"text-align: right;\">\n",
       "      <th></th>\n",
       "      <th>区域</th>\n",
       "      <th>周长</th>\n",
       "      <th>压实度</th>\n",
       "      <th>籽粒长度</th>\n",
       "      <th>籽粒宽度</th>\n",
       "      <th>不对称系数</th>\n",
       "      <th>籽粒腹沟长度</th>\n",
       "      <th>分组结果</th>\n",
       "    </tr>\n",
       "  </thead>\n",
       "  <tbody>\n",
       "    <tr>\n",
       "      <th>0</th>\n",
       "      <td>15.26</td>\n",
       "      <td>14.84</td>\n",
       "      <td>0.8710</td>\n",
       "      <td>5.763</td>\n",
       "      <td>3.312</td>\n",
       "      <td>2.221</td>\n",
       "      <td>5.220</td>\n",
       "      <td>0</td>\n",
       "    </tr>\n",
       "    <tr>\n",
       "      <th>1</th>\n",
       "      <td>14.88</td>\n",
       "      <td>14.57</td>\n",
       "      <td>0.8811</td>\n",
       "      <td>5.554</td>\n",
       "      <td>3.333</td>\n",
       "      <td>1.018</td>\n",
       "      <td>4.956</td>\n",
       "      <td>0</td>\n",
       "    </tr>\n",
       "    <tr>\n",
       "      <th>2</th>\n",
       "      <td>14.29</td>\n",
       "      <td>14.09</td>\n",
       "      <td>0.9050</td>\n",
       "      <td>5.291</td>\n",
       "      <td>3.337</td>\n",
       "      <td>2.699</td>\n",
       "      <td>4.825</td>\n",
       "      <td>0</td>\n",
       "    </tr>\n",
       "    <tr>\n",
       "      <th>3</th>\n",
       "      <td>13.84</td>\n",
       "      <td>13.94</td>\n",
       "      <td>0.8955</td>\n",
       "      <td>5.324</td>\n",
       "      <td>3.379</td>\n",
       "      <td>2.259</td>\n",
       "      <td>4.805</td>\n",
       "      <td>0</td>\n",
       "    </tr>\n",
       "    <tr>\n",
       "      <th>4</th>\n",
       "      <td>16.14</td>\n",
       "      <td>14.99</td>\n",
       "      <td>0.9034</td>\n",
       "      <td>5.658</td>\n",
       "      <td>3.562</td>\n",
       "      <td>1.355</td>\n",
       "      <td>5.175</td>\n",
       "      <td>0</td>\n",
       "    </tr>\n",
       "    <tr>\n",
       "      <th>...</th>\n",
       "      <td>...</td>\n",
       "      <td>...</td>\n",
       "      <td>...</td>\n",
       "      <td>...</td>\n",
       "      <td>...</td>\n",
       "      <td>...</td>\n",
       "      <td>...</td>\n",
       "      <td>...</td>\n",
       "    </tr>\n",
       "    <tr>\n",
       "      <th>194</th>\n",
       "      <td>12.19</td>\n",
       "      <td>13.20</td>\n",
       "      <td>0.8783</td>\n",
       "      <td>5.137</td>\n",
       "      <td>2.981</td>\n",
       "      <td>3.631</td>\n",
       "      <td>4.870</td>\n",
       "      <td>1</td>\n",
       "    </tr>\n",
       "    <tr>\n",
       "      <th>195</th>\n",
       "      <td>11.23</td>\n",
       "      <td>12.88</td>\n",
       "      <td>0.8511</td>\n",
       "      <td>5.140</td>\n",
       "      <td>2.795</td>\n",
       "      <td>4.325</td>\n",
       "      <td>5.003</td>\n",
       "      <td>1</td>\n",
       "    </tr>\n",
       "    <tr>\n",
       "      <th>196</th>\n",
       "      <td>13.20</td>\n",
       "      <td>13.66</td>\n",
       "      <td>0.8883</td>\n",
       "      <td>5.236</td>\n",
       "      <td>3.232</td>\n",
       "      <td>8.315</td>\n",
       "      <td>5.056</td>\n",
       "      <td>1</td>\n",
       "    </tr>\n",
       "    <tr>\n",
       "      <th>197</th>\n",
       "      <td>11.84</td>\n",
       "      <td>13.21</td>\n",
       "      <td>0.8521</td>\n",
       "      <td>5.175</td>\n",
       "      <td>2.836</td>\n",
       "      <td>3.598</td>\n",
       "      <td>5.044</td>\n",
       "      <td>1</td>\n",
       "    </tr>\n",
       "    <tr>\n",
       "      <th>198</th>\n",
       "      <td>12.30</td>\n",
       "      <td>13.34</td>\n",
       "      <td>0.8684</td>\n",
       "      <td>5.243</td>\n",
       "      <td>2.974</td>\n",
       "      <td>5.637</td>\n",
       "      <td>5.063</td>\n",
       "      <td>1</td>\n",
       "    </tr>\n",
       "  </tbody>\n",
       "</table>\n",
       "<p>199 rows × 8 columns</p>\n",
       "</div>"
      ],
      "text/plain": [
       "        区域     周长     压实度   籽粒长度   籽粒宽度  不对称系数  籽粒腹沟长度  分组结果\n",
       "0    15.26  14.84  0.8710  5.763  3.312  2.221   5.220     0\n",
       "1    14.88  14.57  0.8811  5.554  3.333  1.018   4.956     0\n",
       "2    14.29  14.09  0.9050  5.291  3.337  2.699   4.825     0\n",
       "3    13.84  13.94  0.8955  5.324  3.379  2.259   4.805     0\n",
       "4    16.14  14.99  0.9034  5.658  3.562  1.355   5.175     0\n",
       "..     ...    ...     ...    ...    ...    ...     ...   ...\n",
       "194  12.19  13.20  0.8783  5.137  2.981  3.631   4.870     1\n",
       "195  11.23  12.88  0.8511  5.140  2.795  4.325   5.003     1\n",
       "196  13.20  13.66  0.8883  5.236  3.232  8.315   5.056     1\n",
       "197  11.84  13.21  0.8521  5.175  2.836  3.598   5.044     1\n",
       "198  12.30  13.34  0.8684  5.243  2.974  5.637   5.063     1\n",
       "\n",
       "[199 rows x 8 columns]"
      ]
     },
     "execution_count": 55,
     "metadata": {},
     "output_type": "execute_result"
    }
   ],
   "source": [
    "import pandas as pd\n",
    "\n",
    "# 读取数据\n",
    "df = sh2.copy()\n",
    "\n",
    "# 归一化\n",
    "from sklearn.preprocessing import MinMaxScaler\n",
    "ms = MinMaxScaler()\n",
    "df2 = ms.fit_transform(df)\n",
    "\n",
    "# 训练k-means模型\n",
    "from sklearn.cluster import KMeans\n",
    "model = KMeans( n_clusters=3 )\n",
    "model.fit(df2)\n",
    "\n",
    "# 预测结果\n",
    "df['分组结果'] = model.predict( df2 )\n",
    "df"
   ]
  }
 ],
 "metadata": {
  "kernelspec": {
   "display_name": "Python 3 (ipykernel)",
   "language": "python",
   "name": "python3"
  },
  "language_info": {
   "codemirror_mode": {
    "name": "ipython",
    "version": 3
   },
   "file_extension": ".py",
   "mimetype": "text/x-python",
   "name": "python",
   "nbconvert_exporter": "python",
   "pygments_lexer": "ipython3",
   "version": "3.8.3"
  }
 },
 "nbformat": 4,
 "nbformat_minor": 5
}
