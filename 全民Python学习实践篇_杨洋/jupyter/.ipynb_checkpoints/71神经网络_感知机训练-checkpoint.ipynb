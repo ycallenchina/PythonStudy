{
 "cells": [
  {
   "cell_type": "markdown",
   "id": "dcf7df37",
   "metadata": {},
   "source": [
    "### 读取 iris鸢尾花数据，将数据集拆分为训练集和测试集，使用 MLPClassifier 分类器训练并验证测试集的准确率。"
   ]
  },
  {
   "cell_type": "code",
   "execution_count": 1,
   "id": "9469967c",
   "metadata": {
    "scrolled": true
   },
   "outputs": [
    {
     "data": {
      "text/html": [
       "<div>\n",
       "<style scoped>\n",
       "    .dataframe tbody tr th:only-of-type {\n",
       "        vertical-align: middle;\n",
       "    }\n",
       "\n",
       "    .dataframe tbody tr th {\n",
       "        vertical-align: top;\n",
       "    }\n",
       "\n",
       "    .dataframe thead th {\n",
       "        text-align: right;\n",
       "    }\n",
       "</style>\n",
       "<table border=\"1\" class=\"dataframe\">\n",
       "  <thead>\n",
       "    <tr style=\"text-align: right;\">\n",
       "      <th></th>\n",
       "      <th>萼片长</th>\n",
       "      <th>萼片宽</th>\n",
       "      <th>花瓣长</th>\n",
       "      <th>花瓣宽</th>\n",
       "      <th>种类</th>\n",
       "    </tr>\n",
       "  </thead>\n",
       "  <tbody>\n",
       "    <tr>\n",
       "      <th>0</th>\n",
       "      <td>5.1</td>\n",
       "      <td>3.5</td>\n",
       "      <td>1.4</td>\n",
       "      <td>0.2</td>\n",
       "      <td>山鸢尾</td>\n",
       "    </tr>\n",
       "    <tr>\n",
       "      <th>1</th>\n",
       "      <td>4.9</td>\n",
       "      <td>3.0</td>\n",
       "      <td>1.4</td>\n",
       "      <td>0.2</td>\n",
       "      <td>山鸢尾</td>\n",
       "    </tr>\n",
       "    <tr>\n",
       "      <th>2</th>\n",
       "      <td>4.7</td>\n",
       "      <td>3.2</td>\n",
       "      <td>1.3</td>\n",
       "      <td>0.2</td>\n",
       "      <td>山鸢尾</td>\n",
       "    </tr>\n",
       "    <tr>\n",
       "      <th>3</th>\n",
       "      <td>4.6</td>\n",
       "      <td>3.1</td>\n",
       "      <td>1.5</td>\n",
       "      <td>0.2</td>\n",
       "      <td>山鸢尾</td>\n",
       "    </tr>\n",
       "    <tr>\n",
       "      <th>4</th>\n",
       "      <td>5.0</td>\n",
       "      <td>3.6</td>\n",
       "      <td>1.4</td>\n",
       "      <td>0.2</td>\n",
       "      <td>山鸢尾</td>\n",
       "    </tr>\n",
       "    <tr>\n",
       "      <th>...</th>\n",
       "      <td>...</td>\n",
       "      <td>...</td>\n",
       "      <td>...</td>\n",
       "      <td>...</td>\n",
       "      <td>...</td>\n",
       "    </tr>\n",
       "    <tr>\n",
       "      <th>145</th>\n",
       "      <td>6.7</td>\n",
       "      <td>3.0</td>\n",
       "      <td>5.2</td>\n",
       "      <td>2.3</td>\n",
       "      <td>维吉尼亚鸢尾</td>\n",
       "    </tr>\n",
       "    <tr>\n",
       "      <th>146</th>\n",
       "      <td>6.3</td>\n",
       "      <td>2.5</td>\n",
       "      <td>5.0</td>\n",
       "      <td>1.9</td>\n",
       "      <td>维吉尼亚鸢尾</td>\n",
       "    </tr>\n",
       "    <tr>\n",
       "      <th>147</th>\n",
       "      <td>6.5</td>\n",
       "      <td>3.0</td>\n",
       "      <td>5.2</td>\n",
       "      <td>2.0</td>\n",
       "      <td>维吉尼亚鸢尾</td>\n",
       "    </tr>\n",
       "    <tr>\n",
       "      <th>148</th>\n",
       "      <td>6.2</td>\n",
       "      <td>3.4</td>\n",
       "      <td>5.4</td>\n",
       "      <td>2.3</td>\n",
       "      <td>维吉尼亚鸢尾</td>\n",
       "    </tr>\n",
       "    <tr>\n",
       "      <th>149</th>\n",
       "      <td>5.9</td>\n",
       "      <td>3.0</td>\n",
       "      <td>5.1</td>\n",
       "      <td>1.8</td>\n",
       "      <td>维吉尼亚鸢尾</td>\n",
       "    </tr>\n",
       "  </tbody>\n",
       "</table>\n",
       "<p>150 rows × 5 columns</p>\n",
       "</div>"
      ],
      "text/plain": [
       "     萼片长  萼片宽  花瓣长  花瓣宽      种类\n",
       "0    5.1  3.5  1.4  0.2     山鸢尾\n",
       "1    4.9  3.0  1.4  0.2     山鸢尾\n",
       "2    4.7  3.2  1.3  0.2     山鸢尾\n",
       "3    4.6  3.1  1.5  0.2     山鸢尾\n",
       "4    5.0  3.6  1.4  0.2     山鸢尾\n",
       "..   ...  ...  ...  ...     ...\n",
       "145  6.7  3.0  5.2  2.3  维吉尼亚鸢尾\n",
       "146  6.3  2.5  5.0  1.9  维吉尼亚鸢尾\n",
       "147  6.5  3.0  5.2  2.0  维吉尼亚鸢尾\n",
       "148  6.2  3.4  5.4  2.3  维吉尼亚鸢尾\n",
       "149  5.9  3.0  5.1  1.8  维吉尼亚鸢尾\n",
       "\n",
       "[150 rows x 5 columns]"
      ]
     },
     "execution_count": 1,
     "metadata": {},
     "output_type": "execute_result"
    }
   ],
   "source": [
    "import numpy as np\n",
    "import pandas as pd\n",
    "pd.set_option('display.max_rows', 20)\n",
    "sh=pd.read_csv(r'C:\\Users\\YcAllenEffy\\Desktop\\iris.csv')\n",
    "df=sh.copy()\n",
    "df"
   ]
  },
  {
   "cell_type": "code",
   "execution_count": 14,
   "id": "615ce53b",
   "metadata": {},
   "outputs": [],
   "source": [
    "from sklearn.model_selection import train_test_split\n",
    "from sklearn.metrics import accuracy_score,recall_score,precision_score,f1_score\n",
    "\n",
    "from sklearn.neural_network import MLPClassifier\n",
    "\n",
    "#划分训练,测试集\n",
    "x_train,x_test,y_train,y_test = train_test_split(df.iloc[:,1:-1],df.iloc[:,-1],test_size=0.2)"
   ]
  },
  {
   "cell_type": "code",
   "execution_count": 15,
   "id": "68cc16c9",
   "metadata": {
    "scrolled": true
   },
   "outputs": [
    {
     "name": "stdout",
     "output_type": "stream",
     "text": [
      "0.9666666666666667\n"
     ]
    },
    {
     "name": "stderr",
     "output_type": "stream",
     "text": [
      "D:\\CODE\\Anaconda\\lib\\site-packages\\sklearn\\neural_network\\_multilayer_perceptron.py:692: ConvergenceWarning: Stochastic Optimizer: Maximum iterations (200) reached and the optimization hasn't converged yet.\n",
      "  warnings.warn(\n"
     ]
    }
   ],
   "source": [
    "# 感知机训练\n",
    "\n",
    "model= MLPClassifier()\n",
    "model.fit(x_train,y_train)\n",
    "\n",
    "#打分\n",
    "y_predict=model.predict(x_test)\n",
    "print(accuracy_score(y_test,y_predict))"
   ]
  },
  {
   "cell_type": "code",
   "execution_count": 13,
   "id": "32bf7026",
   "metadata": {
    "scrolled": true
   },
   "outputs": [
    {
     "name": "stdout",
     "output_type": "stream",
     "text": [
      "测试集预测准确率是 0.9333333333333333\n"
     ]
    },
    {
     "name": "stderr",
     "output_type": "stream",
     "text": [
      "D:\\CODE\\Anaconda\\lib\\site-packages\\sklearn\\neural_network\\_multilayer_perceptron.py:692: ConvergenceWarning: Stochastic Optimizer: Maximum iterations (200) reached and the optimization hasn't converged yet.\n",
      "  warnings.warn(\n"
     ]
    }
   ],
   "source": [
    "# 标准答案\n",
    "import pandas as pd\n",
    "\n",
    "# 导入数据\n",
    "# file = r'.\\iris.csv'\n",
    "df_src = sh.copy()\n",
    "\n",
    "# 拆分数据集\n",
    "from sklearn.model_selection import train_test_split\n",
    "x_train, x_test, y_train, y_test = train_test_split(df_src.iloc[:,:-1], \n",
    "                                            df_src.iloc[:,-1], test_size=0.2)\n",
    "\n",
    "# 神经网络训练\n",
    "from sklearn.neural_network import MLPClassifier\n",
    "mlp = MLPClassifier(hidden_layer_sizes=(30,30), learning_rate_init=0.01)\n",
    "model = mlp.fit(x_train, y_train)\n",
    "\n",
    "# 预测测试集\n",
    "y_predict = model.predict( x_test )\n",
    "\n",
    "# 求准确率\n",
    "from sklearn.metrics import accuracy_score\n",
    "acc = accuracy_score( y_test, y_predict )\n",
    "print( f'测试集预测准确率是 {acc}' )"
   ]
  },
  {
   "cell_type": "markdown",
   "id": "4b6888c4",
   "metadata": {},
   "source": [
    "###  使用感知机训练 图片识别"
   ]
  },
  {
   "cell_type": "code",
   "execution_count": 3,
   "id": "2f10ea10",
   "metadata": {},
   "outputs": [],
   "source": [
    "# 收集数据\n",
    "\n",
    "from PIL import Image\n",
    "import numpy as np\n",
    "import pandas as pd\n",
    "import os\n",
    "\n",
    "# 数据集\n",
    "img_arrays=[]\n",
    "# 答案集\n",
    "img_labels=[]\n",
    "\n",
    "# 图片路径\n",
    "addr='C:/Users/YcAllenEffy/Desktop/pic/demo/'\n",
    "# 读取图片转换为数字\n",
    "for img in os.listdir(addr):\n",
    "    #读取每张图片,并转为数字\n",
    "    im=np.array(Image.open(addr+img).convert('L'),'f')\n",
    "    #扁平化为一维数组\n",
    "    img_arrays.append(im.flatten())\n",
    "    #存入答案\n",
    "    img_labels.append(img[0])\n",
    "\n",
    "# 生成df特征集\n",
    "df=pd.DataFrame(img_arrays)\n"
   ]
  },
  {
   "cell_type": "code",
   "execution_count": 19,
   "id": "5cd79507",
   "metadata": {},
   "outputs": [
    {
     "name": "stdout",
     "output_type": "stream",
     "text": [
      "0.5636363636363636\n"
     ]
    },
    {
     "name": "stderr",
     "output_type": "stream",
     "text": [
      "D:\\CODE\\Anaconda\\lib\\site-packages\\sklearn\\neural_network\\_multilayer_perceptron.py:692: ConvergenceWarning: Stochastic Optimizer: Maximum iterations (200) reached and the optimization hasn't converged yet.\n",
      "  warnings.warn(\n"
     ]
    }
   ],
   "source": [
    "# 训练\n",
    "from sklearn.model_selection import train_test_split\n",
    "from sklearn.metrics import accuracy_score,recall_score,precision_score,f1_score\n",
    "\n",
    "from sklearn.neural_network import MLPClassifier\n",
    "\n",
    "# 拆分,训练,打分\n",
    "x_train,x_test,y_train,y_test = train_test_split(df,img_labels,random_state=42)\n",
    "\n",
    "# 感知机训练\n",
    "\n",
    "model= MLPClassifier()\n",
    "model.fit(x_train,y_train)\n",
    "\n",
    "#打分\n",
    "y_predict=model.predict(x_test)\n",
    "print(accuracy_score(y_test,y_predict))"
   ]
  }
 ],
 "metadata": {
  "kernelspec": {
   "display_name": "Python 3 (ipykernel)",
   "language": "python",
   "name": "python3"
  },
  "language_info": {
   "codemirror_mode": {
    "name": "ipython",
    "version": 3
   },
   "file_extension": ".py",
   "mimetype": "text/x-python",
   "name": "python",
   "nbconvert_exporter": "python",
   "pygments_lexer": "ipython3",
   "version": "3.8.3"
  }
 },
 "nbformat": 4,
 "nbformat_minor": 5
}
