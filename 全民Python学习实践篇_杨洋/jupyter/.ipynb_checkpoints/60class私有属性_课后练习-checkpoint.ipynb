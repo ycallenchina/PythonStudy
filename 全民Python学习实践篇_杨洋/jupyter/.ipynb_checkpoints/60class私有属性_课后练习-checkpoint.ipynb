{
 "cells": [
  {
   "cell_type": "markdown",
   "metadata": {},
   "source": [
    "###  请定义一个玩家类Player，添加姓名、攻击力、防御力、经验值和等级等属性，其中除了姓名之外都禁止外部访问。\n",
    "\n",
    "创建玩家并测试属性是否能被访问。"
   ]
  },
  {
   "cell_type": "code",
   "execution_count": 5,
   "metadata": {},
   "outputs": [],
   "source": [
    "class Player():\n",
    "    def __init__(self,x,a,f,y,d):\n",
    "        self.name=x\n",
    "        self.__attact=a\n",
    "        self.__defand=f\n",
    "        self.__ex=y\n",
    "        self.__levele=d\n",
    "    \n",
    "    def pri_ex(self):\n",
    "        print(self.__ex)\n",
    "    \n",
    "    def set_ex(self,y):\n",
    "        self.__ex=y\n",
    "        print(self.__ex)"
   ]
  },
  {
   "cell_type": "code",
   "execution_count": 7,
   "metadata": {},
   "outputs": [
    {
     "name": "stdout",
     "output_type": "stream",
     "text": [
      "33\n"
     ]
    }
   ],
   "source": [
    "b=Player('eff',11,22,33,99)\n",
    "b.pri_ex()"
   ]
  },
  {
   "cell_type": "code",
   "execution_count": 14,
   "metadata": {
    "scrolled": true
   },
   "outputs": [
    {
     "data": {
      "text/plain": [
       "'eff'"
      ]
     },
     "execution_count": 14,
     "metadata": {},
     "output_type": "execute_result"
    }
   ],
   "source": [
    "b.name"
   ]
  },
  {
   "cell_type": "code",
   "execution_count": 23,
   "metadata": {},
   "outputs": [],
   "source": [
    "class Monster():\n",
    "    def __init__(self,x,a,f,y,d):\n",
    "        self.__number=x\n",
    "        self.__attact=a\n",
    "        self.__defand=f\n",
    "        self.__phyle=y\n",
    "        self.__levele=d\n",
    "    def get_attact(self):\n",
    "        return self.__attact\n",
    "    def get_defand(self):\n",
    "        return self.__defand\n",
    "    \n",
    "    def set_attact(self,y):\n",
    "        if y>0 and y<1000:\n",
    "            self.__attact=y\n",
    "        else:\n",
    "            print('attact修改未能成功,因为设置数值必须再0-1000之间')\n",
    "    def set_defand(self,y):\n",
    "        if y>0 and y<1000:\n",
    "            self.__defand=y\n",
    "        else:\n",
    "            print('defand,修改未能成功,因为设置数值必须再0-1000之间')\n"
   ]
  },
  {
   "cell_type": "code",
   "execution_count": 24,
   "metadata": {},
   "outputs": [
    {
     "name": "stdout",
     "output_type": "stream",
     "text": [
      "defand,修改未能成功,因为设置数值必须再0-1000之间\n"
     ]
    }
   ],
   "source": [
    "c=Monster('effy1005',1,2,'monster',3)\n",
    "c.set_attact(999)\n",
    "c.set_defand(-100)"
   ]
  },
  {
   "cell_type": "code",
   "execution_count": 25,
   "metadata": {},
   "outputs": [
    {
     "data": {
      "text/plain": [
       "999"
      ]
     },
     "execution_count": 25,
     "metadata": {},
     "output_type": "execute_result"
    }
   ],
   "source": [
    "c.get_attact()"
   ]
  },
  {
   "cell_type": "code",
   "execution_count": 26,
   "metadata": {},
   "outputs": [
    {
     "data": {
      "text/plain": [
       "2"
      ]
     },
     "execution_count": 26,
     "metadata": {},
     "output_type": "execute_result"
    }
   ],
   "source": [
    "c.get_defand()"
   ]
  }
 ],
 "metadata": {
  "kernelspec": {
   "display_name": "Python 3",
   "language": "python",
   "name": "python3"
  },
  "language_info": {
   "codemirror_mode": {
    "name": "ipython",
    "version": 3
   },
   "file_extension": ".py",
   "mimetype": "text/x-python",
   "name": "python",
   "nbconvert_exporter": "python",
   "pygments_lexer": "ipython3",
   "version": "3.8.3"
  }
 },
 "nbformat": 4,
 "nbformat_minor": 4
}
