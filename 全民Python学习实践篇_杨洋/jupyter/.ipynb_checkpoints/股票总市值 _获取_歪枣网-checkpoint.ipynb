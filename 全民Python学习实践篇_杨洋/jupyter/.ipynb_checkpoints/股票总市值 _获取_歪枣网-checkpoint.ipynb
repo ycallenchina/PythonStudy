{
 "cells": [
  {
   "cell_type": "markdown",
   "metadata": {},
   "source": [
    "### 可以查询A股总市值的获取方式"
   ]
  },
  {
   "cell_type": "code",
   "execution_count": 8,
   "metadata": {
    "scrolled": true
   },
   "outputs": [
    {
     "data": {
      "text/html": [
       "<div>\n",
       "<style scoped>\n",
       "    .dataframe tbody tr th:only-of-type {\n",
       "        vertical-align: middle;\n",
       "    }\n",
       "\n",
       "    .dataframe tbody tr th {\n",
       "        vertical-align: top;\n",
       "    }\n",
       "\n",
       "    .dataframe thead th {\n",
       "        text-align: right;\n",
       "    }\n",
       "</style>\n",
       "<table border=\"1\" class=\"dataframe\">\n",
       "  <thead>\n",
       "    <tr style=\"text-align: right;\">\n",
       "      <th></th>\n",
       "      <th>股票代码</th>\n",
       "      <th>股票名称</th>\n",
       "      <th>总股本（股）</th>\n",
       "      <th>总市值（元）</th>\n",
       "    </tr>\n",
       "  </thead>\n",
       "  <tbody>\n",
       "    <tr>\n",
       "      <th>0</th>\n",
       "      <td>1</td>\n",
       "      <td>平安银行</td>\n",
       "      <td>1.940590e+10</td>\n",
       "      <td>3.522170e+11</td>\n",
       "    </tr>\n",
       "    <tr>\n",
       "      <th>1</th>\n",
       "      <td>2</td>\n",
       "      <td>万  科Ａ</td>\n",
       "      <td>1.162540e+10</td>\n",
       "      <td>2.313450e+11</td>\n",
       "    </tr>\n",
       "    <tr>\n",
       "      <th>2</th>\n",
       "      <td>3</td>\n",
       "      <td>PT金田A</td>\n",
       "      <td>0.000000e+00</td>\n",
       "      <td>0.000000e+00</td>\n",
       "    </tr>\n",
       "    <tr>\n",
       "      <th>3</th>\n",
       "      <td>4</td>\n",
       "      <td>国华网安</td>\n",
       "      <td>1.560030e+08</td>\n",
       "      <td>2.926620e+09</td>\n",
       "    </tr>\n",
       "    <tr>\n",
       "      <th>4</th>\n",
       "      <td>5</td>\n",
       "      <td>ST星源</td>\n",
       "      <td>1.058540e+09</td>\n",
       "      <td>2.286440e+09</td>\n",
       "    </tr>\n",
       "    <tr>\n",
       "      <th>...</th>\n",
       "      <td>...</td>\n",
       "      <td>...</td>\n",
       "      <td>...</td>\n",
       "      <td>...</td>\n",
       "    </tr>\n",
       "    <tr>\n",
       "      <th>4793</th>\n",
       "      <td>871396</td>\n",
       "      <td>常辅股份</td>\n",
       "      <td>5.326390e+07</td>\n",
       "      <td>7.366400e+08</td>\n",
       "    </tr>\n",
       "    <tr>\n",
       "      <th>4794</th>\n",
       "      <td>871553</td>\n",
       "      <td>凯腾精工</td>\n",
       "      <td>1.436900e+08</td>\n",
       "      <td>8.908810e+08</td>\n",
       "    </tr>\n",
       "    <tr>\n",
       "      <th>4795</th>\n",
       "      <td>871642</td>\n",
       "      <td>通易航天</td>\n",
       "      <td>7.405020e+07</td>\n",
       "      <td>1.265520e+09</td>\n",
       "    </tr>\n",
       "    <tr>\n",
       "      <th>4796</th>\n",
       "      <td>871981</td>\n",
       "      <td>晶赛科技</td>\n",
       "      <td>5.283830e+07</td>\n",
       "      <td>2.433730e+09</td>\n",
       "    </tr>\n",
       "    <tr>\n",
       "      <th>4797</th>\n",
       "      <td>872925</td>\n",
       "      <td>锦好医疗</td>\n",
       "      <td>4.697000e+07</td>\n",
       "      <td>1.086890e+09</td>\n",
       "    </tr>\n",
       "  </tbody>\n",
       "</table>\n",
       "<p>4798 rows × 4 columns</p>\n",
       "</div>"
      ],
      "text/plain": [
       "        股票代码   股票名称        总股本（股）        总市值（元）\n",
       "0          1   平安银行  1.940590e+10  3.522170e+11\n",
       "1          2  万  科Ａ  1.162540e+10  2.313450e+11\n",
       "2          3  PT金田A  0.000000e+00  0.000000e+00\n",
       "3          4   国华网安  1.560030e+08  2.926620e+09\n",
       "4          5   ST星源  1.058540e+09  2.286440e+09\n",
       "...      ...    ...           ...           ...\n",
       "4793  871396   常辅股份  5.326390e+07  7.366400e+08\n",
       "4794  871553   凯腾精工  1.436900e+08  8.908810e+08\n",
       "4795  871642   通易航天  7.405020e+07  1.265520e+09\n",
       "4796  871981   晶赛科技  5.283830e+07  2.433730e+09\n",
       "4797  872925   锦好医疗  4.697000e+07  1.086890e+09\n",
       "\n",
       "[4798 rows x 4 columns]"
      ]
     },
     "execution_count": 8,
     "metadata": {},
     "output_type": "execute_result"
    }
   ],
   "source": [
    "import pandas as pd\n",
    "import numpy as np\n",
    "\n",
    "#获取港股列表\n",
    "web='http://api.waizaowang.com/doc/getStockHKBaseInfo?code=all&fields=code,name,market&export=4&token=a69868d089b1898afdd6e1e17d13d66c'\n",
    "#获取港股 个股数据(按日)\n",
    "web1='http://api.waizaowang.com/doc/getStockHKDayKLine?code=00322&startDate=2014-09-02&endDate=2100-01-01&ktype=101&fields=code,name,tdate&export=4&token=a69868d089b1898afdd6e1e17d13d66c'\n",
    "# 获取A股信息\n",
    "token='a69868d089b1898afdd6e1e17d13d66c'\n",
    "web3='http://api.waizaowang.com/doc/getStockHSABaseInfo?code=all&fields=code,name,zgb,zsz&export=4&token='+token\n",
    "\n",
    "df=pd.read_csv(web3,header=1)\n",
    "df"
   ]
  },
  {
   "cell_type": "code",
   "execution_count": 9,
   "metadata": {
    "scrolled": true
   },
   "outputs": [
    {
     "name": "stdout",
     "output_type": "stream",
     "text": [
      "<class 'pandas.core.frame.DataFrame'>\n",
      "RangeIndex: 4798 entries, 0 to 4797\n",
      "Data columns (total 4 columns):\n",
      " #   Column  Non-Null Count  Dtype  \n",
      "---  ------  --------------  -----  \n",
      " 0   股票代码    4798 non-null   int64  \n",
      " 1   股票名称    4798 non-null   object \n",
      " 2   总股本（股）  4798 non-null   float64\n",
      " 3   总市值（元）  4798 non-null   float64\n",
      "dtypes: float64(2), int64(1), object(1)\n",
      "memory usage: 150.1+ KB\n"
     ]
    }
   ],
   "source": [
    "df.info()"
   ]
  }
 ],
 "metadata": {
  "kernelspec": {
   "display_name": "Python 3",
   "language": "python",
   "name": "python3"
  },
  "language_info": {
   "codemirror_mode": {
    "name": "ipython",
    "version": 3
   },
   "file_extension": ".py",
   "mimetype": "text/x-python",
   "name": "python",
   "nbconvert_exporter": "python",
   "pygments_lexer": "ipython3",
   "version": "3.8.3"
  }
 },
 "nbformat": 4,
 "nbformat_minor": 2
}
