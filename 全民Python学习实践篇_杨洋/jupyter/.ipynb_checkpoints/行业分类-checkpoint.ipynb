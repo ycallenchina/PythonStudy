{
 "cells": [
  {
   "cell_type": "code",
   "execution_count": 1,
   "metadata": {
    "scrolled": false
   },
   "outputs": [
    {
     "data": {
      "text/html": [
       "<div>\n",
       "<style scoped>\n",
       "    .dataframe tbody tr th:only-of-type {\n",
       "        vertical-align: middle;\n",
       "    }\n",
       "\n",
       "    .dataframe tbody tr th {\n",
       "        vertical-align: top;\n",
       "    }\n",
       "\n",
       "    .dataframe thead th {\n",
       "        text-align: right;\n",
       "    }\n",
       "</style>\n",
       "<table border=\"1\" class=\"dataframe\">\n",
       "  <thead>\n",
       "    <tr style=\"text-align: right;\">\n",
       "      <th></th>\n",
       "      <th>代码</th>\n",
       "      <th>名称</th>\n",
       "      <th>细分行业</th>\n",
       "      <th>所属行业</th>\n",
       "    </tr>\n",
       "  </thead>\n",
       "  <tbody>\n",
       "    <tr>\n",
       "      <th>0</th>\n",
       "      <td>SZ300209</td>\n",
       "      <td>天泽信息</td>\n",
       "      <td>互联网电商</td>\n",
       "      <td>互联网电商</td>\n",
       "    </tr>\n",
       "    <tr>\n",
       "      <th>1</th>\n",
       "      <td>SZ300264</td>\n",
       "      <td>佳创视讯</td>\n",
       "      <td>IT服务</td>\n",
       "      <td>计算机应用</td>\n",
       "    </tr>\n",
       "    <tr>\n",
       "      <th>2</th>\n",
       "      <td>SZ301025</td>\n",
       "      <td>读客文化</td>\n",
       "      <td>出版</td>\n",
       "      <td>传媒</td>\n",
       "    </tr>\n",
       "    <tr>\n",
       "      <th>3</th>\n",
       "      <td>SH688533</td>\n",
       "      <td>上声电子</td>\n",
       "      <td>汽车零部件</td>\n",
       "      <td>汽车零部件</td>\n",
       "    </tr>\n",
       "    <tr>\n",
       "      <th>4</th>\n",
       "      <td>SZ300437</td>\n",
       "      <td>清水源</td>\n",
       "      <td>其他化学制品</td>\n",
       "      <td>化学制品</td>\n",
       "    </tr>\n",
       "    <tr>\n",
       "      <th>...</th>\n",
       "      <td>...</td>\n",
       "      <td>...</td>\n",
       "      <td>...</td>\n",
       "      <td>...</td>\n",
       "    </tr>\n",
       "    <tr>\n",
       "      <th>4551</th>\n",
       "      <td>SZ301155</td>\n",
       "      <td>海力风电</td>\n",
       "      <td>风电设备</td>\n",
       "      <td>电力设备</td>\n",
       "    </tr>\n",
       "    <tr>\n",
       "      <th>4552</th>\n",
       "      <td>SZ301178</td>\n",
       "      <td>天亿马</td>\n",
       "      <td>IT服务</td>\n",
       "      <td>计算机应用</td>\n",
       "    </tr>\n",
       "    <tr>\n",
       "      <th>4553</th>\n",
       "      <td>SZ301180</td>\n",
       "      <td>万祥科技</td>\n",
       "      <td>消费电子零部件及组装</td>\n",
       "      <td>消费电子</td>\n",
       "    </tr>\n",
       "    <tr>\n",
       "      <th>4554</th>\n",
       "      <td>SZ301185</td>\n",
       "      <td>鸥玛软件</td>\n",
       "      <td>软件开发</td>\n",
       "      <td>计算机应用</td>\n",
       "    </tr>\n",
       "    <tr>\n",
       "      <th>4555</th>\n",
       "      <td>SZ301188</td>\n",
       "      <td>力诺特玻</td>\n",
       "      <td>玻璃玻纤</td>\n",
       "      <td>建筑材料</td>\n",
       "    </tr>\n",
       "  </tbody>\n",
       "</table>\n",
       "<p>4556 rows × 4 columns</p>\n",
       "</div>"
      ],
      "text/plain": [
       "            代码    名称        细分行业   所属行业\n",
       "0     SZ300209  天泽信息       互联网电商  互联网电商\n",
       "1     SZ300264  佳创视讯        IT服务  计算机应用\n",
       "2     SZ301025  读客文化          出版     传媒\n",
       "3     SH688533  上声电子       汽车零部件  汽车零部件\n",
       "4     SZ300437   清水源      其他化学制品   化学制品\n",
       "...        ...   ...         ...    ...\n",
       "4551  SZ301155  海力风电        风电设备   电力设备\n",
       "4552  SZ301178   天亿马        IT服务  计算机应用\n",
       "4553  SZ301180  万祥科技  消费电子零部件及组装   消费电子\n",
       "4554  SZ301185  鸥玛软件        软件开发  计算机应用\n",
       "4555  SZ301188  力诺特玻        玻璃玻纤   建筑材料\n",
       "\n",
       "[4556 rows x 4 columns]"
      ]
     },
     "execution_count": 1,
     "metadata": {},
     "output_type": "execute_result"
    }
   ],
   "source": [
    "import numpy as np\n",
    "import pandas as pd\n",
    "pd.set_option('display.max_rows', 20)\n",
    "sh=pd.read_csv(r'C:\\Users\\YcAllenEffy\\Desktop\\股票纪录脚本\\行业分类表.csv')\n",
    "df=sh\n",
    "df"
   ]
  },
  {
   "cell_type": "code",
   "execution_count": 37,
   "metadata": {
    "scrolled": true
   },
   "outputs": [
    {
     "data": {
      "text/plain": [
       "'国防军工'"
      ]
     },
     "execution_count": 37,
     "metadata": {},
     "output_type": "execute_result"
    }
   ],
   "source": [
    "df[df['代码'].str.contains('600118')]['所属行业'].iloc[0]"
   ]
  },
  {
   "cell_type": "code",
   "execution_count": 10,
   "metadata": {},
   "outputs": [],
   "source": [
    "df.to_csv(r'C:\\Users\\YcAllenEffy\\Desktop\\股票纪录脚本\\行业分类表.csv',encoding='utf_8_sig',index=False)"
   ]
  }
 ],
 "metadata": {
  "kernelspec": {
   "display_name": "Python 3",
   "language": "python",
   "name": "python3"
  },
  "language_info": {
   "codemirror_mode": {
    "name": "ipython",
    "version": 3
   },
   "file_extension": ".py",
   "mimetype": "text/x-python",
   "name": "python",
   "nbconvert_exporter": "python",
   "pygments_lexer": "ipython3",
   "version": "3.8.3"
  }
 },
 "nbformat": 4,
 "nbformat_minor": 4
}
