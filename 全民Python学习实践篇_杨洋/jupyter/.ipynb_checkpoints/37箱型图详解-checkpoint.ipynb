{
 "cells": [
  {
   "cell_type": "markdown",
   "metadata": {},
   "source": [
    "###     下载并读取口岸通关数据，完成以下需求：\n",
    "\n",
    "    1. 创建柱形图，展示各发布时间年份的平均通关人次；\n",
    "\n",
    "    2. 创建箱型图，展示各发布时间年份的通关人次分布；\n",
    "\n",
    "    3. 创建箱型图，展示各发布时间年份的通关人次分布，通过倍数调整“胡须”长度以包含2018年的异常值。"
   ]
  },
  {
   "cell_type": "code",
   "execution_count": 1,
   "metadata": {},
   "outputs": [],
   "source": [
    "import numpy as np\n",
    "import pandas as pd\n",
    "pd.set_option('display.max_rows', 20)\n",
    "sh=pd.read_csv(r'C:\\Users\\YcAllenEffy\\Desktop\\口岸出入境.csv')\n",
    "df=sh"
   ]
  },
  {
   "cell_type": "code",
   "execution_count": 2,
   "metadata": {},
   "outputs": [
    {
     "data": {
      "text/html": [
       "<div>\n",
       "<style scoped>\n",
       "    .dataframe tbody tr th:only-of-type {\n",
       "        vertical-align: middle;\n",
       "    }\n",
       "\n",
       "    .dataframe tbody tr th {\n",
       "        vertical-align: top;\n",
       "    }\n",
       "\n",
       "    .dataframe thead th {\n",
       "        text-align: right;\n",
       "    }\n",
       "</style>\n",
       "<table border=\"1\" class=\"dataframe\">\n",
       "  <thead>\n",
       "    <tr style=\"text-align: right;\">\n",
       "      <th></th>\n",
       "      <th>统计时间</th>\n",
       "      <th>发布时间</th>\n",
       "      <th>通关人次</th>\n",
       "    </tr>\n",
       "  </thead>\n",
       "  <tbody>\n",
       "    <tr>\n",
       "      <th>0</th>\n",
       "      <td>2018年10月</td>\n",
       "      <td>2018/10/1</td>\n",
       "      <td>2237.2</td>\n",
       "    </tr>\n",
       "    <tr>\n",
       "      <th>1</th>\n",
       "      <td>2018年11月</td>\n",
       "      <td>2018/11/1</td>\n",
       "      <td>2128.5</td>\n",
       "    </tr>\n",
       "    <tr>\n",
       "      <th>2</th>\n",
       "      <td>2018年12月</td>\n",
       "      <td>2018/12/1</td>\n",
       "      <td>2336.4</td>\n",
       "    </tr>\n",
       "    <tr>\n",
       "      <th>3</th>\n",
       "      <td>2018年1月</td>\n",
       "      <td>2018/1/1</td>\n",
       "      <td>2097.4</td>\n",
       "    </tr>\n",
       "    <tr>\n",
       "      <th>4</th>\n",
       "      <td>2018年2月</td>\n",
       "      <td>2018/2/1</td>\n",
       "      <td>1891.5</td>\n",
       "    </tr>\n",
       "    <tr>\n",
       "      <th>...</th>\n",
       "      <td>...</td>\n",
       "      <td>...</td>\n",
       "      <td>...</td>\n",
       "    </tr>\n",
       "    <tr>\n",
       "      <th>37</th>\n",
       "      <td>2021年2月</td>\n",
       "      <td>2021/3/15</td>\n",
       "      <td>46.9</td>\n",
       "    </tr>\n",
       "    <tr>\n",
       "      <th>38</th>\n",
       "      <td>2021年3月</td>\n",
       "      <td>2021/4/15</td>\n",
       "      <td>68.1</td>\n",
       "    </tr>\n",
       "    <tr>\n",
       "      <th>39</th>\n",
       "      <td>2021年4月</td>\n",
       "      <td>2021/5/17</td>\n",
       "      <td>66.1</td>\n",
       "    </tr>\n",
       "    <tr>\n",
       "      <th>40</th>\n",
       "      <td>2021年5月</td>\n",
       "      <td>2021/6/15</td>\n",
       "      <td>66.1</td>\n",
       "    </tr>\n",
       "    <tr>\n",
       "      <th>41</th>\n",
       "      <td>2021年6月</td>\n",
       "      <td>2021/7/27</td>\n",
       "      <td>63.1</td>\n",
       "    </tr>\n",
       "  </tbody>\n",
       "</table>\n",
       "<p>42 rows × 3 columns</p>\n",
       "</div>"
      ],
      "text/plain": [
       "        统计时间       发布时间    通关人次\n",
       "0   2018年10月  2018/10/1  2237.2\n",
       "1   2018年11月  2018/11/1  2128.5\n",
       "2   2018年12月  2018/12/1  2336.4\n",
       "3    2018年1月   2018/1/1  2097.4\n",
       "4    2018年2月   2018/2/1  1891.5\n",
       "..       ...        ...     ...\n",
       "37   2021年2月  2021/3/15    46.9\n",
       "38   2021年3月  2021/4/15    68.1\n",
       "39   2021年4月  2021/5/17    66.1\n",
       "40   2021年5月  2021/6/15    66.1\n",
       "41   2021年6月  2021/7/27    63.1\n",
       "\n",
       "[42 rows x 3 columns]"
      ]
     },
     "execution_count": 2,
     "metadata": {},
     "output_type": "execute_result"
    }
   ],
   "source": [
    "df"
   ]
  },
  {
   "cell_type": "code",
   "execution_count": 3,
   "metadata": {},
   "outputs": [],
   "source": [
    "from matplotlib import pyplot as plt\n",
    "import seaborn as sns\n",
    "#设置画图 中文字体初始化\n",
    "sns.set_style('whitegrid', {'font.sans-serif':['simhei', 'Arial']})"
   ]
  },
  {
   "cell_type": "code",
   "execution_count": 7,
   "metadata": {},
   "outputs": [
    {
     "data": {
      "text/html": [
       "<div>\n",
       "<style scoped>\n",
       "    .dataframe tbody tr th:only-of-type {\n",
       "        vertical-align: middle;\n",
       "    }\n",
       "\n",
       "    .dataframe tbody tr th {\n",
       "        vertical-align: top;\n",
       "    }\n",
       "\n",
       "    .dataframe thead th {\n",
       "        text-align: right;\n",
       "    }\n",
       "</style>\n",
       "<table border=\"1\" class=\"dataframe\">\n",
       "  <thead>\n",
       "    <tr style=\"text-align: right;\">\n",
       "      <th></th>\n",
       "      <th>统计时间</th>\n",
       "      <th>发布时间</th>\n",
       "      <th>通关人次</th>\n",
       "      <th>年份</th>\n",
       "    </tr>\n",
       "  </thead>\n",
       "  <tbody>\n",
       "    <tr>\n",
       "      <th>0</th>\n",
       "      <td>2018年10月</td>\n",
       "      <td>2018/10/1</td>\n",
       "      <td>2237.2</td>\n",
       "      <td>2018</td>\n",
       "    </tr>\n",
       "    <tr>\n",
       "      <th>1</th>\n",
       "      <td>2018年11月</td>\n",
       "      <td>2018/11/1</td>\n",
       "      <td>2128.5</td>\n",
       "      <td>2018</td>\n",
       "    </tr>\n",
       "    <tr>\n",
       "      <th>2</th>\n",
       "      <td>2018年12月</td>\n",
       "      <td>2018/12/1</td>\n",
       "      <td>2336.4</td>\n",
       "      <td>2018</td>\n",
       "    </tr>\n",
       "    <tr>\n",
       "      <th>3</th>\n",
       "      <td>2018年1月</td>\n",
       "      <td>2018/1/1</td>\n",
       "      <td>2097.4</td>\n",
       "      <td>2018</td>\n",
       "    </tr>\n",
       "    <tr>\n",
       "      <th>4</th>\n",
       "      <td>2018年2月</td>\n",
       "      <td>2018/2/1</td>\n",
       "      <td>1891.5</td>\n",
       "      <td>2018</td>\n",
       "    </tr>\n",
       "    <tr>\n",
       "      <th>...</th>\n",
       "      <td>...</td>\n",
       "      <td>...</td>\n",
       "      <td>...</td>\n",
       "      <td>...</td>\n",
       "    </tr>\n",
       "    <tr>\n",
       "      <th>37</th>\n",
       "      <td>2021年2月</td>\n",
       "      <td>2021/3/15</td>\n",
       "      <td>46.9</td>\n",
       "      <td>2021</td>\n",
       "    </tr>\n",
       "    <tr>\n",
       "      <th>38</th>\n",
       "      <td>2021年3月</td>\n",
       "      <td>2021/4/15</td>\n",
       "      <td>68.1</td>\n",
       "      <td>2021</td>\n",
       "    </tr>\n",
       "    <tr>\n",
       "      <th>39</th>\n",
       "      <td>2021年4月</td>\n",
       "      <td>2021/5/17</td>\n",
       "      <td>66.1</td>\n",
       "      <td>2021</td>\n",
       "    </tr>\n",
       "    <tr>\n",
       "      <th>40</th>\n",
       "      <td>2021年5月</td>\n",
       "      <td>2021/6/15</td>\n",
       "      <td>66.1</td>\n",
       "      <td>2021</td>\n",
       "    </tr>\n",
       "    <tr>\n",
       "      <th>41</th>\n",
       "      <td>2021年6月</td>\n",
       "      <td>2021/7/27</td>\n",
       "      <td>63.1</td>\n",
       "      <td>2021</td>\n",
       "    </tr>\n",
       "  </tbody>\n",
       "</table>\n",
       "<p>42 rows × 4 columns</p>\n",
       "</div>"
      ],
      "text/plain": [
       "        统计时间       发布时间    通关人次    年份\n",
       "0   2018年10月  2018/10/1  2237.2  2018\n",
       "1   2018年11月  2018/11/1  2128.5  2018\n",
       "2   2018年12月  2018/12/1  2336.4  2018\n",
       "3    2018年1月   2018/1/1  2097.4  2018\n",
       "4    2018年2月   2018/2/1  1891.5  2018\n",
       "..       ...        ...     ...   ...\n",
       "37   2021年2月  2021/3/15    46.9  2021\n",
       "38   2021年3月  2021/4/15    68.1  2021\n",
       "39   2021年4月  2021/5/17    66.1  2021\n",
       "40   2021年5月  2021/6/15    66.1  2021\n",
       "41   2021年6月  2021/7/27    63.1  2021\n",
       "\n",
       "[42 rows x 4 columns]"
      ]
     },
     "execution_count": 7,
     "metadata": {},
     "output_type": "execute_result"
    }
   ],
   "source": [
    "df['年份']=pd.to_datetime(df['发布时间'])\n",
    "df['年份']=df['年份'].dt.year\n",
    "df\n"
   ]
  },
  {
   "cell_type": "code",
   "execution_count": 22,
   "metadata": {},
   "outputs": [
    {
     "data": {
      "text/plain": [
       "<matplotlib.axes._subplots.AxesSubplot at 0x1b674fcc460>"
      ]
     },
     "execution_count": 22,
     "metadata": {},
     "output_type": "execute_result"
    },
    {
     "data": {
      "image/png": "[encoded data removed]",
      "text/plain": [
       "<Figure size 432x288 with 1 Axes>"
      ]
     },
     "metadata": {},
     "output_type": "display_data"
    }
   ],
   "source": [
    "sns.barplot(data=df,x='年份',y='通关人次',estimator=np.mean,ci=None)"
   ]
  },
  {
   "cell_type": "code",
   "execution_count": 13,
   "metadata": {},
   "outputs": [
    {
     "data": {
      "text/plain": [
       "<matplotlib.axes._subplots.AxesSubplot at 0x1b674786610>"
      ]
     },
     "execution_count": 13,
     "metadata": {},
     "output_type": "execute_result"
    },
    {
     "data": {
      "image/png": "[encoded data removed]",
      "text/plain": [
       "<Figure size 432x288 with 1 Axes>"
      ]
     },
     "metadata": {},
     "output_type": "display_data"
    }
   ],
   "source": [
    "sns.boxplot(x='年份',y='通关人次',data=df)"
   ]
  },
  {
   "cell_type": "code",
   "execution_count": 20,
   "metadata": {},
   "outputs": [
    {
     "data": {
      "text/plain": [
       "<matplotlib.axes._subplots.AxesSubplot at 0x1b674ae82b0>"
      ]
     },
     "execution_count": 20,
     "metadata": {},
     "output_type": "execute_result"
    },
    {
     "data": {
      "image/png": "[encoded data removed]",
      "text/plain": [
       "<Figure size 432x288 with 1 Axes>"
      ]
     },
     "metadata": {},
     "output_type": "display_data"
    }
   ],
   "source": [
    "sns.boxplot(x='年份',y='通关人次',data=df,whis=2)"
   ]
  },
  {
   "cell_type": "code",
   "execution_count": 21,
   "metadata": {
    "scrolled": true
   },
   "outputs": [
    {
     "data": {
      "image/png": "[encoded data removed]",
      "text/plain": [
       "<Figure size 1512x504 with 3 Axes>"
      ]
     },
     "metadata": {},
     "output_type": "display_data"
    }
   ],
   "source": [
    "# 标准答案\n",
    "import pandas as pd\n",
    "import seaborn as sns\n",
    "import matplotlib.pyplot as plt\n",
    "\n",
    "sns.set_style('whitegrid', {'font.sans-serif':['simhei', 'Arial']})\n",
    "\n",
    "# df = pd.read_csv(r'.\\口岸出入境.csv')\n",
    "df['发布时间'] = pd.to_datetime(df['发布时间'])\n",
    "df['年'] = df['发布时间'].dt.year\n",
    "\n",
    "fig, axs = plt.subplots(1, 3, figsize=(21, 7))\n",
    "sns.barplot(data=df, x='年', y='通关人次', ax=axs[0], ci=None)\n",
    "sns.boxplot(data=df, x='年', y='通关人次', ax=axs[1])\n",
    "sns.boxplot(data=df, x='年', y='通关人次', ax=axs[2], whis=1.6);"
   ]
  },
  {
   "cell_type": "markdown",
   "metadata": {},
   "source": [
    "###  下载并读取口岸通关数据，完成以下需求：\n",
    "\n",
    "    1. 创建散点图，展示发布时间是2018年的通关人次分布；\n",
    "\n",
    "    2. 创建箱型图，展示发布时间是2018年的通关人次分布，通过比例调整胡须长度以包含所有数值；\n",
    "\n",
    "    3. 创建箱型图，展示发布时间是2020年的通关人次分布，不显示异常值。"
   ]
  },
  {
   "cell_type": "code",
   "execution_count": 28,
   "metadata": {
    "scrolled": true
   },
   "outputs": [
    {
     "data": {
      "image/png": "[encoded data removed]",
      "text/plain": [
       "<Figure size 1080x360 with 1 Axes>"
      ]
     },
     "metadata": {},
     "output_type": "display_data"
    }
   ],
   "source": [
    "df2018=df[df['年份']==2018]\n",
    "sns.set_style('whitegrid', {'font.sans-serif':['simhei', 'Arial']})\n",
    "#图表长15，宽5，透明度0.7，隐藏图例，点的面积、轴标签调整为合适的大小\n",
    "g = sns.scatterplot(x=df.index, y=[0]*len(df), data=df, \n",
    "                    size='通关人次', alpha=0.7, hue=df.index, legend=False, \n",
    "                    sizes=( 10, 10 * df['通关人次'].max()/df['通关人次'].min() ))\n",
    "\n",
    "g.figure.set_size_inches(15, 5) #图形大小设置\n",
    "g.figure.canvas.draw() #画图\n",
    "g.set_xticks(g.get_xticks())# 获取x轴数值\n",
    "g.set_yticks(g.get_yticks()) #获取y轴数值\n",
    "g.set_xticklabels(labels=g.get_xticklabels(), size='large')#x轴标签字体设置large 大号\n",
    "g.set_yticklabels(labels=g.get_yticklabels(), size='x-large');#y轴标签字体设置为x-large 加大号"
   ]
  },
  {
   "cell_type": "code",
   "execution_count": 31,
   "metadata": {
    "scrolled": true
   },
   "outputs": [
    {
     "data": {
      "text/plain": [
       "<matplotlib.axes._subplots.AxesSubplot at 0x1b675424160>"
      ]
     },
     "execution_count": 31,
     "metadata": {},
     "output_type": "execute_result"
    },
    {
     "data": {
      "image/png": "[encoded data removed]",
      "text/plain": [
       "<Figure size 432x288 with 1 Axes>"
      ]
     },
     "metadata": {},
     "output_type": "display_data"
    }
   ],
   "source": [
    "sns.boxplot(x='年份',y='通关人次',data=df2018,whis=1.6)"
   ]
  },
  {
   "cell_type": "code",
   "execution_count": 33,
   "metadata": {
    "scrolled": true
   },
   "outputs": [
    {
     "data": {
      "text/plain": [
       "<matplotlib.axes._subplots.AxesSubplot at 0x1b675475cd0>"
      ]
     },
     "execution_count": 33,
     "metadata": {},
     "output_type": "execute_result"
    },
    {
     "data": {
      "image/png": "[encoded data removed]",
      "text/plain": [
       "<Figure size 432x288 with 1 Axes>"
      ]
     },
     "metadata": {},
     "output_type": "display_data"
    }
   ],
   "source": [
    "df2020=df[df['年份']==2020]\n",
    "sns.boxplot(x='年份',y='通关人次',data=df2020,showfliers=False)"
   ]
  },
  {
   "cell_type": "code",
   "execution_count": 34,
   "metadata": {
    "scrolled": true
   },
   "outputs": [
    {
     "data": {
      "image/png": "[encoded data removed]",
      "text/plain": [
       "<Figure size 1512x504 with 3 Axes>"
      ]
     },
     "metadata": {},
     "output_type": "display_data"
    }
   ],
   "source": [
    "# 标准答案\n",
    "import pandas as pd\n",
    "import seaborn as sns\n",
    "import matplotlib.pyplot as plt\n",
    "\n",
    "sns.set_style('whitegrid', {'font.sans-serif':['simhei', 'Arial']})\n",
    "\n",
    "# df = pd.read_csv(r'.\\口岸出入境.csv')\n",
    "df['发布时间'] = pd.to_datetime(df['发布时间'])\n",
    "df['年'] = df['发布时间'].dt.year\n",
    "df['月'] = df['发布时间'].dt.month\n",
    "df_2018 = df[df['年']==2018]\n",
    "df_2020 = df[df['年']==2020]\n",
    "\n",
    "fig, axs = plt.subplots(1, 3, figsize=(21, 7))\n",
    "sns.swarmplot(data=df_2018, y='通关人次', ax=axs[0], size=10)\n",
    "sns.boxplot(data=df_2018, x='年', y='通关人次', ax=axs[1], whis=(0, 100))\n",
    "sns.boxplot(data=df_2020, x='年', y='通关人次', ax=axs[2], showfliers=False);"
   ]
  },
  {
   "cell_type": "markdown",
   "metadata": {},
   "source": [
    "###  下载并读取口岸通关数据，完成以下需求：\n",
    "\n",
    "    1. 创建柱形图，展示发布时间在2020年和2021年中 2月、3月、4月 各月的通关人次，按年份绘制柱形图颜色；\n",
    "\n",
    "    2. 创建箱型图，展示第1小题数据中2020年和2021年各年的通关人次分布，不显示异常值，显示均值线。"
   ]
  },
  {
   "cell_type": "code",
   "execution_count": 36,
   "metadata": {
    "scrolled": true
   },
   "outputs": [
    {
     "data": {
      "text/html": [
       "<div>\n",
       "<style scoped>\n",
       "    .dataframe tbody tr th:only-of-type {\n",
       "        vertical-align: middle;\n",
       "    }\n",
       "\n",
       "    .dataframe tbody tr th {\n",
       "        vertical-align: top;\n",
       "    }\n",
       "\n",
       "    .dataframe thead th {\n",
       "        text-align: right;\n",
       "    }\n",
       "</style>\n",
       "<table border=\"1\" class=\"dataframe\">\n",
       "  <thead>\n",
       "    <tr style=\"text-align: right;\">\n",
       "      <th></th>\n",
       "      <th>统计时间</th>\n",
       "      <th>发布时间</th>\n",
       "      <th>通关人次</th>\n",
       "      <th>年份</th>\n",
       "      <th>年</th>\n",
       "      <th>月</th>\n",
       "      <th>月份</th>\n",
       "    </tr>\n",
       "  </thead>\n",
       "  <tbody>\n",
       "    <tr>\n",
       "      <th>0</th>\n",
       "      <td>2018年10月</td>\n",
       "      <td>2018-10-01</td>\n",
       "      <td>2237.2</td>\n",
       "      <td>2018</td>\n",
       "      <td>2018</td>\n",
       "      <td>10</td>\n",
       "      <td>10</td>\n",
       "    </tr>\n",
       "    <tr>\n",
       "      <th>1</th>\n",
       "      <td>2018年11月</td>\n",
       "      <td>2018-11-01</td>\n",
       "      <td>2128.5</td>\n",
       "      <td>2018</td>\n",
       "      <td>2018</td>\n",
       "      <td>11</td>\n",
       "      <td>11</td>\n",
       "    </tr>\n",
       "    <tr>\n",
       "      <th>2</th>\n",
       "      <td>2018年12月</td>\n",
       "      <td>2018-12-01</td>\n",
       "      <td>2336.4</td>\n",
       "      <td>2018</td>\n",
       "      <td>2018</td>\n",
       "      <td>12</td>\n",
       "      <td>12</td>\n",
       "    </tr>\n",
       "    <tr>\n",
       "      <th>3</th>\n",
       "      <td>2018年1月</td>\n",
       "      <td>2018-01-01</td>\n",
       "      <td>2097.4</td>\n",
       "      <td>2018</td>\n",
       "      <td>2018</td>\n",
       "      <td>1</td>\n",
       "      <td>1</td>\n",
       "    </tr>\n",
       "    <tr>\n",
       "      <th>4</th>\n",
       "      <td>2018年2月</td>\n",
       "      <td>2018-02-01</td>\n",
       "      <td>1891.5</td>\n",
       "      <td>2018</td>\n",
       "      <td>2018</td>\n",
       "      <td>2</td>\n",
       "      <td>2</td>\n",
       "    </tr>\n",
       "    <tr>\n",
       "      <th>...</th>\n",
       "      <td>...</td>\n",
       "      <td>...</td>\n",
       "      <td>...</td>\n",
       "      <td>...</td>\n",
       "      <td>...</td>\n",
       "      <td>...</td>\n",
       "      <td>...</td>\n",
       "    </tr>\n",
       "    <tr>\n",
       "      <th>37</th>\n",
       "      <td>2021年2月</td>\n",
       "      <td>2021-03-15</td>\n",
       "      <td>46.9</td>\n",
       "      <td>2021</td>\n",
       "      <td>2021</td>\n",
       "      <td>3</td>\n",
       "      <td>3</td>\n",
       "    </tr>\n",
       "    <tr>\n",
       "      <th>38</th>\n",
       "      <td>2021年3月</td>\n",
       "      <td>2021-04-15</td>\n",
       "      <td>68.1</td>\n",
       "      <td>2021</td>\n",
       "      <td>2021</td>\n",
       "      <td>4</td>\n",
       "      <td>4</td>\n",
       "    </tr>\n",
       "    <tr>\n",
       "      <th>39</th>\n",
       "      <td>2021年4月</td>\n",
       "      <td>2021-05-17</td>\n",
       "      <td>66.1</td>\n",
       "      <td>2021</td>\n",
       "      <td>2021</td>\n",
       "      <td>5</td>\n",
       "      <td>5</td>\n",
       "    </tr>\n",
       "    <tr>\n",
       "      <th>40</th>\n",
       "      <td>2021年5月</td>\n",
       "      <td>2021-06-15</td>\n",
       "      <td>66.1</td>\n",
       "      <td>2021</td>\n",
       "      <td>2021</td>\n",
       "      <td>6</td>\n",
       "      <td>6</td>\n",
       "    </tr>\n",
       "    <tr>\n",
       "      <th>41</th>\n",
       "      <td>2021年6月</td>\n",
       "      <td>2021-07-27</td>\n",
       "      <td>63.1</td>\n",
       "      <td>2021</td>\n",
       "      <td>2021</td>\n",
       "      <td>7</td>\n",
       "      <td>7</td>\n",
       "    </tr>\n",
       "  </tbody>\n",
       "</table>\n",
       "<p>42 rows × 7 columns</p>\n",
       "</div>"
      ],
      "text/plain": [
       "        统计时间       发布时间    通关人次    年份     年   月  月份\n",
       "0   2018年10月 2018-10-01  2237.2  2018  2018  10  10\n",
       "1   2018年11月 2018-11-01  2128.5  2018  2018  11  11\n",
       "2   2018年12月 2018-12-01  2336.4  2018  2018  12  12\n",
       "3    2018年1月 2018-01-01  2097.4  2018  2018   1   1\n",
       "4    2018年2月 2018-02-01  1891.5  2018  2018   2   2\n",
       "..       ...        ...     ...   ...   ...  ..  ..\n",
       "37   2021年2月 2021-03-15    46.9  2021  2021   3   3\n",
       "38   2021年3月 2021-04-15    68.1  2021  2021   4   4\n",
       "39   2021年4月 2021-05-17    66.1  2021  2021   5   5\n",
       "40   2021年5月 2021-06-15    66.1  2021  2021   6   6\n",
       "41   2021年6月 2021-07-27    63.1  2021  2021   7   7\n",
       "\n",
       "[42 rows x 7 columns]"
      ]
     },
     "execution_count": 36,
     "metadata": {},
     "output_type": "execute_result"
    }
   ],
   "source": [
    "df['月份']=pd.to_datetime(df['发布时间'])\n",
    "df['月份']=df['月份'].dt.month"
   ]
  },
  {
   "cell_type": "code",
   "execution_count": 44,
   "metadata": {
    "scrolled": true
   },
   "outputs": [
    {
     "data": {
      "text/html": [
       "<div>\n",
       "<style scoped>\n",
       "    .dataframe tbody tr th:only-of-type {\n",
       "        vertical-align: middle;\n",
       "    }\n",
       "\n",
       "    .dataframe tbody tr th {\n",
       "        vertical-align: top;\n",
       "    }\n",
       "\n",
       "    .dataframe thead th {\n",
       "        text-align: right;\n",
       "    }\n",
       "</style>\n",
       "<table border=\"1\" class=\"dataframe\">\n",
       "  <thead>\n",
       "    <tr style=\"text-align: right;\">\n",
       "      <th></th>\n",
       "      <th>统计时间</th>\n",
       "      <th>发布时间</th>\n",
       "      <th>通关人次</th>\n",
       "      <th>年份</th>\n",
       "      <th>年</th>\n",
       "      <th>月</th>\n",
       "      <th>月份</th>\n",
       "    </tr>\n",
       "  </thead>\n",
       "  <tbody>\n",
       "    <tr>\n",
       "      <th>28</th>\n",
       "      <td>2020年2月</td>\n",
       "      <td>2020-02-01</td>\n",
       "      <td>114.3</td>\n",
       "      <td>2020</td>\n",
       "      <td>2020</td>\n",
       "      <td>2</td>\n",
       "      <td>2</td>\n",
       "    </tr>\n",
       "    <tr>\n",
       "      <th>29</th>\n",
       "      <td>2020年3月</td>\n",
       "      <td>2020-03-21</td>\n",
       "      <td>74.7</td>\n",
       "      <td>2020</td>\n",
       "      <td>2020</td>\n",
       "      <td>3</td>\n",
       "      <td>3</td>\n",
       "    </tr>\n",
       "    <tr>\n",
       "      <th>30</th>\n",
       "      <td>2020年4月</td>\n",
       "      <td>2020-04-20</td>\n",
       "      <td>61.0</td>\n",
       "      <td>2020</td>\n",
       "      <td>2020</td>\n",
       "      <td>4</td>\n",
       "      <td>4</td>\n",
       "    </tr>\n",
       "    <tr>\n",
       "      <th>36</th>\n",
       "      <td>2021年1月</td>\n",
       "      <td>2021-02-19</td>\n",
       "      <td>73.6</td>\n",
       "      <td>2021</td>\n",
       "      <td>2021</td>\n",
       "      <td>2</td>\n",
       "      <td>2</td>\n",
       "    </tr>\n",
       "    <tr>\n",
       "      <th>37</th>\n",
       "      <td>2021年2月</td>\n",
       "      <td>2021-03-15</td>\n",
       "      <td>46.9</td>\n",
       "      <td>2021</td>\n",
       "      <td>2021</td>\n",
       "      <td>3</td>\n",
       "      <td>3</td>\n",
       "    </tr>\n",
       "    <tr>\n",
       "      <th>38</th>\n",
       "      <td>2021年3月</td>\n",
       "      <td>2021-04-15</td>\n",
       "      <td>68.1</td>\n",
       "      <td>2021</td>\n",
       "      <td>2021</td>\n",
       "      <td>4</td>\n",
       "      <td>4</td>\n",
       "    </tr>\n",
       "  </tbody>\n",
       "</table>\n",
       "</div>"
      ],
      "text/plain": [
       "       统计时间       发布时间   通关人次    年份     年  月  月份\n",
       "28  2020年2月 2020-02-01  114.3  2020  2020  2   2\n",
       "29  2020年3月 2020-03-21   74.7  2020  2020  3   3\n",
       "30  2020年4月 2020-04-20   61.0  2020  2020  4   4\n",
       "36  2021年1月 2021-02-19   73.6  2021  2021  2   2\n",
       "37  2021年2月 2021-03-15   46.9  2021  2021  3   3\n",
       "38  2021年3月 2021-04-15   68.1  2021  2021  4   4"
      ]
     },
     "execution_count": 44,
     "metadata": {},
     "output_type": "execute_result"
    }
   ],
   "source": [
    "df_ch1=df[(df['年份']==2020) | (df['年份']==2021) ]\n",
    "df_ch1=df_ch1[(df_ch1['月份']==2) | (df_ch1['月份']==3) | (df_ch1['月份']==4)]\n",
    "df_ch1"
   ]
  },
  {
   "cell_type": "code",
   "execution_count": 47,
   "metadata": {
    "scrolled": true
   },
   "outputs": [
    {
     "data": {
      "text/plain": [
       "<matplotlib.axes._subplots.AxesSubplot at 0x1b674d399d0>"
      ]
     },
     "execution_count": 47,
     "metadata": {},
     "output_type": "execute_result"
    },
    {
     "data": {
      "image/png": "[encoded data removed]",
      "text/plain": [
       "<Figure size 432x288 with 1 Axes>"
      ]
     },
     "metadata": {},
     "output_type": "display_data"
    }
   ],
   "source": [
    "sns.barplot(data=df_ch1,x='月份',y='通关人次',hue='年份')"
   ]
  },
  {
   "cell_type": "code",
   "execution_count": 52,
   "metadata": {
    "scrolled": true
   },
   "outputs": [
    {
     "data": {
      "text/plain": [
       "<matplotlib.axes._subplots.AxesSubplot at 0x1b674e2ac40>"
      ]
     },
     "execution_count": 52,
     "metadata": {},
     "output_type": "execute_result"
    },
    {
     "data": {
      "image/png": "[encoded data removed]",
      "text/plain": [
       "<Figure size 432x288 with 1 Axes>"
      ]
     },
     "metadata": {},
     "output_type": "display_data"
    }
   ],
   "source": [
    "sns.boxplot(x='年份',y='通关人次',data=df_ch1,showfliers=False,meanline=True,showmeans=True)"
   ]
  },
  {
   "cell_type": "code",
   "execution_count": 53,
   "metadata": {
    "scrolled": true
   },
   "outputs": [
    {
     "data": {
      "image/png": "[encoded data removed]",
      "text/plain": [
       "<Figure size 1512x504 with 2 Axes>"
      ]
     },
     "metadata": {},
     "output_type": "display_data"
    }
   ],
   "source": [
    "# 标准答案\n",
    "import pandas as pd\n",
    "import seaborn as sns\n",
    "import matplotlib.pyplot as plt\n",
    "\n",
    "sns.set_style('whitegrid', {'font.sans-serif':['simhei', 'Arial']})\n",
    "\n",
    "# df = pd.read_csv(r'.\\口岸出入境.csv')\n",
    "df['发布时间'] = pd.to_datetime(df['发布时间'])\n",
    "df['年'] = df['发布时间'].dt.year\n",
    "df['月'] = df['发布时间'].dt.month\n",
    "df_20_21 = df[(df['年']==2020) | (df['年']==2021)]\n",
    "df_20_21 = df_20_21[df_20_21['月'].isin([2, 3, 4])]\n",
    "\n",
    "fig, axs = plt.subplots(1, 2, figsize=(21, 7))\n",
    "sns.barplot(data=df_20_21, x='月', y='通关人次', ax=axs[0], hue='年', palette='coolwarm')\n",
    "sns.boxplot(data=df_20_21, x='年', y='通关人次', ax=axs[1], showfliers=False, \n",
    "            showmeans=True, meanline=True, palette='coolwarm');"
   ]
  },
  {
   "cell_type": "markdown",
   "metadata": {},
   "source": [
    "### 下载并读取口岸通关数据，完成以下需求：\n",
    "\n",
    "    1. 创建柱形图，展示每年的总通关人次；\n",
    "\n",
    "    2. 创建气泡图，展示每年的平均通关人次，颜色按年分类；\n",
    "\n",
    "    3. 创建分类散点图，展示每年的通关人次分布，颜色按月分类；\n",
    "\n",
    "    4. 创建箱型图，展示2019年的通关人次分布，显示均值线。"
   ]
  },
  {
   "cell_type": "code",
   "execution_count": 55,
   "metadata": {},
   "outputs": [
    {
     "data": {
      "text/plain": [
       "<matplotlib.axes._subplots.AxesSubplot at 0x1b6752671c0>"
      ]
     },
     "execution_count": 55,
     "metadata": {},
     "output_type": "execute_result"
    },
    {
     "data": {
      "image/png": "[encoded data removed]",
      "text/plain": [
       "<Figure size 432x288 with 1 Axes>"
      ]
     },
     "metadata": {},
     "output_type": "display_data"
    }
   ],
   "source": [
    "sns.barplot(data=df,x='年份',y='通关人次',estimator=np.sum,ci=None)"
   ]
  },
  {
   "cell_type": "code",
   "execution_count": 63,
   "metadata": {
    "scrolled": true
   },
   "outputs": [
    {
     "name": "stderr",
     "output_type": "stream",
     "text": [
      "D:\\CODE\\Anaconda\\lib\\site-packages\\matplotlib\\backends\\backend_agg.py:214: RuntimeWarning: Glyph 8722 missing from current font.\n",
      "  font.set_text(s, 0.0, flags=flags)\n",
      "D:\\CODE\\Anaconda\\lib\\site-packages\\matplotlib\\backends\\backend_agg.py:183: RuntimeWarning: Glyph 8722 missing from current font.\n",
      "  font.set_text(s, 0, flags=flags)\n"
     ]
    },
    {
     "data": {
      "image/png": "[encoded data removed]",
      "text/plain": [
       "<Figure size 1080x360 with 1 Axes>"
      ]
     },
     "metadata": {},
     "output_type": "display_data"
    }
   ],
   "source": [
    "df_m=df.groupby('年份').mean()\n",
    "g = sns.scatterplot(x=df_m.index, y=[0]*len(df_m), data=df_m, \n",
    "                    size='通关人次', alpha=0.7, hue=df_m.index, legend=False, \n",
    "                    sizes=( 10, 10 * df_m['通关人次'].max()/df_m['通关人次'].min() ))\n",
    "\n",
    "g.figure.set_size_inches(15, 5) #图形大小设置\n",
    "g.figure.canvas.draw() #画图\n",
    "g.set_xticks(g.get_xticks())# 获取x轴数值\n",
    "g.set_yticks(g.get_yticks()) #获取y轴数值\n",
    "g.set_xticklabels(labels=g.get_xticklabels(), size='large')#x轴标签字体设置large 大号\n",
    "g.set_yticklabels(labels=g.get_yticklabels(), size='x-large');#y轴标签字体设置为x-large 加大号"
   ]
  },
  {
   "cell_type": "code",
   "execution_count": 64,
   "metadata": {
    "scrolled": true
   },
   "outputs": [
    {
     "data": {
      "text/plain": [
       "<seaborn.axisgrid.FacetGrid at 0x1b6748138b0>"
      ]
     },
     "execution_count": 64,
     "metadata": {},
     "output_type": "execute_result"
    },
    {
     "data": {
      "image/png": "[encoded data removed]",
      "text/plain": [
       "<Figure size 406x360 with 1 Axes>"
      ]
     },
     "metadata": {},
     "output_type": "display_data"
    }
   ],
   "source": [
    "sns.catplot(data=df,x='年份',y='通关人次',kind='strip',hue='月份')"
   ]
  },
  {
   "cell_type": "code",
   "execution_count": 67,
   "metadata": {
    "scrolled": true
   },
   "outputs": [
    {
     "data": {
      "text/plain": [
       "<matplotlib.axes._subplots.AxesSubplot at 0x1b677168100>"
      ]
     },
     "execution_count": 67,
     "metadata": {},
     "output_type": "execute_result"
    },
    {
     "data": {
      "image/png": "[encoded data removed]",
      "text/plain": [
       "<Figure size 432x288 with 1 Axes>"
      ]
     },
     "metadata": {},
     "output_type": "display_data"
    }
   ],
   "source": [
    "df2019=df[df['年份']==2019]\n",
    "sns.boxplot(x='年份',y='通关人次',showmeans=True, meanline=True,data=df2019)"
   ]
  },
  {
   "cell_type": "code",
   "execution_count": 68,
   "metadata": {
    "scrolled": true
   },
   "outputs": [
    {
     "ename": "ValueError",
     "evalue": "Could not interpret input '年'",
     "output_type": "error",
     "traceback": [
      "\u001b[1;31m---------------------------------------------------------------------------\u001b[0m",
      "\u001b[1;31mValueError\u001b[0m                                Traceback (most recent call last)",
      "\u001b[1;32m<ipython-input-68-95c1cccc0944>\u001b[0m in \u001b[0;36m<module>\u001b[1;34m\u001b[0m\n\u001b[0;32m     15\u001b[0m \u001b[0mfig\u001b[0m\u001b[1;33m,\u001b[0m \u001b[0maxs\u001b[0m \u001b[1;33m=\u001b[0m \u001b[0mplt\u001b[0m\u001b[1;33m.\u001b[0m\u001b[0msubplots\u001b[0m\u001b[1;33m(\u001b[0m\u001b[1;36m2\u001b[0m\u001b[1;33m,\u001b[0m \u001b[1;36m2\u001b[0m\u001b[1;33m,\u001b[0m \u001b[0mfigsize\u001b[0m\u001b[1;33m=\u001b[0m\u001b[1;33m(\u001b[0m\u001b[1;36m21\u001b[0m\u001b[1;33m,\u001b[0m \u001b[1;36m16\u001b[0m\u001b[1;33m)\u001b[0m\u001b[1;33m)\u001b[0m\u001b[1;33m\u001b[0m\u001b[1;33m\u001b[0m\u001b[0m\n\u001b[0;32m     16\u001b[0m \u001b[0msns\u001b[0m\u001b[1;33m.\u001b[0m\u001b[0mbarplot\u001b[0m\u001b[1;33m(\u001b[0m\u001b[0mdata\u001b[0m\u001b[1;33m=\u001b[0m\u001b[0mdf\u001b[0m\u001b[1;33m,\u001b[0m \u001b[0mx\u001b[0m\u001b[1;33m=\u001b[0m\u001b[1;34m'年'\u001b[0m\u001b[1;33m,\u001b[0m \u001b[0my\u001b[0m\u001b[1;33m=\u001b[0m\u001b[1;34m'通关人次'\u001b[0m\u001b[1;33m,\u001b[0m \u001b[0max\u001b[0m\u001b[1;33m=\u001b[0m\u001b[0maxs\u001b[0m\u001b[1;33m[\u001b[0m\u001b[1;36m0\u001b[0m\u001b[1;33m]\u001b[0m\u001b[1;33m[\u001b[0m\u001b[1;36m0\u001b[0m\u001b[1;33m]\u001b[0m\u001b[1;33m,\u001b[0m \u001b[0mestimator\u001b[0m\u001b[1;33m=\u001b[0m\u001b[0msum\u001b[0m\u001b[1;33m,\u001b[0m \u001b[0mpalette\u001b[0m\u001b[1;33m=\u001b[0m\u001b[1;34m'coolwarm'\u001b[0m\u001b[1;33m,\u001b[0m \u001b[0mci\u001b[0m\u001b[1;33m=\u001b[0m\u001b[1;32mNone\u001b[0m\u001b[1;33m)\u001b[0m\u001b[1;33m\u001b[0m\u001b[1;33m\u001b[0m\u001b[0m\n\u001b[1;32m---> 17\u001b[1;33m g = sns.scatterplot(data=df_t, x='年', y=[0]*len(df_t), ax=axs[0][1], \n\u001b[0m\u001b[0;32m     18\u001b[0m                 \u001b[0mpalette\u001b[0m\u001b[1;33m=\u001b[0m\u001b[1;34m'coolwarm'\u001b[0m\u001b[1;33m,\u001b[0m \u001b[0mlegend\u001b[0m\u001b[1;33m=\u001b[0m\u001b[1;32mFalse\u001b[0m\u001b[1;33m,\u001b[0m \u001b[0mhue\u001b[0m\u001b[1;33m=\u001b[0m\u001b[1;34m'年'\u001b[0m\u001b[1;33m,\u001b[0m\u001b[1;33m\u001b[0m\u001b[1;33m\u001b[0m\u001b[0m\n\u001b[0;32m     19\u001b[0m                 size='通关人次', sizes=( 3*df_t['通关人次'].min(), 3*df_t['通关人次'].max() ))\n",
      "\u001b[1;32mD:\\CODE\\Anaconda\\lib\\site-packages\\seaborn\\relational.py\u001b[0m in \u001b[0;36mscatterplot\u001b[1;34m(x, y, hue, style, size, data, palette, hue_order, hue_norm, sizes, size_order, size_norm, markers, style_order, x_bins, y_bins, units, estimator, ci, n_boot, alpha, x_jitter, y_jitter, legend, ax, **kwargs)\u001b[0m\n\u001b[0;32m   1388\u001b[0m                 legend=\"brief\", ax=None, **kwargs):\n\u001b[0;32m   1389\u001b[0m \u001b[1;33m\u001b[0m\u001b[0m\n\u001b[1;32m-> 1390\u001b[1;33m     p = _ScatterPlotter(\n\u001b[0m\u001b[0;32m   1391\u001b[0m         \u001b[0mx\u001b[0m\u001b[1;33m=\u001b[0m\u001b[0mx\u001b[0m\u001b[1;33m,\u001b[0m \u001b[0my\u001b[0m\u001b[1;33m=\u001b[0m\u001b[0my\u001b[0m\u001b[1;33m,\u001b[0m \u001b[0mhue\u001b[0m\u001b[1;33m=\u001b[0m\u001b[0mhue\u001b[0m\u001b[1;33m,\u001b[0m \u001b[0mstyle\u001b[0m\u001b[1;33m=\u001b[0m\u001b[0mstyle\u001b[0m\u001b[1;33m,\u001b[0m \u001b[0msize\u001b[0m\u001b[1;33m=\u001b[0m\u001b[0msize\u001b[0m\u001b[1;33m,\u001b[0m \u001b[0mdata\u001b[0m\u001b[1;33m=\u001b[0m\u001b[0mdata\u001b[0m\u001b[1;33m,\u001b[0m\u001b[1;33m\u001b[0m\u001b[1;33m\u001b[0m\u001b[0m\n\u001b[0;32m   1392\u001b[0m         \u001b[0mpalette\u001b[0m\u001b[1;33m=\u001b[0m\u001b[0mpalette\u001b[0m\u001b[1;33m,\u001b[0m \u001b[0mhue_order\u001b[0m\u001b[1;33m=\u001b[0m\u001b[0mhue_order\u001b[0m\u001b[1;33m,\u001b[0m \u001b[0mhue_norm\u001b[0m\u001b[1;33m=\u001b[0m\u001b[0mhue_norm\u001b[0m\u001b[1;33m,\u001b[0m\u001b[1;33m\u001b[0m\u001b[1;33m\u001b[0m\u001b[0m\n",
      "\u001b[1;32mD:\\CODE\\Anaconda\\lib\\site-packages\\seaborn\\relational.py\u001b[0m in \u001b[0;36m__init__\u001b[1;34m(self, x, y, hue, size, style, data, palette, hue_order, hue_norm, sizes, size_order, size_norm, dashes, markers, style_order, x_bins, y_bins, units, estimator, ci, n_boot, alpha, x_jitter, y_jitter, legend)\u001b[0m\n\u001b[0;32m    883\u001b[0m                  legend=None):\n\u001b[0;32m    884\u001b[0m \u001b[1;33m\u001b[0m\u001b[0m\n\u001b[1;32m--> 885\u001b[1;33m         plot_data = self.establish_variables(\n\u001b[0m\u001b[0;32m    886\u001b[0m             \u001b[0mx\u001b[0m\u001b[1;33m,\u001b[0m \u001b[0my\u001b[0m\u001b[1;33m,\u001b[0m \u001b[0mhue\u001b[0m\u001b[1;33m,\u001b[0m \u001b[0msize\u001b[0m\u001b[1;33m,\u001b[0m \u001b[0mstyle\u001b[0m\u001b[1;33m,\u001b[0m \u001b[0munits\u001b[0m\u001b[1;33m,\u001b[0m \u001b[0mdata\u001b[0m\u001b[1;33m\u001b[0m\u001b[1;33m\u001b[0m\u001b[0m\n\u001b[0;32m    887\u001b[0m         )\n",
      "\u001b[1;32mD:\\CODE\\Anaconda\\lib\\site-packages\\seaborn\\relational.py\u001b[0m in \u001b[0;36mestablish_variables\u001b[1;34m(self, x, y, hue, size, style, units, data)\u001b[0m\n\u001b[0;32m    135\u001b[0m                 \u001b[1;32mif\u001b[0m \u001b[0misinstance\u001b[0m\u001b[1;33m(\u001b[0m\u001b[0mvar\u001b[0m\u001b[1;33m,\u001b[0m \u001b[0mstr\u001b[0m\u001b[1;33m)\u001b[0m\u001b[1;33m:\u001b[0m\u001b[1;33m\u001b[0m\u001b[1;33m\u001b[0m\u001b[0m\n\u001b[0;32m    136\u001b[0m                     \u001b[0merr\u001b[0m \u001b[1;33m=\u001b[0m \u001b[1;34m\"Could not interpret input '{}'\"\u001b[0m\u001b[1;33m.\u001b[0m\u001b[0mformat\u001b[0m\u001b[1;33m(\u001b[0m\u001b[0mvar\u001b[0m\u001b[1;33m)\u001b[0m\u001b[1;33m\u001b[0m\u001b[1;33m\u001b[0m\u001b[0m\n\u001b[1;32m--> 137\u001b[1;33m                     \u001b[1;32mraise\u001b[0m \u001b[0mValueError\u001b[0m\u001b[1;33m(\u001b[0m\u001b[0merr\u001b[0m\u001b[1;33m)\u001b[0m\u001b[1;33m\u001b[0m\u001b[1;33m\u001b[0m\u001b[0m\n\u001b[0m\u001b[0;32m    138\u001b[0m \u001b[1;33m\u001b[0m\u001b[0m\n\u001b[0;32m    139\u001b[0m             \u001b[1;31m# Extract variable names\u001b[0m\u001b[1;33m\u001b[0m\u001b[1;33m\u001b[0m\u001b[1;33m\u001b[0m\u001b[0m\n",
      "\u001b[1;31mValueError\u001b[0m: Could not interpret input '年'"
     ]
    },
    {
     "data": {
      "image/png": "[encoded data removed]",
      "text/plain": [
       "<Figure size 1512x1152 with 4 Axes>"
      ]
     },
     "metadata": {},
     "output_type": "display_data"
    }
   ],
   "source": [
    "import pandas as pd\n",
    "import seaborn as sns\n",
    "import matplotlib.pyplot as plt\n",
    "\n",
    "sns.set_style('whitegrid', {'font.sans-serif':['simhei', 'Arial']})\n",
    "plt.rcParams['axes.unicode_minus'] = False\n",
    "\n",
    "# df = pd.read_csv(r'.\\口岸出入境.csv')\n",
    "df['发布时间'] = pd.to_datetime(df['发布时间'])\n",
    "df['年'] = df['发布时间'].dt.year\n",
    "df['月'] = df['发布时间'].dt.month\n",
    "df_t = df.groupby('年')[['通关人次']].mean()\n",
    "df_2019 = df[df['年']==2019]\n",
    "\n",
    "fig, axs = plt.subplots(2, 2, figsize=(21, 16))\n",
    "sns.barplot(data=df, x='年', y='通关人次', ax=axs[0][0], estimator=sum, palette='coolwarm', ci=None)\n",
    "g = sns.scatterplot(data=df_t, x='年', y=[0]*len(df_t), ax=axs[0][1], \n",
    "                palette='coolwarm', legend=False, hue='年',\n",
    "                size='通关人次', sizes=( 3*df_t['通关人次'].min(), 3*df_t['通关人次'].max() ))\n",
    "g.set_xticks(g.get_xticks())\n",
    "g.set_xticklabels(labels=g.get_xticks(), size='x-large')\n",
    "sns.swarmplot(data=df, x='年', y='通关人次', ax=axs[1][0], palette='coolwarm', hue='月', size=10)\n",
    "sns.boxplot(data=df_2019, x='年', y='通关人次', ax=axs[1][1], palette='coolwarm',\n",
    "            showmeans=True, meanline=True);"
   ]
  },
  {
   "cell_type": "markdown",
   "metadata": {},
   "source": [
    "###     下载并读取口岸通关数据，完成以下需求：\n",
    "\n",
    "    利用学过的知识，找出数据集中所有处于前25%的数值，也就是箱型图上四分位以上的全部数据"
   ]
  },
  {
   "cell_type": "code",
   "execution_count": 74,
   "metadata": {
    "scrolled": false
   },
   "outputs": [
    {
     "data": {
      "text/html": [
       "<div>\n",
       "<style scoped>\n",
       "    .dataframe tbody tr th:only-of-type {\n",
       "        vertical-align: middle;\n",
       "    }\n",
       "\n",
       "    .dataframe tbody tr th {\n",
       "        vertical-align: top;\n",
       "    }\n",
       "\n",
       "    .dataframe thead th {\n",
       "        text-align: right;\n",
       "    }\n",
       "</style>\n",
       "<table border=\"1\" class=\"dataframe\">\n",
       "  <thead>\n",
       "    <tr style=\"text-align: right;\">\n",
       "      <th></th>\n",
       "      <th>统计时间</th>\n",
       "      <th>发布时间</th>\n",
       "      <th>通关人次</th>\n",
       "      <th>年份</th>\n",
       "      <th>年</th>\n",
       "      <th>月</th>\n",
       "      <th>月份</th>\n",
       "    </tr>\n",
       "  </thead>\n",
       "  <tbody>\n",
       "    <tr>\n",
       "      <th>15</th>\n",
       "      <td>2019年1月</td>\n",
       "      <td>2019-01-01</td>\n",
       "      <td>2394.8</td>\n",
       "      <td>2019</td>\n",
       "      <td>2019</td>\n",
       "      <td>1</td>\n",
       "      <td>1</td>\n",
       "    </tr>\n",
       "    <tr>\n",
       "      <th>2</th>\n",
       "      <td>2018年12月</td>\n",
       "      <td>2018-12-01</td>\n",
       "      <td>2336.4</td>\n",
       "      <td>2018</td>\n",
       "      <td>2018</td>\n",
       "      <td>12</td>\n",
       "      <td>12</td>\n",
       "    </tr>\n",
       "    <tr>\n",
       "      <th>18</th>\n",
       "      <td>2019年4月</td>\n",
       "      <td>2019-04-01</td>\n",
       "      <td>2245.3</td>\n",
       "      <td>2019</td>\n",
       "      <td>2019</td>\n",
       "      <td>4</td>\n",
       "      <td>4</td>\n",
       "    </tr>\n",
       "    <tr>\n",
       "      <th>0</th>\n",
       "      <td>2018年10月</td>\n",
       "      <td>2018-10-01</td>\n",
       "      <td>2237.2</td>\n",
       "      <td>2018</td>\n",
       "      <td>2018</td>\n",
       "      <td>10</td>\n",
       "      <td>10</td>\n",
       "    </tr>\n",
       "    <tr>\n",
       "      <th>19</th>\n",
       "      <td>2019年5月</td>\n",
       "      <td>2019-05-01</td>\n",
       "      <td>2235.0</td>\n",
       "      <td>2019</td>\n",
       "      <td>2019</td>\n",
       "      <td>5</td>\n",
       "      <td>5</td>\n",
       "    </tr>\n",
       "    <tr>\n",
       "      <th>17</th>\n",
       "      <td>2019年3月</td>\n",
       "      <td>2019-03-01</td>\n",
       "      <td>2216.3</td>\n",
       "      <td>2019</td>\n",
       "      <td>2019</td>\n",
       "      <td>3</td>\n",
       "      <td>3</td>\n",
       "    </tr>\n",
       "    <tr>\n",
       "      <th>10</th>\n",
       "      <td>2018年8月</td>\n",
       "      <td>2018-08-01</td>\n",
       "      <td>2166.5</td>\n",
       "      <td>2018</td>\n",
       "      <td>2018</td>\n",
       "      <td>8</td>\n",
       "      <td>8</td>\n",
       "    </tr>\n",
       "    <tr>\n",
       "      <th>6</th>\n",
       "      <td>2018年4月</td>\n",
       "      <td>2018-04-01</td>\n",
       "      <td>2139.8</td>\n",
       "      <td>2018</td>\n",
       "      <td>2018</td>\n",
       "      <td>4</td>\n",
       "      <td>4</td>\n",
       "    </tr>\n",
       "    <tr>\n",
       "      <th>1</th>\n",
       "      <td>2018年11月</td>\n",
       "      <td>2018-11-01</td>\n",
       "      <td>2128.5</td>\n",
       "      <td>2018</td>\n",
       "      <td>2018</td>\n",
       "      <td>11</td>\n",
       "      <td>11</td>\n",
       "    </tr>\n",
       "    <tr>\n",
       "      <th>9</th>\n",
       "      <td>2018年7月</td>\n",
       "      <td>2018-07-01</td>\n",
       "      <td>2127.0</td>\n",
       "      <td>2018</td>\n",
       "      <td>2018</td>\n",
       "      <td>7</td>\n",
       "      <td>7</td>\n",
       "    </tr>\n",
       "  </tbody>\n",
       "</table>\n",
       "</div>"
      ],
      "text/plain": [
       "        统计时间       发布时间    通关人次    年份     年   月  月份\n",
       "15   2019年1月 2019-01-01  2394.8  2019  2019   1   1\n",
       "2   2018年12月 2018-12-01  2336.4  2018  2018  12  12\n",
       "18   2019年4月 2019-04-01  2245.3  2019  2019   4   4\n",
       "0   2018年10月 2018-10-01  2237.2  2018  2018  10  10\n",
       "19   2019年5月 2019-05-01  2235.0  2019  2019   5   5\n",
       "17   2019年3月 2019-03-01  2216.3  2019  2019   3   3\n",
       "10   2018年8月 2018-08-01  2166.5  2018  2018   8   8\n",
       "6    2018年4月 2018-04-01  2139.8  2018  2018   4   4\n",
       "1   2018年11月 2018-11-01  2128.5  2018  2018  11  11\n",
       "9    2018年7月 2018-07-01  2127.0  2018  2018   7   7"
      ]
     },
     "execution_count": 74,
     "metadata": {},
     "output_type": "execute_result"
    }
   ],
   "source": [
    "df_s=df.sort_values('通关人次',ascending=False)\n",
    "df_s.head(len(df_s)//4)"
   ]
  },
  {
   "cell_type": "code",
   "execution_count": null,
   "metadata": {},
   "outputs": [],
   "source": [
    "import pandas as pd\n",
    "import seaborn as sns\n",
    "import matplotlib.pyplot as plt\n",
    "\n",
    "sns.set_style('whitegrid', {'font.sans-serif':['simhei', 'Arial']})\n",
    "\n",
    "df = pd.read_csv(r'.\\口岸出入境.csv')\n",
    "df['发布时间'] = pd.to_datetime(df['发布时间'])\n",
    "df['年'] = df['发布时间'].dt.year\n",
    "df_2018 = df[df['年']==2018]\n",
    "\n",
    "#方法一：\n",
    "n = df_2018.describe().loc['75%','通关人次']\n",
    "res1 = df_2018[df_2018['通关人次']>=n]\n",
    "#方法二：\n",
    "df_t = df_2018.sort_values('通关人次', ascending=False)\n",
    "lengh = len(df_t)\n",
    "res2 = df_t.iloc[:int(lengh*0.25)]  "
   ]
  },
  {
   "cell_type": "code",
   "execution_count": 75,
   "metadata": {},
   "outputs": [
    {
     "data": {
      "text/html": [
       "<div>\n",
       "<style scoped>\n",
       "    .dataframe tbody tr th:only-of-type {\n",
       "        vertical-align: middle;\n",
       "    }\n",
       "\n",
       "    .dataframe tbody tr th {\n",
       "        vertical-align: top;\n",
       "    }\n",
       "\n",
       "    .dataframe thead th {\n",
       "        text-align: right;\n",
       "    }\n",
       "</style>\n",
       "<table border=\"1\" class=\"dataframe\">\n",
       "  <thead>\n",
       "    <tr style=\"text-align: right;\">\n",
       "      <th></th>\n",
       "      <th>通关人次</th>\n",
       "      <th>年份</th>\n",
       "      <th>年</th>\n",
       "      <th>月</th>\n",
       "      <th>月份</th>\n",
       "    </tr>\n",
       "  </thead>\n",
       "  <tbody>\n",
       "    <tr>\n",
       "      <th>count</th>\n",
       "      <td>42.000000</td>\n",
       "      <td>42.000000</td>\n",
       "      <td>42.000000</td>\n",
       "      <td>42.000000</td>\n",
       "      <td>42.000000</td>\n",
       "    </tr>\n",
       "    <tr>\n",
       "      <th>mean</th>\n",
       "      <td>1241.642857</td>\n",
       "      <td>2019.285714</td>\n",
       "      <td>2019.285714</td>\n",
       "      <td>6.214286</td>\n",
       "      <td>6.214286</td>\n",
       "    </tr>\n",
       "    <tr>\n",
       "      <th>std</th>\n",
       "      <td>989.878204</td>\n",
       "      <td>1.042645</td>\n",
       "      <td>1.042645</td>\n",
       "      <td>3.375202</td>\n",
       "      <td>3.375202</td>\n",
       "    </tr>\n",
       "    <tr>\n",
       "      <th>min</th>\n",
       "      <td>46.900000</td>\n",
       "      <td>2018.000000</td>\n",
       "      <td>2018.000000</td>\n",
       "      <td>1.000000</td>\n",
       "      <td>1.000000</td>\n",
       "    </tr>\n",
       "    <tr>\n",
       "      <th>25%</th>\n",
       "      <td>70.850000</td>\n",
       "      <td>2018.000000</td>\n",
       "      <td>2018.000000</td>\n",
       "      <td>3.250000</td>\n",
       "      <td>3.250000</td>\n",
       "    </tr>\n",
       "    <tr>\n",
       "      <th>50%</th>\n",
       "      <td>1801.650000</td>\n",
       "      <td>2019.000000</td>\n",
       "      <td>2019.000000</td>\n",
       "      <td>6.000000</td>\n",
       "      <td>6.000000</td>\n",
       "    </tr>\n",
       "    <tr>\n",
       "      <th>75%</th>\n",
       "      <td>2097.075000</td>\n",
       "      <td>2020.000000</td>\n",
       "      <td>2020.000000</td>\n",
       "      <td>9.000000</td>\n",
       "      <td>9.000000</td>\n",
       "    </tr>\n",
       "    <tr>\n",
       "      <th>max</th>\n",
       "      <td>2394.800000</td>\n",
       "      <td>2021.000000</td>\n",
       "      <td>2021.000000</td>\n",
       "      <td>12.000000</td>\n",
       "      <td>12.000000</td>\n",
       "    </tr>\n",
       "  </tbody>\n",
       "</table>\n",
       "</div>"
      ],
      "text/plain": [
       "              通关人次           年份            年          月         月份\n",
       "count    42.000000    42.000000    42.000000  42.000000  42.000000\n",
       "mean   1241.642857  2019.285714  2019.285714   6.214286   6.214286\n",
       "std     989.878204     1.042645     1.042645   3.375202   3.375202\n",
       "min      46.900000  2018.000000  2018.000000   1.000000   1.000000\n",
       "25%      70.850000  2018.000000  2018.000000   3.250000   3.250000\n",
       "50%    1801.650000  2019.000000  2019.000000   6.000000   6.000000\n",
       "75%    2097.075000  2020.000000  2020.000000   9.000000   9.000000\n",
       "max    2394.800000  2021.000000  2021.000000  12.000000  12.000000"
      ]
     },
     "execution_count": 75,
     "metadata": {},
     "output_type": "execute_result"
    }
   ],
   "source": [
    "df.describe()"
   ]
  }
 ],
 "metadata": {
  "kernelspec": {
   "display_name": "Python 3",
   "language": "python",
   "name": "python3"
  },
  "language_info": {
   "codemirror_mode": {
    "name": "ipython",
    "version": 3
   },
   "file_extension": ".py",
   "mimetype": "text/x-python",
   "name": "python",
   "nbconvert_exporter": "python",
   "pygments_lexer": "ipython3",
   "version": "3.8.3"
  }
 },
 "nbformat": 4,
 "nbformat_minor": 4
}
