{
 "cells": [
  {
   "cell_type": "markdown",
   "metadata": {},
   "source": [
    "### 规范化格式\n",
    "\n",
    "  1.用正则表达式统一文本格式\n",
    "\n",
    "    df['列1']=df['列1'].str.replace('正则式','替换式',regex=True)\n",
    "\n",
    "  2.astype格式转换\n",
    "\n",
    "    df['列1']=df['列1'].astype('int') 把列1格式全部转换为 整数int\n",
    "\n",
    "     str字符串,float浮点数,bool布尔值,datetime时间格式,timedelta时间差\n",
    "\n",
    "  3.apply复杂格式转换\n",
    "\n",
    "    \n",
    "\n",
    "#### 缺失值处理\n",
    "\n",
    "  定位缺失值\n",
    "\n",
    "    df.isnull() 返回df的bool值\n",
    "\n",
    "    df.notnull()\n",
    "\n",
    "  删除缺失值\n",
    "\n",
    "    df=df.dropna()  返回含有缺失值df\n",
    "\n",
    "    参数:inplace=True 直接修改原有df\n",
    "\n",
    "      how='all' 整行为缺失值时才删除,其他保留\n",
    "\n",
    "      thresh=2 整行至少有2个可用数据则保留整行,其余少于2个缺失值则删除\n",
    "\n",
    "      axis=1 按列删除缺失值\n",
    "\n",
    "  替换缺失值\n",
    "\n",
    "    df=df.fillna(0) 缺失值替换为0\n",
    "\n",
    "      可按字典格式给参数,表示按每列替换不同缺失值\n",
    "\n",
    "      {'列1':0,'列2':'不知道'}\n",
    "\n",
    "    df=df.fillna(method='ffill') 向前参考数值填充缺失值\n",
    "\n",
    "    df=df.fillna(method='bfill') 向后参考数值填充缺失值"
   ]
  }
 ],
 "metadata": {
  "kernelspec": {
   "display_name": "Python 3",
   "language": "python",
   "name": "python3"
  },
  "language_info": {
   "codemirror_mode": {
    "name": "ipython",
    "version": 3
   },
   "file_extension": ".py",
   "mimetype": "text/x-python",
   "name": "python",
   "nbconvert_exporter": "python",
   "pygments_lexer": "ipython3",
   "version": "3.8.3"
  }
 },
 "nbformat": 4,
 "nbformat_minor": 4
}
