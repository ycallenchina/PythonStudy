{
 "cells": [
  {
   "cell_type": "markdown",
   "metadata": {},
   "source": [
    "### 创建  dataframe \n",
    "\n",
    "  dataframe('列名1':series1,'列名2':series2)\n",
    "\n",
    "  规则 有则对齐 无则填NAN\n",
    "\n",
    "#### dataframe取列 数据\n",
    "\n",
    "  1,dataframe.列名 (此方法容易混淆datafrme自带的属性名,不建议常用)\n",
    "\n",
    "  2,dataframe['列名']\n",
    "\n",
    "  3,dataframe['列1','列2']  取多列\n",
    "\n",
    "#### dataframe 取行\n",
    "\n",
    "  1,索引使用 dataframe.loc['索引'] or dataframe.iloc['下标']\n",
    "\n",
    "  2,切片 也支持切片操作 如:索引1到索引5\n",
    "\n",
    "    如返回的是一条结果 就是series对象 ,若是多条结果返回的是dataframe对象\n",
    "\n",
    "  3,花哨索引 dataframe.iloc[[1,2,4]] 取出第二三五行数据\n",
    "\n",
    "  4,掩码 dataframe.loc[dataframe['数据1']>90] 找出dataframe里数据1列所有大于90数据\n",
    "\n",
    "  5,定位取单值 dataframe.loc['索引1','列1']\n",
    "\n",
    "  6,二维切片 dataframe.loc['索引1':'索引2','列名1','列名2']\n",
    "\n",
    "  7,组合切片 掩码 花式索引等 dataframe.loc[掩码,[列名1,列名2]]\n",
    "\n",
    "  8,iloc与loc 功能一直,区别在于iloc使用下标做为索引,loc使用索引名做索引\n",
    "\n",
    "#### dataframe.values 转化为numpy 的ndarry数据"
   ]
  }
 ],
 "metadata": {
  "kernelspec": {
   "display_name": "Python 3",
   "language": "python",
   "name": "python3"
  },
  "language_info": {
   "codemirror_mode": {
    "name": "ipython",
    "version": 3
   },
   "file_extension": ".py",
   "mimetype": "text/x-python",
   "name": "python",
   "nbconvert_exporter": "python",
   "pygments_lexer": "ipython3",
   "version": "3.8.3"
  }
 },
 "nbformat": 4,
 "nbformat_minor": 4
}
