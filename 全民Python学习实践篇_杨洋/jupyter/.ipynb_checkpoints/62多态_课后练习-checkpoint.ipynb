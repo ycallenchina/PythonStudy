{
 "cells": [
  {
   "cell_type": "markdown",
   "metadata": {},
   "source": [
    "###  在国际学校中同一个班级中拥有不同国籍的学生，请你分别定义中国人类Chinese、英国人类English和日本人类Japanese。\n",
    "\n",
    "每个学生类都有一个speak方法进行发言，当中国人发言时，打印“我是中国同学，使用中文发言”，其他学生也是类似的。\n",
    "\n",
    "定义一个函数 ask ，该函数接收一个对象作为参数，并调用该对象的 speak 方法让其发言。然后在主程序中，先创建若干个不同国籍学生的对象，再反复调用函数ask，每次传递给它一个不同的学生对象，观察结果。"
   ]
  },
  {
   "cell_type": "code",
   "execution_count": 1,
   "metadata": {},
   "outputs": [],
   "source": [
    "class Chinese():\n",
    "    def __init__(self,n):\n",
    "        self.name=n\n",
    "    \n",
    "    def speak(self):\n",
    "        print('我是中国同学，使用中文发言')\n",
    "    def ask(self,peple):\n",
    "        peple.speak()\n",
    "\n",
    "class Jpanese():\n",
    "    def __init__(self,n):\n",
    "        self.name=n\n",
    "    \n",
    "    def speak(self):\n",
    "        print('我是日本同学，使用日文发言')\n",
    "    def ask(self,peple):\n",
    "        peple.speak()\n",
    "\n",
    "class English():\n",
    "    def __init__(self,n):\n",
    "        self.name=n\n",
    "    \n",
    "    def speak(self):\n",
    "        print('我是英国同学，使用英文文发言')\n",
    "    def ask(self,peple):\n",
    "        peple.speak()"
   ]
  },
  {
   "cell_type": "code",
   "execution_count": 2,
   "metadata": {},
   "outputs": [],
   "source": [
    "a=Chinese('小米')\n",
    "b=Jpanese('苍井空')\n",
    "c=English('Jacky')"
   ]
  },
  {
   "cell_type": "code",
   "execution_count": 6,
   "metadata": {
    "scrolled": true
   },
   "outputs": [
    {
     "name": "stdout",
     "output_type": "stream",
     "text": [
      "我是中国同学，使用中文发言\n"
     ]
    }
   ],
   "source": [
    "c.ask(a)"
   ]
  },
  {
   "cell_type": "code",
   "execution_count": 9,
   "metadata": {},
   "outputs": [
    {
     "name": "stdout",
     "output_type": "stream",
     "text": [
      "我是中国同学，使用中文发言\n",
      "我是日本同学，使用日文发言\n",
      "我是英国同学，使用英文发言\n"
     ]
    }
   ],
   "source": [
    "# 标准答案\n",
    "class Chinese:\n",
    "    def speak(self):\n",
    "        print('我是中国同学，使用中文发言')\n",
    "\n",
    "class English:\n",
    "    def speak(self):\n",
    "        print('我是英国同学，使用英文发言')\n",
    "\n",
    "class Japanese:\n",
    "    def speak(self):\n",
    "        print('我是日本同学，使用日文发言')\n",
    "\n",
    "def ask(stu):\n",
    "    stu.speak()\n",
    "\n",
    "if __name__ == '__main__':\n",
    "    s1 = Chinese()\n",
    "    s2 = Japanese()\n",
    "    s3 = English()\n",
    "    ask(s1)\n",
    "    ask(s2)\n",
    "    ask(s3)"
   ]
  },
  {
   "cell_type": "markdown",
   "metadata": {},
   "source": [
    "###  定义圆形，长方形和正方形三个类，圆类在init时会自动添加一个属性 r，代表半径；长方形会添加 a 和 b 两个属性，代表其长和宽；正方形会添加一个属性 a，代表其边长。\n",
    "然后给每个类都编写两个用于计算自己周长和面积的方法 get_perimeter 和 get_area。\n",
    "\n",
    "接下来定义一个函数tools，只要传给他一个图形对象（即圆、长方形、或正方形），它就可以调用该对象的方法，计算并输出对应的周长和面积。\n",
    "请在主程序中创建若干个这些图形类的对象，然后分别把它们交给函数 tools，观测结果。"
   ]
  },
  {
   "cell_type": "code",
   "execution_count": 14,
   "metadata": {},
   "outputs": [],
   "source": [
    "class Square:\n",
    "    def __init__(self,r):\n",
    "        self.r=r\n",
    "    \n",
    "    def get_perimeter(self):\n",
    "        return 4*self.r\n",
    "    def get_area(self):\n",
    "        return self.r*self.r\n",
    "\n",
    "class Oblong:\n",
    "    def __init__(self,x,y):\n",
    "        self.x=x\n",
    "        self.y=y\n",
    "\n",
    "    def get_perimeter(self):\n",
    "        return 2*(self.x+self.y)\n",
    "    def get_area(self):\n",
    "        return self.x*self.y\n",
    "    \n",
    "class circular:\n",
    "    def __init__(self,r):\n",
    "        self.r=r\n",
    "    \n",
    "    def get_perimeter(self):\n",
    "        return 2*3.14*self.r\n",
    "    def get_area(self):\n",
    "        return 3.14*self.r*self.r\n",
    "\n",
    "def tools(obj):\n",
    "    print('我的周长是',obj.get_perimeter())\n",
    "    print('我的面积是',obj.get_area())"
   ]
  },
  {
   "cell_type": "code",
   "execution_count": 16,
   "metadata": {
    "scrolled": true
   },
   "outputs": [
    {
     "name": "stdout",
     "output_type": "stream",
     "text": [
      "我的周长是 25.12\n",
      "我的面积是 50.24\n"
     ]
    }
   ],
   "source": [
    "a=Square(3)\n",
    "b=Oblong(2,3)\n",
    "c=circular(4)\n",
    "\n",
    "tools(c)\n",
    "    "
   ]
  },
  {
   "cell_type": "code",
   "execution_count": 17,
   "metadata": {},
   "outputs": [
    {
     "name": "stdout",
     "output_type": "stream",
     "text": [
      "圆形的周长： 18.84\n",
      "圆形的面积： 28.26\n",
      "长方形的周长： 60\n",
      "长方形的面积： 200\n",
      "正方形的周长： 28.0\n",
      "正方形的面积： 49.0\n"
     ]
    }
   ],
   "source": [
    "# 标准答案\n",
    "class Circle:\n",
    "    def __init__(self, r):\n",
    "        self.r = r\n",
    "\n",
    "    def get_perimeter(self):\n",
    "        print('圆形的周长：', 3.14 * 2 * self.r)\n",
    "\n",
    "    def get_area(self):\n",
    "        print('圆形的面积：', 3.14 * self.r ** 2)\n",
    "\n",
    "\n",
    "class Rect:\n",
    "    def __init__(self, a, b):\n",
    "        self.a = a\n",
    "        self.b = b\n",
    "\n",
    "    def get_perimeter(self):\n",
    "        print('长方形的周长：', (self.a + self.b) * 2)\n",
    "\n",
    "    def get_area(self):\n",
    "        print('长方形的面积：', self.a * self.b)\n",
    "\n",
    "\n",
    "class Square:\n",
    "    def __init__(self, a):\n",
    "        self.a = a\n",
    "\n",
    "    def get_perimeter(self):\n",
    "        print('正方形的周长：', self.a * 4)\n",
    "\n",
    "    def get_area(self):\n",
    "        print('正方形的面积：', self.a ** 2)\n",
    "\n",
    "\n",
    "def tools(shape):\n",
    "    shape.get_perimeter()\n",
    "    shape.get_area()\n",
    "\n",
    "circle = Circle(3.0)\n",
    "rect = Rect(10, 20)\n",
    "square = Square(7.0)\n",
    "\n",
    "tools(circle)\n",
    "tools(rect)\n",
    "tools(square)"
   ]
  },
  {
   "cell_type": "markdown",
   "metadata": {},
   "source": [
    "###  某代工厂生产两种电脑。笔记本电脑的信息有：品牌、cpu、内存大小、硬盘大小等；台式机电脑的信息有：品牌、cpu、内存大小、硬盘大小、耗电功率等。\n",
    "\n",
    "要求：请定义两个类，分别代表笔记本和台式机两种电脑，并包含其各自的全部信息。接下来在主程序中创建3台笔记本电脑和2台台式机电脑，然后放入一个列表中，并使用一个循环即可打印所有电脑的信息。请使用鸭子模型的思想实现该任务。"
   ]
  },
  {
   "cell_type": "code",
   "execution_count": 19,
   "metadata": {},
   "outputs": [],
   "source": [
    "class Notebook:\n",
    "    def __init__(self,a,b,c,d):\n",
    "        self.brand = a\n",
    "        self.cpu = b\n",
    "        self.memori=c\n",
    "        self.yp=d\n",
    "    def show_info(self):\n",
    "        print('Notebook_info:',\n",
    "        self.brand,\n",
    "        self.cpu,\n",
    "        self.memori,\n",
    "        self.yp)\n",
    "\n",
    "\n",
    "\n",
    "class PC:\n",
    "    def __init__(self,a,b,c,d,e):\n",
    "        self.brand = a\n",
    "        self.cpu = b\n",
    "        self.memori=c\n",
    "        self.yp=d\n",
    "        self.w=e\n",
    "\n",
    "    def show_info(self):\n",
    "        print('PC_info:',\n",
    "        self.brand,\n",
    "        self.cpu,\n",
    "        self.memori,\n",
    "        self.yp,\n",
    "        self.w)"
   ]
  },
  {
   "cell_type": "code",
   "execution_count": 21,
   "metadata": {
    "scrolled": true
   },
   "outputs": [
    {
     "name": "stdout",
     "output_type": "stream",
     "text": [
      "Notebook_info: 联想 cpu5600 32g内存 1T硬盘\n",
      "PC_info: Hp cpu5600 32g内存 1T硬盘 400w耗电量\n"
     ]
    }
   ],
   "source": [
    "elec_list=[Notebook('联想','cpu5600','32g内存','1T硬盘'),\n",
    "          PC('Hp','cpu5600','32g内存','1T硬盘','400w耗电量')]\n",
    "for i in elec_list:\n",
    "    i.show_info()"
   ]
  },
  {
   "cell_type": "code",
   "execution_count": 22,
   "metadata": {
    "scrolled": true
   },
   "outputs": [
    {
     "name": "stdout",
     "output_type": "stream",
     "text": [
      "笔记本电脑： 联想 i7 4710 8G 1TB\n",
      "笔记本电脑： 惠普 i7 5310 8G 255G\n",
      "笔记本电脑： 联想 i5 3380 16G 1TB\n",
      "台式机电脑： 戴尔 i3 9100 16G 2TB 500W\n",
      "台式机电脑： 神舟 AMD 3500X 32G 2TB 550W\n"
     ]
    }
   ],
   "source": [
    "# 标准答案\n",
    "\n",
    "class Laptop:\n",
    "    def __init__(self, brand, cpu, ram, ddr):\n",
    "        self.brand = brand\n",
    "        self.cpu = cpu\n",
    "        self.ram = ram\n",
    "        self.ddr = ddr\n",
    "\n",
    "    def show(self):\n",
    "        print('笔记本电脑：', self.brand, self.cpu, self.ram, self.ddr)\n",
    "\n",
    "\n",
    "class Pc:\n",
    "    def __init__(self, brand, cpu, ram, ddr, power):\n",
    "        self.brand = brand\n",
    "        self.cpu = cpu\n",
    "        self.ram = ram\n",
    "        self.ddr = ddr\n",
    "        self.power = power\n",
    "\n",
    "    def show(self):\n",
    "        print('台式机电脑：', self.brand, self.cpu, self.ram, self.ddr, self.power)\n",
    "\n",
    "\n",
    "computer_list = [\n",
    "    Laptop('联想', 'i7 4710', '8G', '1TB'),\n",
    "    Laptop('惠普', 'i7 5310', '8G', '255G'),\n",
    "    Laptop('联想', 'i5 3380', '16G', '1TB'),\n",
    "    Pc('戴尔', 'i3 9100', '16G', '2TB', '500W'),\n",
    "    Pc('神舟', 'AMD 3500X', '32G', '2TB', '550W'),\n",
    "]\n",
    "\n",
    "\n",
    "def show_info(c):\n",
    "    c.show()\n",
    "\n",
    "\n",
    "for computer in computer_list:\n",
    "    show_info(computer)\n",
    "\n"
   ]
  },
  {
   "cell_type": "markdown",
   "metadata": {},
   "source": [
    "### 游戏中的玩家类的属性有：血量、攻击力、防御力；敌人类的属性有：血量、攻击力、防御力。\n",
    "\n",
    "玩家和敌人都有攻击方法attack和防御方法defense。\n",
    "\n",
    "当玩家攻击时显示玩家的攻击力信息，当敌人攻击时显示敌人的攻击力信息。\n",
    "\n",
    "当玩家防御时显示玩家的防御力信息， 当敌人防御时显示敌人的防御力信息。\n",
    "\n",
    "使用Game类的play方法控制玩家攻击，敌人进行防御。\n",
    "\n",
    "玩家攻击1次，另外两个敌人分别防御1次，总共三轮攻击。 "
   ]
  },
  {
   "cell_type": "code",
   "execution_count": 9,
   "metadata": {},
   "outputs": [],
   "source": [
    "class Player:\n",
    "    def __init__(self,blood,att,defend):\n",
    "        self.blood= blood\n",
    "        self.att = att\n",
    "        self.defend = defend\n",
    "\n",
    "    def attact(self):\n",
    "        print('Player att is :',self.att)\n",
    "    \n",
    "    def defended(self):\n",
    "        print('Player defend is :',self.defend)\n",
    "        \n",
    "\n",
    "class Enemy:\n",
    "    def __init__(self,blood,att,defend):\n",
    "        self.blood= blood\n",
    "        self.att = att\n",
    "        self.defend = defend\n",
    "\n",
    "    def attact(self):\n",
    "        print('Enemy att is :',self.att)\n",
    "    \n",
    "    def defended(self):\n",
    "        print('Enemy defend is :',self.defend)\n",
    "        \n",
    "class Game:\n",
    "    def play(self,player,enemy,enemy2):\n",
    "        player.attact()\n",
    "        enemy.defended()\n",
    "        enemy2.defended()\n",
    "        \n"
   ]
  },
  {
   "cell_type": "code",
   "execution_count": 10,
   "metadata": {},
   "outputs": [
    {
     "name": "stdout",
     "output_type": "stream",
     "text": [
      "Player att is : 2\n",
      "Enemy defend is : 10\n",
      "Enemy defend is : 8\n",
      "Player att is : 2\n",
      "Enemy defend is : 10\n",
      "Enemy defend is : 8\n",
      "Player att is : 2\n",
      "Enemy defend is : 10\n",
      "Enemy defend is : 8\n"
     ]
    }
   ],
   "source": [
    "eff=Player(20,2,0)\n",
    "q=Enemy(23,3,10)\n",
    "b=Enemy(5,3,8)\n",
    "\n",
    "start=Game()\n",
    "for i in range(3):\n",
    "    start.play(eff,q,b)"
   ]
  },
  {
   "cell_type": "code",
   "execution_count": 5,
   "metadata": {},
   "outputs": [
    {
     "name": "stdout",
     "output_type": "stream",
     "text": [
      "当前玩家的攻击力： 500\n",
      "当前敌人的防御力： 200\n",
      "当前敌人的防御力： 200\n",
      "当前玩家的攻击力： 500\n",
      "当前敌人的防御力： 200\n",
      "当前敌人的防御力： 200\n",
      "当前玩家的攻击力： 500\n",
      "当前敌人的防御力： 200\n",
      "当前敌人的防御力： 200\n"
     ]
    }
   ],
   "source": [
    "# 标准答案\n",
    "class Player:\n",
    "    def __init__(self, hp, atk, deff):\n",
    "        self.hp = hp\n",
    "        self.atk = atk\n",
    "        self.deff = deff\n",
    "\n",
    "    def attack(self):\n",
    "        print('当前玩家的攻击力：', self.atk)\n",
    "\n",
    "    def defense(self):\n",
    "        print('当前玩家的防御力：', self.deff)\n",
    "\n",
    "\n",
    "class Enemy:\n",
    "    def __init__(self, hp, atk, deff):\n",
    "        self.hp = hp\n",
    "        self.atk = atk\n",
    "        self.deff = deff\n",
    "\n",
    "    def attack(self):\n",
    "        print('当前敌人的攻击力：', self.atk)\n",
    "\n",
    "    def defense(self):\n",
    "        print('当前敌人的防御力：', self.deff)\n",
    "\n",
    "\n",
    "class Game:\n",
    "    def attack(self, obj):\n",
    "        obj.attack()\n",
    "\n",
    "    def defense(self, obj):\n",
    "        obj.defense()\n",
    "\n",
    "\n",
    "obj_list = [\n",
    "    Player(1000, 500, 300),\n",
    "    Enemy(800, 300, 200),\n",
    "    Enemy(800, 300, 200),\n",
    "]\n",
    "\n",
    "game = Game()\n",
    "for i in range(3):\n",
    "    game.attack(obj_list[0])\n",
    "    game.defense(obj_list[1])\n",
    "    game.defense(obj_list[2])"
   ]
  },
  {
   "cell_type": "markdown",
   "metadata": {},
   "source": [
    "###  创建狮子类和羊类，狮子拥有eat和run方法，分别打印吃喝跑的信息；羊拥有eat和play方法，分别打印吃喝玩的信息。\n",
    "\n",
    "创建饲养员类，饲养员可以给狮子和羊喂食，判断传入对象的类型，执行跑或者玩的行为。"
   ]
  },
  {
   "cell_type": "code",
   "execution_count": 36,
   "metadata": {},
   "outputs": [],
   "source": [
    "class Lion:\n",
    "    def eat(self):\n",
    "        print('im lion ,im eating...')\n",
    "    def run(self):\n",
    "        print('im lion ,i can running...')\n",
    "\n",
    "class Sheep:\n",
    "    def eat(self):\n",
    "        print('im sheep ,im eating...')\n",
    "    def play(self):\n",
    "        print('im sheep ,im playing...')\n",
    "\n",
    "class Peple:\n",
    "    def feed(self,animal):\n",
    "        print('开始喂食')\n",
    "        animal.eat()\n",
    "        if type(animal) is Lion:\n",
    "            animal.run()\n",
    "        else:\n",
    "            animal.play()"
   ]
  },
  {
   "cell_type": "code",
   "execution_count": 38,
   "metadata": {},
   "outputs": [
    {
     "name": "stdout",
     "output_type": "stream",
     "text": [
      "开始喂食\n",
      "im lion ,im eating...\n",
      "im lion ,i can running...\n"
     ]
    }
   ],
   "source": [
    "a=Lion()\n",
    "b=Sheep()\n",
    "eff=Peple()\n",
    "eff.feed(a)"
   ]
  },
  {
   "cell_type": "code",
   "execution_count": 35,
   "metadata": {},
   "outputs": [
    {
     "name": "stdout",
     "output_type": "stream",
     "text": [
      "饲养员开始喂食：\n",
      "狮子吃肉\n",
      "狮子跑开了\n",
      "饲养员开始喂食：\n",
      "羊吃草\n",
      "羊去草地玩了\n"
     ]
    }
   ],
   "source": [
    "# 标准答案\n",
    "class Lion:\n",
    "    def eat(self):\n",
    "        print('狮子吃肉')\n",
    "\n",
    "    def run(self):\n",
    "        print('狮子跑开了')\n",
    "\n",
    "\n",
    "class Sheep:\n",
    "    def eat(self):\n",
    "        print('羊吃草')\n",
    "\n",
    "    def play(self):\n",
    "        print('羊去草地玩了')\n",
    "\n",
    "\n",
    "class Breeder:\n",
    "    def feed(self, obj):\n",
    "        print('饲养员开始喂食：')\n",
    "        obj.eat()\n",
    "        if isinstance(obj, Lion):\n",
    "            obj.run()\n",
    "        else:\n",
    "            obj.play()\n",
    "\n",
    "\n",
    "lion = Lion()\n",
    "sheep = Sheep()\n",
    "bre = Breeder()\n",
    "bre.feed(lion)\n",
    "bre.feed(sheep)\n"
   ]
  }
 ],
 "metadata": {
  "kernelspec": {
   "display_name": "Python 3",
   "language": "python",
   "name": "python3"
  },
  "language_info": {
   "codemirror_mode": {
    "name": "ipython",
    "version": 3
   },
   "file_extension": ".py",
   "mimetype": "text/x-python",
   "name": "python",
   "nbconvert_exporter": "python",
   "pygments_lexer": "ipython3",
   "version": "3.8.3"
  }
 },
 "nbformat": 4,
 "nbformat_minor": 4
}
