{
 "cells": [
  {
   "cell_type": "code",
   "execution_count": null,
   "metadata": {},
   "outputs": [],
   "source": [
    "# 登录初始化\n",
    "import  tushare as ts\n",
    "import pandas as pd\n",
    "pd.set_option('display.max_rows', 20)\n",
    "pro = ts.pro_api('3d98b14b34ae4c172fb871d1dcfebd9edecec57bc5c695afb822921b')#新接口初始化,带自己账号14739570251\n"
   ]
  },
  {
   "cell_type": "code",
   "execution_count": null,
   "metadata": {},
   "outputs": [],
   "source": [
    "pd.set_option('display.max_rows', 20)\n",
    "\n",
    "# 个股获取\n",
    "df = pro.daily_basic(ts_code='603508.SH',start_date='20170301', end_date='20191231', fields='ts_code,trade_date,turnover_rate,volume_ratio,pe,pb,total_mv')\n",
    "df\n"
   ]
  },
  {
   "cell_type": "code",
   "execution_count": null,
   "metadata": {},
   "outputs": [],
   "source": [
    "# 时间格式设置\n",
    "df['时间']=pd.to_datetime(df['trade_date'])\n",
    "df=df.sort_values('时间')\n",
    "df"
   ]
  },
  {
   "cell_type": "code",
   "execution_count": null,
   "metadata": {},
   "outputs": [],
   "source": [
    "# 画图\n",
    "from matplotlib import pyplot as plt\n",
    "import seaborn as sns\n",
    "#设置画图 中文字体初始化\n",
    "sns.set_style('whitegrid', {'font.sans-serif':['simhei', 'Arial']})\n",
    "g=sns.lineplot(data=df2,y='pct_charge',x='时间')\n",
    "g.figure.set_size_inches(15,10)"
   ]
  }
 ],
 "metadata": {
  "kernelspec": {
   "display_name": "Python 3",
   "language": "python",
   "name": "python3"
  },
  "language_info": {
   "codemirror_mode": {
    "name": "ipython",
    "version": 3
   },
   "file_extension": ".py",
   "mimetype": "text/x-python",
   "name": "python",
   "nbconvert_exporter": "python",
   "pygments_lexer": "ipython3",
   "version": "3.8.3"
  }
 },
 "nbformat": 4,
 "nbformat_minor": 4
}
