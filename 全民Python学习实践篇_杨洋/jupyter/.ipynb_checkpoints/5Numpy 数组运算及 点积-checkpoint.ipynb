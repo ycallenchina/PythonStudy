{
 "cells": [
  {
   "cell_type": "markdown",
   "metadata": {},
   "source": [
    "### 整体运算\n",
    "\n",
    "  nd*5\n",
    "\n",
    "  测试循环语句与整体运算速度比较\n",
    "\n",
    "#### 通用函数运算\n",
    "\n",
    "  np.abs()\n",
    "\n",
    "  np.round(x,2) 2表示保留2位小数\n",
    "\n",
    "  np.round(x,out=y)out参数表示将结果写入y中,其中y可以是切片y[::2]\n",
    "\n",
    "  np.add.reduce(x) 累加\n",
    "\n",
    "#### 对位计算(同形数组)\n",
    "\n",
    "  x+x2\n",
    "\n",
    "#### 点积:\n",
    "\n",
    "  原理:左边每行 逐个乘以 右边每列 对应数值 并累加,(其中左列个数等于右行个数)\n",
    "\n",
    "  实践:nd.dot(nd2) nd与nd2点积"
   ]
  },
  {
   "cell_type": "code",
   "execution_count": 1,
   "metadata": {},
   "outputs": [],
   "source": [
    "import numpy as np\n",
    "import pandas as pd"
   ]
  },
  {
   "cell_type": "code",
   "execution_count": 4,
   "metadata": {},
   "outputs": [
    {
     "data": {
      "text/plain": [
       "array([-85, -71,  12,   5, -51, -31, -54, -36, -63, -67])"
      ]
     },
     "execution_count": 4,
     "metadata": {},
     "output_type": "execute_result"
    }
   ],
   "source": [
    "nd=np.random.randint(-100,100,10)\n",
    "nd"
   ]
  },
  {
   "cell_type": "code",
   "execution_count": 5,
   "metadata": {},
   "outputs": [
    {
     "data": {
      "text/plain": [
       "array([-170, -142,   24,   10, -102,  -62, -108,  -72, -126, -134])"
      ]
     },
     "execution_count": 5,
     "metadata": {},
     "output_type": "execute_result"
    }
   ],
   "source": [
    "nd*2"
   ]
  },
  {
   "cell_type": "markdown",
   "metadata": {},
   "source": [
    "### 通用函数运算"
   ]
  },
  {
   "cell_type": "code",
   "execution_count": 6,
   "metadata": {},
   "outputs": [
    {
     "data": {
      "text/plain": [
       "array([85, 71, 12,  5, 51, 31, 54, 36, 63, 67])"
      ]
     },
     "execution_count": 6,
     "metadata": {},
     "output_type": "execute_result"
    }
   ],
   "source": [
    "np.abs(nd)"
   ]
  },
  {
   "cell_type": "code",
   "execution_count": 7,
   "metadata": {},
   "outputs": [
    {
     "data": {
      "text/plain": [
       "array([[0.17557081, 0.45601972, 0.39872424, 0.63185579, 0.97963561],\n",
       "       [0.2454881 , 0.18612286, 0.45552718, 0.46972412, 0.78951978],\n",
       "       [0.89651444, 0.01709643, 0.33384442, 0.03257399, 0.29854739]])"
      ]
     },
     "execution_count": 7,
     "metadata": {},
     "output_type": "execute_result"
    }
   ],
   "source": [
    "nd2=np.random.rand(3,5)\n",
    "nd2"
   ]
  },
  {
   "cell_type": "code",
   "execution_count": 9,
   "metadata": {},
   "outputs": [
    {
     "data": {
      "text/plain": [
       "array([[0.18, 0.46, 0.4 , 0.63, 0.98],\n",
       "       [0.25, 0.19, 0.46, 0.47, 0.79],\n",
       "       [0.9 , 0.02, 0.33, 0.03, 0.3 ]])"
      ]
     },
     "execution_count": 9,
     "metadata": {},
     "output_type": "execute_result"
    }
   ],
   "source": [
    "np.round(nd2,2)"
   ]
  },
  {
   "cell_type": "code",
   "execution_count": 33,
   "metadata": {},
   "outputs": [
    {
     "data": {
      "text/plain": [
       "array([[0.92187178, 0.47040348, 0.71496546, 0.21646093, 0.76877481],\n",
       "       [0.05936239, 0.46969185, 0.71580824, 0.07503654, 0.95596203],\n",
       "       [0.62688642, 0.26756567, 0.72554291, 0.25063348, 0.74666926]])"
      ]
     },
     "execution_count": 33,
     "metadata": {},
     "output_type": "execute_result"
    }
   ],
   "source": [
    "\n",
    "y=np.random.rand(3,5)\n",
    "y"
   ]
  },
  {
   "cell_type": "code",
   "execution_count": 34,
   "metadata": {},
   "outputs": [
    {
     "data": {
      "text/plain": [
       "array([[0.18, 0.46, 0.4 , 0.63, 0.98],\n",
       "       [0.25, 0.19, 0.46, 0.47, 0.79],\n",
       "       [0.9 , 0.02, 0.33, 0.03, 0.3 ]])"
      ]
     },
     "execution_count": 34,
     "metadata": {},
     "output_type": "execute_result"
    }
   ],
   "source": [
    "np.round(nd2,2,out=y[::1])"
   ]
  },
  {
   "cell_type": "code",
   "execution_count": 15,
   "metadata": {},
   "outputs": [
    {
     "data": {
      "text/plain": [
       "-441"
      ]
     },
     "execution_count": 15,
     "metadata": {},
     "output_type": "execute_result"
    }
   ],
   "source": [
    "np.add.reduce(nd)"
   ]
  },
  {
   "cell_type": "markdown",
   "metadata": {},
   "source": [
    "### 对位运算,同形数组"
   ]
  },
  {
   "cell_type": "code",
   "execution_count": 35,
   "metadata": {},
   "outputs": [],
   "source": [
    "x=np.random.randint(0,200,(3,4))\n",
    "x2=np.random.randint(0,200,(3,4))"
   ]
  },
  {
   "cell_type": "code",
   "execution_count": 37,
   "metadata": {},
   "outputs": [
    {
     "data": {
      "text/plain": [
       "array([[ 45,  60, 163,  88],\n",
       "       [ 15, 163,  84, 189],\n",
       "       [ 13,   9, 134,  13]])"
      ]
     },
     "execution_count": 37,
     "metadata": {},
     "output_type": "execute_result"
    }
   ],
   "source": [
    "x"
   ]
  },
  {
   "cell_type": "code",
   "execution_count": 38,
   "metadata": {},
   "outputs": [
    {
     "data": {
      "text/plain": [
       "array([[182, 197, 173, 168],\n",
       "       [114,  21,  81, 180],\n",
       "       [156, 180, 167,  53]])"
      ]
     },
     "execution_count": 38,
     "metadata": {},
     "output_type": "execute_result"
    }
   ],
   "source": [
    "x2"
   ]
  },
  {
   "cell_type": "code",
   "execution_count": 36,
   "metadata": {},
   "outputs": [
    {
     "data": {
      "text/plain": [
       "array([[227, 257, 336, 256],\n",
       "       [129, 184, 165, 369],\n",
       "       [169, 189, 301,  66]])"
      ]
     },
     "execution_count": 36,
     "metadata": {},
     "output_type": "execute_result"
    }
   ],
   "source": [
    "x+x2"
   ]
  },
  {
   "cell_type": "markdown",
   "metadata": {},
   "source": [
    "### 点积"
   ]
  },
  {
   "cell_type": "code",
   "execution_count": 55,
   "metadata": {},
   "outputs": [],
   "source": [
    "x=np.random.randint(0,10,(2,3))\n",
    "x2=np.random.randint(0,10,(3,5))"
   ]
  },
  {
   "cell_type": "code",
   "execution_count": 56,
   "metadata": {},
   "outputs": [
    {
     "data": {
      "text/plain": [
       "array([[1, 3, 7],\n",
       "       [7, 2, 0]])"
      ]
     },
     "execution_count": 56,
     "metadata": {},
     "output_type": "execute_result"
    }
   ],
   "source": [
    "x"
   ]
  },
  {
   "cell_type": "code",
   "execution_count": 57,
   "metadata": {},
   "outputs": [
    {
     "data": {
      "text/plain": [
       "array([[1, 5, 9, 4, 8],\n",
       "       [0, 2, 4, 3, 7],\n",
       "       [5, 1, 9, 1, 9]])"
      ]
     },
     "execution_count": 57,
     "metadata": {},
     "output_type": "execute_result"
    }
   ],
   "source": [
    "x2"
   ]
  },
  {
   "cell_type": "code",
   "execution_count": 58,
   "metadata": {},
   "outputs": [
    {
     "data": {
      "text/plain": [
       "array([[36, 18, 84, 20, 92],\n",
       "       [ 7, 39, 71, 34, 70]])"
      ]
     },
     "execution_count": 58,
     "metadata": {},
     "output_type": "execute_result"
    }
   ],
   "source": [
    "x.dot(x2)"
   ]
  }
 ],
 "metadata": {
  "kernelspec": {
   "display_name": "Python 3",
   "language": "python",
   "name": "python3"
  },
  "language_info": {
   "codemirror_mode": {
    "name": "ipython",
    "version": 3
   },
   "file_extension": ".py",
   "mimetype": "text/x-python",
   "name": "python",
   "nbconvert_exporter": "python",
   "pygments_lexer": "ipython3",
   "version": "3.8.3"
  }
 },
 "nbformat": 4,
 "nbformat_minor": 4
}
