{
 "cells": [
  {
   "cell_type": "markdown",
   "metadata": {},
   "source": [
    "### 使用groupby的多重分组"
   ]
  },
  {
   "cell_type": "markdown",
   "metadata": {},
   "source": [
    "#### 基本使用\n",
    "df.groupby(['列1','列2']).mean()\n",
    "#### 只看单列\n",
    "df.groupby(['列1','列2'])['只看的单列'].mean()\n",
    "#### 转化为二维列表\n",
    "df.groupby(['列1','列2'])['只看的单列'].mean().unstack()\n",
    "#### df保留小数方法\n",
    "    df.rount(2)保留2位小数\n",
    "---\n",
    "#### pivot的使用\n",
    "df.pivot_table('只看的单列',index=['列1'],columns='列二') 默认统计函数为mean\n",
    "#### 使用别的统计函数\n",
    "df.pivot_table('只看的单列',index=['列1'],columns='列二',aggfunc='sum')\n",
    "#### 缺失值处理\n",
    "df.pivot_table('只看的单列',index=['列1'],columns='列二',fill_value=0) 缺失值补充为0\n",
    "#### 多层索引分组方法\n",
    "df.pivot_table('只看的单列',index=['列1','列3'],columns='列二')"
   ]
  }
 ],
 "metadata": {
  "kernelspec": {
   "display_name": "Python 3",
   "language": "python",
   "name": "python3"
  },
  "language_info": {
   "codemirror_mode": {
    "name": "ipython",
    "version": 3
   },
   "file_extension": ".py",
   "mimetype": "text/x-python",
   "name": "python",
   "nbconvert_exporter": "python",
   "pygments_lexer": "ipython3",
   "version": "3.8.3"
  }
 },
 "nbformat": 4,
 "nbformat_minor": 4
}
