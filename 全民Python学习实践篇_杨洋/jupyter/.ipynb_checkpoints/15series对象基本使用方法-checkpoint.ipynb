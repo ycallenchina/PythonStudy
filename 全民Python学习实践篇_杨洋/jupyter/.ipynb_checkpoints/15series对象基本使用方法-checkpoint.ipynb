{
 "cells": [
  {
   "cell_type": "markdown",
   "metadata": {},
   "source": [
    "### 15,课时:series使用方法 类似字典和numpy数组\n",
    "\n",
    "\n",
    "\n",
    "### series 与 字典 dic  相同点\n",
    "\n",
    "1,字典直接构建一个series对象\n",
    "\n",
    "  pd.Series(dic)\n",
    "\n",
    "2,in 判断 字典和series 都可以判断里面存在 对应的键\n",
    "\n",
    "3,创建新键值对 dic['name']='a' series['name']='a'\n",
    "\n",
    "4,查询功能\n",
    "\n",
    "  dic.keys()   series.index\n",
    "\n",
    "  dic.values()  series.values\n",
    "\n",
    "  dec.items()  series.items()\n",
    "\n",
    "\n",
    "\n",
    "### series 与 numpy数组ndarry  相同点\n",
    "\n",
    "1,下标访问数据 series[1]取第二个值\n",
    "\n",
    "2,花式索引 series[[1,2,4]] 取出第2,3,5数据\n",
    "\n",
    "3,掩码 series[series>500] series数据里面大于500的数据   (掩码的解释,一把带洞的尺子)\n",
    "\n",
    "#### 切片 方括号索引法\n",
    "\n",
    "      下标切片series[1:3]代表第二个到第4个,但不包括第四个\n",
    "\n",
    "      索引切片series['索引1':'索引2']代表索引1到索引2 包括索引2的值\n",
    "\n",
    "    注意: 尽量不用 纯数字做索引 不然会造成 切片下标和切片索引混淆\n",
    "\n",
    "#### 使用 loc 和iloc\n",
    "\n",
    "    使用loc: series.loc[1,2,3]\n",
    "\n",
    "      loc遵循 索引名 切片规则 索引不适用下标 均用索引名\n",
    "\n",
    "    使用iloc: series.iloc[1,2,3]\n",
    "\n",
    "      iloc遵循 下标切片规则 索引适用下标 不适用索引名\n",
    "\n",
    "#### series 索引名可以重复 "
   ]
  },
  {
   "cell_type": "markdown",
   "metadata": {},
   "source": [
    "### 创建series"
   ]
  },
  {
   "cell_type": "code",
   "execution_count": 2,
   "metadata": {},
   "outputs": [
    {
     "data": {
      "text/plain": [
       "索引1     1\n",
       "索引2     2\n",
       "索引3    33\n",
       "dtype: int64"
      ]
     },
     "execution_count": 2,
     "metadata": {},
     "output_type": "execute_result"
    }
   ],
   "source": [
    "import pandas as pd\n",
    "import numpy as np\n",
    "sr1=pd.Series({'索引1':1,'索引2':2,'索引3':33})\n",
    "sr1"
   ]
  },
  {
   "cell_type": "code",
   "execution_count": 3,
   "metadata": {},
   "outputs": [
    {
     "data": {
      "text/plain": [
       "一    1\n",
       "二    2\n",
       "三    4\n",
       "四    5\n",
       "dtype: int64"
      ]
     },
     "execution_count": 3,
     "metadata": {},
     "output_type": "execute_result"
    }
   ],
   "source": [
    "sr2=pd.Series([1,2,4,5],['一','二','三','四'])\n",
    "sr2"
   ]
  },
  {
   "cell_type": "markdown",
   "metadata": {},
   "source": [
    "### in 判断 存在键否否"
   ]
  },
  {
   "cell_type": "code",
   "execution_count": 6,
   "metadata": {},
   "outputs": [
    {
     "data": {
      "text/plain": [
       "True"
      ]
     },
     "execution_count": 6,
     "metadata": {},
     "output_type": "execute_result"
    }
   ],
   "source": [
    "'一' in sr2"
   ]
  },
  {
   "cell_type": "markdown",
   "metadata": {},
   "source": [
    "### 新增键"
   ]
  },
  {
   "cell_type": "code",
   "execution_count": 7,
   "metadata": {},
   "outputs": [
    {
     "data": {
      "text/plain": [
       "一      1\n",
       "二      2\n",
       "三      4\n",
       "四      5\n",
       "七七    77\n",
       "dtype: int64"
      ]
     },
     "execution_count": 7,
     "metadata": {},
     "output_type": "execute_result"
    }
   ],
   "source": [
    "sr2['七七']=77\n",
    "sr2"
   ]
  },
  {
   "cell_type": "markdown",
   "metadata": {},
   "source": [
    "### 查询 键值"
   ]
  },
  {
   "cell_type": "code",
   "execution_count": 8,
   "metadata": {},
   "outputs": [
    {
     "data": {
      "text/plain": [
       "Index(['一', '二', '三', '四', '七七'], dtype='object')"
      ]
     },
     "execution_count": 8,
     "metadata": {},
     "output_type": "execute_result"
    }
   ],
   "source": [
    "sr2.index"
   ]
  },
  {
   "cell_type": "code",
   "execution_count": 9,
   "metadata": {},
   "outputs": [
    {
     "data": {
      "text/plain": [
       "array([ 1,  2,  4,  5, 77], dtype=int64)"
      ]
     },
     "execution_count": 9,
     "metadata": {},
     "output_type": "execute_result"
    }
   ],
   "source": [
    "sr2.values"
   ]
  },
  {
   "cell_type": "code",
   "execution_count": 13,
   "metadata": {},
   "outputs": [
    {
     "name": "stdout",
     "output_type": "stream",
     "text": [
      "('一', 1)\n",
      "('二', 2)\n",
      "('三', 4)\n",
      "('四', 5)\n",
      "('七七', 77)\n"
     ]
    }
   ],
   "source": [
    "for i in sr2.items():\n",
    "    print(i)"
   ]
  },
  {
   "cell_type": "markdown",
   "metadata": {},
   "source": [
    "### 取值"
   ]
  },
  {
   "cell_type": "code",
   "execution_count": 15,
   "metadata": {},
   "outputs": [
    {
     "data": {
      "text/plain": [
       "2"
      ]
     },
     "execution_count": 15,
     "metadata": {},
     "output_type": "execute_result"
    }
   ],
   "source": [
    "sr2[1]"
   ]
  },
  {
   "cell_type": "code",
   "execution_count": 16,
   "metadata": {},
   "outputs": [
    {
     "data": {
      "text/plain": [
       "二    2\n",
       "三    4\n",
       "四    5\n",
       "dtype: int64"
      ]
     },
     "execution_count": 16,
     "metadata": {},
     "output_type": "execute_result"
    }
   ],
   "source": [
    "sr2[[1,2,3]]"
   ]
  },
  {
   "cell_type": "code",
   "execution_count": 17,
   "metadata": {},
   "outputs": [
    {
     "data": {
      "text/plain": [
       "三      4\n",
       "四      5\n",
       "七七    77\n",
       "dtype: int64"
      ]
     },
     "execution_count": 17,
     "metadata": {},
     "output_type": "execute_result"
    }
   ],
   "source": [
    "sr2[sr2>2]"
   ]
  },
  {
   "cell_type": "markdown",
   "metadata": {},
   "source": [
    "### 切片"
   ]
  },
  {
   "cell_type": "code",
   "execution_count": 18,
   "metadata": {},
   "outputs": [
    {
     "data": {
      "text/plain": [
       "三    4\n",
       "四    5\n",
       "dtype: int64"
      ]
     },
     "execution_count": 18,
     "metadata": {},
     "output_type": "execute_result"
    }
   ],
   "source": [
    "sr2[2:4]"
   ]
  },
  {
   "cell_type": "code",
   "execution_count": 20,
   "metadata": {},
   "outputs": [
    {
     "data": {
      "text/plain": [
       "二    2\n",
       "三    4\n",
       "四    5\n",
       "dtype: int64"
      ]
     },
     "execution_count": 20,
     "metadata": {},
     "output_type": "execute_result"
    }
   ],
   "source": [
    "sr2['二':'四']"
   ]
  },
  {
   "cell_type": "markdown",
   "metadata": {},
   "source": [
    "### loc和iloc使用"
   ]
  },
  {
   "cell_type": "code",
   "execution_count": 22,
   "metadata": {},
   "outputs": [
    {
     "data": {
      "text/plain": [
       "二      2\n",
       "七七    77\n",
       "dtype: int64"
      ]
     },
     "execution_count": 22,
     "metadata": {},
     "output_type": "execute_result"
    }
   ],
   "source": [
    "sr2.loc[['二','七七']]"
   ]
  },
  {
   "cell_type": "code",
   "execution_count": 23,
   "metadata": {},
   "outputs": [
    {
     "data": {
      "text/plain": [
       "二      2\n",
       "三      4\n",
       "七七    77\n",
       "dtype: int64"
      ]
     },
     "execution_count": 23,
     "metadata": {},
     "output_type": "execute_result"
    }
   ],
   "source": [
    "sr2.iloc[[1,2,4]]"
   ]
  },
  {
   "cell_type": "markdown",
   "metadata": {},
   "source": [
    "### 可重复索引"
   ]
  },
  {
   "cell_type": "code",
   "execution_count": 29,
   "metadata": {},
   "outputs": [
    {
     "data": {
      "text/plain": [
       "王    1\n",
       "五    2\n",
       "王    4\n",
       "四    5\n",
       "dtype: int64"
      ]
     },
     "execution_count": 29,
     "metadata": {},
     "output_type": "execute_result"
    }
   ],
   "source": [
    "sr3=pd.Series([1,2,4,5],['王','五','王','四'])\n",
    "sr3"
   ]
  },
  {
   "cell_type": "code",
   "execution_count": 31,
   "metadata": {},
   "outputs": [
    {
     "data": {
      "text/plain": [
       "王    1\n",
       "王    4\n",
       "dtype: int64"
      ]
     },
     "execution_count": 31,
     "metadata": {},
     "output_type": "execute_result"
    }
   ],
   "source": [
    "sr3['王']"
   ]
  }
 ],
 "metadata": {
  "kernelspec": {
   "display_name": "Python 3",
   "language": "python",
   "name": "python3"
  },
  "language_info": {
   "codemirror_mode": {
    "name": "ipython",
    "version": 3
   },
   "file_extension": ".py",
   "mimetype": "text/x-python",
   "name": "python",
   "nbconvert_exporter": "python",
   "pygments_lexer": "ipython3",
   "version": "3.8.3"
  }
 },
 "nbformat": 4,
 "nbformat_minor": 4
}
