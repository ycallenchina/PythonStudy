{
 "cells": [
  {
   "cell_type": "markdown",
   "metadata": {},
   "source": [
    "## Where 函数(创建新数组) "
   ]
  },
  {
   "cell_type": "code",
   "execution_count": 1,
   "metadata": {},
   "outputs": [
    {
     "data": {
      "text/plain": [
       "array([[134, 157, 191, 148, 164, 103],\n",
       "       [136, 169, 152, 176, 143, 152],\n",
       "       [190, 144, 149, 141, 125, 148],\n",
       "       [111, 166, 112, 155, 127, 179]])"
      ]
     },
     "execution_count": 1,
     "metadata": {},
     "output_type": "execute_result"
    }
   ],
   "source": [
    "import numpy as np\n",
    "a=np.random.randint(100,200,(4,6))\n",
    "a"
   ]
  },
  {
   "cell_type": "markdown",
   "metadata": {},
   "source": [
    "### 用Where替换数值 "
   ]
  },
  {
   "cell_type": "code",
   "execution_count": 2,
   "metadata": {},
   "outputs": [
    {
     "data": {
      "text/plain": [
       "array([['0', '0', '合格', '0', '合格', '0'],\n",
       "       ['0', '合格', '0', '合格', '0', '0'],\n",
       "       ['合格', '0', '0', '0', '0', '0'],\n",
       "       ['0', '合格', '0', '0', '0', '合格']], dtype='<U11')"
      ]
     },
     "execution_count": 2,
     "metadata": {},
     "output_type": "execute_result"
    }
   ],
   "source": [
    "np.where(a>160,'合格',0)"
   ]
  },
  {
   "cell_type": "markdown",
   "metadata": {},
   "source": [
    "### 用Where  定位后实现运算"
   ]
  },
  {
   "cell_type": "code",
   "execution_count": 5,
   "metadata": {},
   "outputs": [
    {
     "data": {
      "text/plain": [
       "array([[ 1430,  1040, 16500, 18000,  1130,  1470],\n",
       "       [19300, 19700,  1320, 17900,  1350, 17900],\n",
       "       [ 1160, 18500, 18900, 19400, 18700,  1430],\n",
       "       [17800,  1240, 16800, 19200,  1550, 19500]])"
      ]
     },
     "execution_count": 5,
     "metadata": {},
     "output_type": "execute_result"
    }
   ],
   "source": [
    "np.where(a>160,a*100,a*10)"
   ]
  },
  {
   "cell_type": "markdown",
   "metadata": {},
   "source": [
    "### Where 的机制: 可应用广播机制\n",
    "    (第一个参数为判断参数,第二个参数为数组,第三个参数也为数组)\n",
    "    运算原理,根据定位判断,正确返回第二个数组里对应的值,否则就返回第三个参数数组里对应值.\n",
    "        如果第二和第三参数为一个值时候,应用广播机制当作是数组执行)"
   ]
  },
  {
   "cell_type": "markdown",
   "metadata": {},
   "source": [
    "### 应用Where机制 实践"
   ]
  },
  {
   "cell_type": "code",
   "execution_count": 7,
   "metadata": {},
   "outputs": [
    {
     "data": {
      "text/plain": [
       "array([[0, 0, 3, 4, 0, 0],\n",
       "       [1, 2, 0, 4, 0, 6],\n",
       "       [0, 2, 3, 4, 5, 0],\n",
       "       [1, 0, 3, 4, 5, 6]])"
      ]
     },
     "execution_count": 7,
     "metadata": {},
     "output_type": "execute_result"
    }
   ],
   "source": [
    "np.where(a>150,[1,2,3,4,5,6],0)"
   ]
  },
  {
   "cell_type": "markdown",
   "metadata": {},
   "source": [
    "### Where 符合替换,不符合不变"
   ]
  },
  {
   "cell_type": "code",
   "execution_count": 8,
   "metadata": {},
   "outputs": [
    {
     "data": {
      "text/plain": [
       "array([['143', '104', '你是对的', '你是对的', '113', '147'],\n",
       "       ['你是对的', '你是对的', '132', '你是对的', '135', '你是对的'],\n",
       "       ['116', '你是对的', '你是对的', '你是对的', '你是对的', '143'],\n",
       "       ['你是对的', '124', '你是对的', '你是对的', '你是对的', '你是对的']], dtype='<U11')"
      ]
     },
     "execution_count": 8,
     "metadata": {},
     "output_type": "execute_result"
    }
   ],
   "source": [
    "np.where(a>150,'你是对的',a)"
   ]
  },
  {
   "cell_type": "markdown",
   "metadata": {},
   "source": [
    "### Where 判断后返回下标结果 "
   ]
  },
  {
   "cell_type": "code",
   "execution_count": 9,
   "metadata": {},
   "outputs": [
    {
     "data": {
      "text/plain": [
       "(array([0, 0, 1, 1, 1, 1, 2, 2, 2, 2, 3, 3, 3, 3, 3], dtype=int64),\n",
       " array([2, 3, 0, 1, 3, 5, 1, 2, 3, 4, 0, 2, 3, 4, 5], dtype=int64))"
      ]
     },
     "execution_count": 9,
     "metadata": {},
     "output_type": "execute_result"
    }
   ],
   "source": [
    "np.where(a>150)"
   ]
  },
  {
   "cell_type": "markdown",
   "metadata": {},
   "source": [
    "#### 其中第一行是0维下标,第二行是1维下标 "
   ]
  },
  {
   "cell_type": "markdown",
   "metadata": {},
   "source": [
    "### 用zip组合坐标,得到完整坐标列表 "
   ]
  },
  {
   "cell_type": "code",
   "execution_count": 13,
   "metadata": {},
   "outputs": [
    {
     "data": {
      "text/plain": [
       "[(0, 2),\n",
       " (0, 3),\n",
       " (1, 0),\n",
       " (1, 1),\n",
       " (1, 3),\n",
       " (1, 5),\n",
       " (2, 1),\n",
       " (2, 2),\n",
       " (2, 3),\n",
       " (2, 4),\n",
       " (3, 0),\n",
       " (3, 2),\n",
       " (3, 3),\n",
       " (3, 4),\n",
       " (3, 5)]"
      ]
     },
     "execution_count": 13,
     "metadata": {},
     "output_type": "execute_result"
    }
   ],
   "source": [
    "s=np.where(a>150)\n",
    "xy=list(zip(s[0],s[1]))\n",
    "xy"
   ]
  }
 ],
 "metadata": {
  "kernelspec": {
   "display_name": "Python 3",
   "language": "python",
   "name": "python3"
  },
  "language_info": {
   "codemirror_mode": {
    "name": "ipython",
    "version": 3
   },
   "file_extension": ".py",
   "mimetype": "text/x-python",
   "name": "python",
   "nbconvert_exporter": "python",
   "pygments_lexer": "ipython3",
   "version": "3.8.3"
  }
 },
 "nbformat": 4,
 "nbformat_minor": 4
}
