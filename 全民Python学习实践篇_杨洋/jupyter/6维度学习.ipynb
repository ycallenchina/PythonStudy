{
 "cells": [
  {
   "cell_type": "code",
   "execution_count": 1,
   "metadata": {},
   "outputs": [],
   "source": [
    "import numpy as np"
   ]
  },
  {
   "cell_type": "markdown",
   "metadata": {},
   "source": [
    "# 数组维度的理解 "
   ]
  },
  {
   "cell_type": "markdown",
   "metadata": {},
   "source": [
    "## 3x2x4\n",
    "### 创建三维 数组 3组2行4列 "
   ]
  },
  {
   "cell_type": "code",
   "execution_count": 2,
   "metadata": {},
   "outputs": [
    {
     "data": {
      "text/plain": [
       "array([[[6, 2, 2, 4],\n",
       "        [5, 6, 4, 9]],\n",
       "\n",
       "       [[7, 3, 7, 5],\n",
       "        [2, 6, 6, 7]],\n",
       "\n",
       "       [[6, 8, 7, 6],\n",
       "        [3, 1, 9, 8]]])"
      ]
     },
     "execution_count": 2,
     "metadata": {},
     "output_type": "execute_result"
    }
   ],
   "source": [
    "a=np.random.randint(1,10,(3,2,4))\n",
    "a"
   ]
  },
  {
   "cell_type": "markdown",
   "metadata": {},
   "source": [
    "## 加权平均分"
   ]
  },
  {
   "cell_type": "code",
   "execution_count": 1,
   "metadata": {},
   "outputs": [
    {
     "data": {
      "text/plain": [
       "7.9"
      ]
     },
     "execution_count": 1,
     "metadata": {},
     "output_type": "execute_result"
    }
   ],
   "source": [
    "import numpy as np\n",
    "\n",
    "arr = np.array([8, 8, 9, 7])\n",
    "np.average(arr, weights=[1, 2, 3, 4])"
   ]
  },
  {
   "cell_type": "markdown",
   "metadata": {},
   "source": [
    "## When 0 Then ?x2x4=2x4\n",
    "#### axis=0时,表示按最外层数组 操作运算,就是按照3组\n",
    "    此时就是把3组数组对位相加,形成2行4列的数组相加结果."
   ]
  },
  {
   "cell_type": "code",
   "execution_count": 3,
   "metadata": {},
   "outputs": [
    {
     "data": {
      "text/plain": [
       "array([[19, 13, 16, 15],\n",
       "       [10, 13, 19, 24]])"
      ]
     },
     "execution_count": 3,
     "metadata": {},
     "output_type": "execute_result"
    }
   ],
   "source": [
    "a.sum(axis=0)"
   ]
  },
  {
   "cell_type": "markdown",
   "metadata": {},
   "source": [
    "## When 1 Then 3x?x4=3x4\n",
    "#### axis=1时,表示按第二层数组 操作运算,就是按照2行操作\n",
    "    此时就是把2行相加,形成3组4列的数组相加结果."
   ]
  },
  {
   "cell_type": "code",
   "execution_count": 4,
   "metadata": {},
   "outputs": [
    {
     "data": {
      "text/plain": [
       "array([[11,  8,  6, 13],\n",
       "       [ 9,  9, 13, 12],\n",
       "       [ 9,  9, 16, 14]])"
      ]
     },
     "execution_count": 4,
     "metadata": {},
     "output_type": "execute_result"
    }
   ],
   "source": [
    "a.sum(axis=1)"
   ]
  },
  {
   "cell_type": "markdown",
   "metadata": {},
   "source": [
    "## When 2 Then 3x2x? =3x2\n",
    "#### axis=2时,表示按第三层数组 操作运算,就是按照4列操作\n",
    "    此时就是把4列相加,形成3组2行的数组相加结果."
   ]
  },
  {
   "cell_type": "code",
   "execution_count": 5,
   "metadata": {},
   "outputs": [
    {
     "data": {
      "text/plain": [
       "array([[14, 24],\n",
       "       [22, 21],\n",
       "       [27, 21]])"
      ]
     },
     "execution_count": 5,
     "metadata": {},
     "output_type": "execute_result"
    }
   ],
   "source": [
    "a.sum(axis=2)"
   ]
  },
  {
   "cell_type": "markdown",
   "metadata": {},
   "source": [
    "# When (1,2) Then 3x?x?=3\n",
    "#### axis=(1,2) ,表示按第2层 2行相加后,得到3组4列数组,再按第3层 4列相加,3个组的数字."
   ]
  },
  {
   "cell_type": "code",
   "execution_count": 6,
   "metadata": {},
   "outputs": [
    {
     "data": {
      "text/plain": [
       "array([38, 43, 48])"
      ]
     },
     "execution_count": 6,
     "metadata": {},
     "output_type": "execute_result"
    }
   ],
   "source": [
    "a.sum(axis=(1,2))"
   ]
  },
  {
   "cell_type": "markdown",
   "metadata": {},
   "source": [
    "## 额外学习 4维数组 的axis=0时相加"
   ]
  },
  {
   "cell_type": "code",
   "execution_count": 7,
   "metadata": {},
   "outputs": [
    {
     "data": {
      "text/plain": [
       "array([[[[9, 5, 4, 2, 1],\n",
       "         [6, 8, 1, 7, 4],\n",
       "         [3, 9, 6, 9, 4],\n",
       "         [1, 3, 1, 8, 3]],\n",
       "\n",
       "        [[1, 7, 8, 1, 5],\n",
       "         [6, 6, 8, 5, 2],\n",
       "         [3, 7, 5, 5, 2],\n",
       "         [4, 3, 4, 2, 3]],\n",
       "\n",
       "        [[3, 2, 8, 3, 3],\n",
       "         [1, 4, 4, 8, 6],\n",
       "         [4, 5, 4, 4, 2],\n",
       "         [6, 4, 7, 6, 5]]],\n",
       "\n",
       "\n",
       "       [[[9, 5, 3, 8, 6],\n",
       "         [9, 5, 5, 9, 1],\n",
       "         [6, 1, 8, 5, 5],\n",
       "         [7, 6, 3, 4, 9]],\n",
       "\n",
       "        [[6, 8, 7, 5, 6],\n",
       "         [3, 3, 1, 9, 3],\n",
       "         [2, 9, 3, 9, 8],\n",
       "         [5, 2, 7, 9, 7]],\n",
       "\n",
       "        [[6, 1, 9, 1, 1],\n",
       "         [9, 8, 8, 3, 3],\n",
       "         [8, 6, 4, 9, 3],\n",
       "         [4, 7, 9, 9, 2]]]])"
      ]
     },
     "execution_count": 7,
     "metadata": {},
     "output_type": "execute_result"
    }
   ],
   "source": [
    "ax=np.random.randint(1,10,(2,3,4,5))\n",
    "ax"
   ]
  },
  {
   "cell_type": "code",
   "execution_count": 8,
   "metadata": {},
   "outputs": [
    {
     "data": {
      "text/plain": [
       "array([[[18, 10,  7, 10,  7],\n",
       "        [15, 13,  6, 16,  5],\n",
       "        [ 9, 10, 14, 14,  9],\n",
       "        [ 8,  9,  4, 12, 12]],\n",
       "\n",
       "       [[ 7, 15, 15,  6, 11],\n",
       "        [ 9,  9,  9, 14,  5],\n",
       "        [ 5, 16,  8, 14, 10],\n",
       "        [ 9,  5, 11, 11, 10]],\n",
       "\n",
       "       [[ 9,  3, 17,  4,  4],\n",
       "        [10, 12, 12, 11,  9],\n",
       "        [12, 11,  8, 13,  5],\n",
       "        [10, 11, 16, 15,  7]]])"
      ]
     },
     "execution_count": 8,
     "metadata": {},
     "output_type": "execute_result"
    }
   ],
   "source": [
    "ax.sum(axis=0)"
   ]
  },
  {
   "cell_type": "code",
   "execution_count": 13,
   "metadata": {},
   "outputs": [
    {
     "data": {
      "text/plain": [
       "array([[4, 8, 5, 5],\n",
       "       [1, 8, 3, 1]])"
      ]
     },
     "execution_count": 13,
     "metadata": {},
     "output_type": "execute_result"
    }
   ],
   "source": [
    "x=np.random.randint(1,10,(2,4))\n",
    "x"
   ]
  }
 ],
 "metadata": {
  "kernelspec": {
   "display_name": "Python 3",
   "language": "python",
   "name": "python3"
  },
  "language_info": {
   "codemirror_mode": {
    "name": "ipython",
    "version": 3
   },
   "file_extension": ".py",
   "mimetype": "text/x-python",
   "name": "python",
   "nbconvert_exporter": "python",
   "pygments_lexer": "ipython3",
   "version": "3.8.3"
  }
 },
 "nbformat": 4,
 "nbformat_minor": 4
}
