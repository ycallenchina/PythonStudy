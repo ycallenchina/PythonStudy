{
 "cells": [
  {
   "cell_type": "code",
   "execution_count": 10,
   "metadata": {
    "scrolled": false
   },
   "outputs": [
    {
     "data": {
      "text/html": [
       "<div>\n",
       "<style scoped>\n",
       "    .dataframe tbody tr th:only-of-type {\n",
       "        vertical-align: middle;\n",
       "    }\n",
       "\n",
       "    .dataframe tbody tr th {\n",
       "        vertical-align: top;\n",
       "    }\n",
       "\n",
       "    .dataframe thead th {\n",
       "        text-align: right;\n",
       "    }\n",
       "</style>\n",
       "<table border=\"1\" class=\"dataframe\">\n",
       "  <thead>\n",
       "    <tr style=\"text-align: right;\">\n",
       "      <th></th>\n",
       "      <th>code</th>\n",
       "      <th>tdate</th>\n",
       "      <th>open</th>\n",
       "    </tr>\n",
       "  </thead>\n",
       "  <tbody>\n",
       "    <tr>\n",
       "      <td>0</td>\n",
       "      <td>股票代码</td>\n",
       "      <td>分时时间</td>\n",
       "      <td>开盘价</td>\n",
       "    </tr>\n",
       "    <tr>\n",
       "      <td>1</td>\n",
       "      <td>000001</td>\n",
       "      <td>2021-09-09 09:15:00.0</td>\n",
       "      <td>19.23</td>\n",
       "    </tr>\n",
       "    <tr>\n",
       "      <td>2</td>\n",
       "      <td>000001</td>\n",
       "      <td>2021-09-09 09:16:00.0</td>\n",
       "      <td>19.23</td>\n",
       "    </tr>\n",
       "    <tr>\n",
       "      <td>3</td>\n",
       "      <td>000001</td>\n",
       "      <td>2021-09-09 09:17:00.0</td>\n",
       "      <td>19.23</td>\n",
       "    </tr>\n",
       "    <tr>\n",
       "      <td>4</td>\n",
       "      <td>000001</td>\n",
       "      <td>2021-09-09 09:18:00.0</td>\n",
       "      <td>19.23</td>\n",
       "    </tr>\n",
       "    <tr>\n",
       "      <td>...</td>\n",
       "      <td>...</td>\n",
       "      <td>...</td>\n",
       "      <td>...</td>\n",
       "    </tr>\n",
       "    <tr>\n",
       "      <td>1020</td>\n",
       "      <td>000002</td>\n",
       "      <td>2021-09-10 14:56:00.0</td>\n",
       "      <td>20.42</td>\n",
       "    </tr>\n",
       "    <tr>\n",
       "      <td>1021</td>\n",
       "      <td>000002</td>\n",
       "      <td>2021-09-10 14:57:00.0</td>\n",
       "      <td>20.4</td>\n",
       "    </tr>\n",
       "    <tr>\n",
       "      <td>1022</td>\n",
       "      <td>000002</td>\n",
       "      <td>2021-09-10 14:58:00.0</td>\n",
       "      <td>20.41</td>\n",
       "    </tr>\n",
       "    <tr>\n",
       "      <td>1023</td>\n",
       "      <td>000002</td>\n",
       "      <td>2021-09-10 14:59:00.0</td>\n",
       "      <td>20.41</td>\n",
       "    </tr>\n",
       "    <tr>\n",
       "      <td>1024</td>\n",
       "      <td>000002</td>\n",
       "      <td>2021-09-10 15:00:00.0</td>\n",
       "      <td>20.4</td>\n",
       "    </tr>\n",
       "  </tbody>\n",
       "</table>\n",
       "<p>1025 rows × 3 columns</p>\n",
       "</div>"
      ],
      "text/plain": [
       "        code                  tdate   open\n",
       "0       股票代码                   分时时间    开盘价\n",
       "1     000001  2021-09-09 09:15:00.0  19.23\n",
       "2     000001  2021-09-09 09:16:00.0  19.23\n",
       "3     000001  2021-09-09 09:17:00.0  19.23\n",
       "4     000001  2021-09-09 09:18:00.0  19.23\n",
       "...      ...                    ...    ...\n",
       "1020  000002  2021-09-10 14:56:00.0  20.42\n",
       "1021  000002  2021-09-10 14:57:00.0   20.4\n",
       "1022  000002  2021-09-10 14:58:00.0  20.41\n",
       "1023  000002  2021-09-10 14:59:00.0  20.41\n",
       "1024  000002  2021-09-10 15:00:00.0   20.4\n",
       "\n",
       "[1025 rows x 3 columns]"
      ]
     },
     "execution_count": 10,
     "metadata": {},
     "output_type": "execute_result"
    }
   ],
   "source": [
    "import pandas as pd\n",
    "import numpy as np\n",
    "# 歪枣网网址\n",
    "# http://waizaowang.com/api/detail/101\n",
    "\n",
    "\n",
    "web='http://api.waizaowang.com/doc/getStockHSAMinuteKLine?\\\n",
    "code=000001,000002&\\\n",
    "startDate=2021-09-09&endDate=2100-01-01&\\\n",
    "fields=code,tdate,open&\\\n",
    "export=4&token=a69868d089b1898afdd6e1e17d13d66c'\n",
    "\n",
    "df=pd.read_csv(web)\n",
    "\n",
    "df\n"
   ]
  },
  {
   "cell_type": "code",
   "execution_count": 12,
   "metadata": {},
   "outputs": [],
   "source": [
    "df=df.drop(0)"
   ]
  },
  {
   "cell_type": "code",
   "execution_count": 13,
   "metadata": {},
   "outputs": [],
   "source": [
    "df['tdate']=pd.to_datetime(df['tdate'])"
   ]
  },
  {
   "cell_type": "code",
   "execution_count": 14,
   "metadata": {},
   "outputs": [
    {
     "name": "stdout",
     "output_type": "stream",
     "text": [
      "<class 'pandas.core.frame.DataFrame'>\n",
      "Int64Index: 1024 entries, 1 to 1024\n",
      "Data columns (total 3 columns):\n",
      "code     1024 non-null object\n",
      "tdate    1024 non-null datetime64[ns]\n",
      "open     1024 non-null object\n",
      "dtypes: datetime64[ns](1), object(2)\n",
      "memory usage: 32.0+ KB\n"
     ]
    }
   ],
   "source": [
    "df.info()"
   ]
  }
 ],
 "metadata": {
  "kernelspec": {
   "display_name": "Python 3",
   "language": "python",
   "name": "python3"
  },
  "language_info": {
   "codemirror_mode": {
    "name": "ipython",
    "version": 3
   },
   "file_extension": ".py",
   "mimetype": "text/x-python",
   "name": "python",
   "nbconvert_exporter": "python",
   "pygments_lexer": "ipython3",
   "version": "3.7.4"
  }
 },
 "nbformat": 4,
 "nbformat_minor": 2
}
