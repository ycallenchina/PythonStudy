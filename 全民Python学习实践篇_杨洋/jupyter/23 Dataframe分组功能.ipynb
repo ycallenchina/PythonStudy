{
 "cells": [
  {
   "cell_type": "markdown",
   "metadata": {},
   "source": [
    "### 分组 groupby 实例\n",
    "\n",
    "  gb=df.groupby('列名')  注意:返回的是groupby对象,并不是df\n",
    "\n",
    "  gb.sum() 用返回的groupby对象就可以进行统计函数功能,返回df\n",
    "\n",
    "  gb.count() 返回每列非空值的记录条数,返回df\n",
    "\n",
    "  gb.size() 返回每组有多少行记录,返回df\n",
    "\n",
    "  \n",
    "\n",
    "#### 分组后只看某列\n",
    "\n",
    "  gb=df.groupby('列名').['只看的列名']\n",
    "\n",
    "  \n",
    "\n",
    "#### 聚合函数:多列 求不同的统计数值方法\n",
    "\n",
    "  gb=df.group('列名').aggregate({'列名1':'mean','列名2':'sum'})\n",
    "\n",
    "  其中列名1求平均值,列名2求总和\n",
    "\n",
    "\n",
    "\n",
    "#### 分组过滤\n",
    "\n",
    "  gb=df.group('列名').filer(lambda g:g['列名1'].mean()>1000)\n",
    "\n",
    "  作用:根据列名分组后,求每组列名1的平均值大于1000的记录"
   ]
  }
 ],
 "metadata": {
  "kernelspec": {
   "display_name": "Python 3",
   "language": "python",
   "name": "python3"
  },
  "language_info": {
   "codemirror_mode": {
    "name": "ipython",
    "version": 3
   },
   "file_extension": ".py",
   "mimetype": "text/x-python",
   "name": "python",
   "nbconvert_exporter": "python",
   "pygments_lexer": "ipython3",
   "version": "3.8.3"
  }
 },
 "nbformat": 4,
 "nbformat_minor": 4
}
