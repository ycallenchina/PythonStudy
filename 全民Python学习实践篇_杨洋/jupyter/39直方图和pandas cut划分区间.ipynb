{
 "cells": [
  {
   "cell_type": "markdown",
   "metadata": {},
   "source": [
    "###     下载并读取交易数据，完成以下需求：\n",
    "\n",
    "    1. 创建直方图，展示账户总交易金额的人数分布情况；\n",
    "\n",
    "    2. 创建直方图，展示账户总交易金额的人数比率情况；\n",
    "\n",
    "    3. 创建直方图，展示账户总交易金额的人数分布情况，根据账户类型绘制颜色。"
   ]
  },
  {
   "cell_type": "code",
   "execution_count": 1,
   "metadata": {
    "scrolled": true
   },
   "outputs": [
    {
     "data": {
      "text/html": [
       "<div>\n",
       "<style scoped>\n",
       "    .dataframe tbody tr th:only-of-type {\n",
       "        vertical-align: middle;\n",
       "    }\n",
       "\n",
       "    .dataframe tbody tr th {\n",
       "        vertical-align: top;\n",
       "    }\n",
       "\n",
       "    .dataframe thead th {\n",
       "        text-align: right;\n",
       "    }\n",
       "</style>\n",
       "<table border=\"1\" class=\"dataframe\">\n",
       "  <thead>\n",
       "    <tr style=\"text-align: right;\">\n",
       "      <th></th>\n",
       "      <th>id</th>\n",
       "      <th>交易日期</th>\n",
       "      <th>账户编号</th>\n",
       "      <th>金额</th>\n",
       "      <th>账户类型</th>\n",
       "    </tr>\n",
       "  </thead>\n",
       "  <tbody>\n",
       "    <tr>\n",
       "      <th>0</th>\n",
       "      <td>1</td>\n",
       "      <td>2020-07-07 21:20:57</td>\n",
       "      <td>6213392342708095</td>\n",
       "      <td>2825</td>\n",
       "      <td>通知存款</td>\n",
       "    </tr>\n",
       "    <tr>\n",
       "      <th>1</th>\n",
       "      <td>2</td>\n",
       "      <td>2020-05-17 10:01:24</td>\n",
       "      <td>6216277250231511</td>\n",
       "      <td>2612</td>\n",
       "      <td>活期存款</td>\n",
       "    </tr>\n",
       "    <tr>\n",
       "      <th>2</th>\n",
       "      <td>3</td>\n",
       "      <td>2020-01-16 15:48:46</td>\n",
       "      <td>6213508705654498</td>\n",
       "      <td>3998</td>\n",
       "      <td>活期存款</td>\n",
       "    </tr>\n",
       "    <tr>\n",
       "      <th>3</th>\n",
       "      <td>4</td>\n",
       "      <td>2020-02-05 10:05:32</td>\n",
       "      <td>6215791409640754</td>\n",
       "      <td>659</td>\n",
       "      <td>整存整取</td>\n",
       "    </tr>\n",
       "    <tr>\n",
       "      <th>4</th>\n",
       "      <td>5</td>\n",
       "      <td>2020-02-23 17:00:34</td>\n",
       "      <td>6214669243034858</td>\n",
       "      <td>1917</td>\n",
       "      <td>活期存款</td>\n",
       "    </tr>\n",
       "    <tr>\n",
       "      <th>...</th>\n",
       "      <td>...</td>\n",
       "      <td>...</td>\n",
       "      <td>...</td>\n",
       "      <td>...</td>\n",
       "      <td>...</td>\n",
       "    </tr>\n",
       "    <tr>\n",
       "      <th>495</th>\n",
       "      <td>496</td>\n",
       "      <td>2020-03-03 10:56:45</td>\n",
       "      <td>6215354342798273</td>\n",
       "      <td>3304</td>\n",
       "      <td>通知存款</td>\n",
       "    </tr>\n",
       "    <tr>\n",
       "      <th>496</th>\n",
       "      <td>497</td>\n",
       "      <td>2020-05-06 16:45:46</td>\n",
       "      <td>6216015179123026</td>\n",
       "      <td>2690</td>\n",
       "      <td>活期存款</td>\n",
       "    </tr>\n",
       "    <tr>\n",
       "      <th>497</th>\n",
       "      <td>498</td>\n",
       "      <td>2020-02-23 09:26:03</td>\n",
       "      <td>6216599340132384</td>\n",
       "      <td>3950</td>\n",
       "      <td>定活两便</td>\n",
       "    </tr>\n",
       "    <tr>\n",
       "      <th>498</th>\n",
       "      <td>499</td>\n",
       "      <td>2020-08-06 02:48:45</td>\n",
       "      <td>6213546840840246</td>\n",
       "      <td>1701</td>\n",
       "      <td>零存整取</td>\n",
       "    </tr>\n",
       "    <tr>\n",
       "      <th>499</th>\n",
       "      <td>500</td>\n",
       "      <td>2020-03-01 00:49:34</td>\n",
       "      <td>6213847887457164</td>\n",
       "      <td>2939</td>\n",
       "      <td>活期存款</td>\n",
       "    </tr>\n",
       "  </tbody>\n",
       "</table>\n",
       "<p>500 rows × 5 columns</p>\n",
       "</div>"
      ],
      "text/plain": [
       "      id                交易日期              账户编号    金额  账户类型\n",
       "0      1 2020-07-07 21:20:57  6213392342708095  2825  通知存款\n",
       "1      2 2020-05-17 10:01:24  6216277250231511  2612  活期存款\n",
       "2      3 2020-01-16 15:48:46  6213508705654498  3998  活期存款\n",
       "3      4 2020-02-05 10:05:32  6215791409640754   659  整存整取\n",
       "4      5 2020-02-23 17:00:34  6214669243034858  1917  活期存款\n",
       "..   ...                 ...               ...   ...   ...\n",
       "495  496 2020-03-03 10:56:45  6215354342798273  3304  通知存款\n",
       "496  497 2020-05-06 16:45:46  6216015179123026  2690  活期存款\n",
       "497  498 2020-02-23 09:26:03  6216599340132384  3950  定活两便\n",
       "498  499 2020-08-06 02:48:45  6213546840840246  1701  零存整取\n",
       "499  500 2020-03-01 00:49:34  6213847887457164  2939  活期存款\n",
       "\n",
       "[500 rows x 5 columns]"
      ]
     },
     "execution_count": 1,
     "metadata": {},
     "output_type": "execute_result"
    }
   ],
   "source": [
    "import numpy as np\n",
    "import pandas as pd\n",
    "pd.set_option('display.max_rows', 20)\n",
    "sh=pd.read_excel(r'C:\\Users\\YcAllenEffy\\Desktop\\交易数据.xlsx')\n",
    "df=sh\n",
    "df"
   ]
  },
  {
   "cell_type": "code",
   "execution_count": 2,
   "metadata": {},
   "outputs": [],
   "source": [
    "from matplotlib import pyplot as plt\n",
    "import seaborn as sns\n",
    "#设置画图 中文字体初始化\n",
    "sns.set_style('whitegrid', {'font.sans-serif':['simhei', 'Arial']})"
   ]
  },
  {
   "cell_type": "code",
   "execution_count": 7,
   "metadata": {},
   "outputs": [
    {
     "data": {
      "text/html": [
       "<div>\n",
       "<style scoped>\n",
       "    .dataframe tbody tr th:only-of-type {\n",
       "        vertical-align: middle;\n",
       "    }\n",
       "\n",
       "    .dataframe tbody tr th {\n",
       "        vertical-align: top;\n",
       "    }\n",
       "\n",
       "    .dataframe thead th {\n",
       "        text-align: right;\n",
       "    }\n",
       "</style>\n",
       "<table border=\"1\" class=\"dataframe\">\n",
       "  <thead>\n",
       "    <tr style=\"text-align: right;\">\n",
       "      <th></th>\n",
       "      <th>账户类型</th>\n",
       "      <th>金额</th>\n",
       "    </tr>\n",
       "    <tr>\n",
       "      <th>账户编号</th>\n",
       "      <th></th>\n",
       "      <th></th>\n",
       "    </tr>\n",
       "  </thead>\n",
       "  <tbody>\n",
       "    <tr>\n",
       "      <th>6213151392674737</th>\n",
       "      <td>活期存款</td>\n",
       "      <td>4295</td>\n",
       "    </tr>\n",
       "    <tr>\n",
       "      <th>6213158137578568</th>\n",
       "      <td>存本取息</td>\n",
       "      <td>5609</td>\n",
       "    </tr>\n",
       "    <tr>\n",
       "      <th>6213159179824379</th>\n",
       "      <td>存本取息</td>\n",
       "      <td>7066</td>\n",
       "    </tr>\n",
       "    <tr>\n",
       "      <th>6213163319772978</th>\n",
       "      <td>活期存款</td>\n",
       "      <td>4165</td>\n",
       "    </tr>\n",
       "    <tr>\n",
       "      <th>6213181481459027</th>\n",
       "      <td>定活两便</td>\n",
       "      <td>6165</td>\n",
       "    </tr>\n",
       "    <tr>\n",
       "      <th>...</th>\n",
       "      <td>...</td>\n",
       "      <td>...</td>\n",
       "    </tr>\n",
       "    <tr>\n",
       "      <th>6216934285361673</th>\n",
       "      <td>活期存款</td>\n",
       "      <td>2342</td>\n",
       "    </tr>\n",
       "    <tr>\n",
       "      <th>6216936274989208</th>\n",
       "      <td>整存整取</td>\n",
       "      <td>8184</td>\n",
       "    </tr>\n",
       "    <tr>\n",
       "      <th>6216954551472650</th>\n",
       "      <td>定活两便</td>\n",
       "      <td>2205</td>\n",
       "    </tr>\n",
       "    <tr>\n",
       "      <th>6216956713859164</th>\n",
       "      <td>存本取息</td>\n",
       "      <td>7437</td>\n",
       "    </tr>\n",
       "    <tr>\n",
       "      <th>6216985457077231</th>\n",
       "      <td>定活两便</td>\n",
       "      <td>4684</td>\n",
       "    </tr>\n",
       "  </tbody>\n",
       "</table>\n",
       "<p>311 rows × 2 columns</p>\n",
       "</div>"
      ],
      "text/plain": [
       "                  账户类型    金额\n",
       "账户编号                        \n",
       "6213151392674737  活期存款  4295\n",
       "6213158137578568  存本取息  5609\n",
       "6213159179824379  存本取息  7066\n",
       "6213163319772978  活期存款  4165\n",
       "6213181481459027  定活两便  6165\n",
       "...                ...   ...\n",
       "6216934285361673  活期存款  2342\n",
       "6216936274989208  整存整取  8184\n",
       "6216954551472650  定活两便  2205\n",
       "6216956713859164  存本取息  7437\n",
       "6216985457077231  定活两便  4684\n",
       "\n",
       "[311 rows x 2 columns]"
      ]
     },
     "execution_count": 7,
     "metadata": {},
     "output_type": "execute_result"
    }
   ],
   "source": [
    "df=df.groupby('账户编号').aggregate( {'账户类型': min, '金额': sum} )\n",
    "df"
   ]
  },
  {
   "cell_type": "code",
   "execution_count": 8,
   "metadata": {
    "scrolled": true
   },
   "outputs": [
    {
     "data": {
      "text/plain": [
       "<matplotlib.axes._subplots.AxesSubplot at 0x1cb385fe220>"
      ]
     },
     "execution_count": 8,
     "metadata": {},
     "output_type": "execute_result"
    },
    {
     "data": {
      "image/png": "[encoded data removed]",
      "text/plain": [
       "<Figure size 432x288 with 1 Axes>"
      ]
     },
     "metadata": {},
     "output_type": "display_data"
    }
   ],
   "source": [
    "sns.histplot(data=df,x='金额')"
   ]
  },
  {
   "cell_type": "code",
   "execution_count": 9,
   "metadata": {
    "scrolled": true
   },
   "outputs": [
    {
     "data": {
      "text/plain": [
       "<matplotlib.axes._subplots.AxesSubplot at 0x1cb37d91250>"
      ]
     },
     "execution_count": 9,
     "metadata": {},
     "output_type": "execute_result"
    },
    {
     "data": {
      "image/png": "[encoded data removed]",
      "text/plain": [
       "<Figure size 432x288 with 1 Axes>"
      ]
     },
     "metadata": {},
     "output_type": "display_data"
    }
   ],
   "source": [
    "sns.histplot(data=df,x='金额',stat='probability')"
   ]
  },
  {
   "cell_type": "code",
   "execution_count": 10,
   "metadata": {
    "scrolled": true
   },
   "outputs": [
    {
     "data": {
      "text/plain": [
       "<matplotlib.axes._subplots.AxesSubplot at 0x1cb3884f850>"
      ]
     },
     "execution_count": 10,
     "metadata": {},
     "output_type": "execute_result"
    },
    {
     "data": {
      "image/png": "[encoded data removed]",
      "text/plain": [
       "<Figure size 432x288 with 1 Axes>"
      ]
     },
     "metadata": {},
     "output_type": "display_data"
    }
   ],
   "source": [
    "sns.histplot(data=df,x='金额',hue='账户类型')"
   ]
  },
  {
   "cell_type": "code",
   "execution_count": 6,
   "metadata": {
    "scrolled": true
   },
   "outputs": [
    {
     "data": {
      "image/png": "[encoded data removed]",
      "text/plain": [
       "<Figure size 1440x504 with 3 Axes>"
      ]
     },
     "metadata": {},
     "output_type": "display_data"
    }
   ],
   "source": [
    "# 标准答案\n",
    "import pandas as pd\n",
    "import seaborn as sns\n",
    "import matplotlib.pyplot as plt\n",
    "\n",
    "sns.set_style('whitegrid', {'font.sans-serif':['simhei', 'Arial']})\n",
    "plt.rcParams['axes.unicode_minus'] = False\n",
    "\n",
    "df = sh\n",
    "\n",
    "df_t = df.groupby('账户编号').aggregate( {'账户类型': min, '金额': sum} )\n",
    "\n",
    "fig, axs = plt.subplots(1, 3, figsize=(20, 7))\n",
    "sns.histplot( data=df_t, x='金额', ax=axs[0])\n",
    "sns.histplot( data=df_t, x='金额', stat='probability', ax=axs[1] )\n",
    "sns.histplot( data=df_t, x='金额', hue='账户类型', ax=axs[2] );"
   ]
  },
  {
   "cell_type": "markdown",
   "metadata": {},
   "source": [
    "###     下载并读取交易数据，完成以下需求：\n",
    "\n",
    "    1. 创建分类直方图，分列展示每种账户类型的账户总交易金额的人数分布情况；\n",
    "\n",
    "    2. 创建分类直方图，分列展示每种账户类型的账户平均交易金额的人数分布情况。"
   ]
  },
  {
   "cell_type": "code",
   "execution_count": 12,
   "metadata": {
    "scrolled": true
   },
   "outputs": [
    {
     "data": {
      "text/plain": [
       "<seaborn.axisgrid.FacetGrid at 0x1cb38481790>"
      ]
     },
     "execution_count": 12,
     "metadata": {},
     "output_type": "execute_result"
    },
    {
     "data": {
      "image/png": "[encoded data removed]",
      "text/plain": [
       "<Figure size 2160x360 with 6 Axes>"
      ]
     },
     "metadata": {},
     "output_type": "display_data"
    }
   ],
   "source": [
    "sns.displot(data=df,x='金额',col='账户类型')"
   ]
  },
  {
   "cell_type": "code",
   "execution_count": 14,
   "metadata": {
    "scrolled": true
   },
   "outputs": [
    {
     "data": {
      "text/html": [
       "<div>\n",
       "<style scoped>\n",
       "    .dataframe tbody tr th:only-of-type {\n",
       "        vertical-align: middle;\n",
       "    }\n",
       "\n",
       "    .dataframe tbody tr th {\n",
       "        vertical-align: top;\n",
       "    }\n",
       "\n",
       "    .dataframe thead th {\n",
       "        text-align: right;\n",
       "    }\n",
       "</style>\n",
       "<table border=\"1\" class=\"dataframe\">\n",
       "  <thead>\n",
       "    <tr style=\"text-align: right;\">\n",
       "      <th></th>\n",
       "      <th>账户类型</th>\n",
       "      <th>金额</th>\n",
       "    </tr>\n",
       "    <tr>\n",
       "      <th>账户编号</th>\n",
       "      <th></th>\n",
       "      <th></th>\n",
       "    </tr>\n",
       "  </thead>\n",
       "  <tbody>\n",
       "    <tr>\n",
       "      <th>6213151392674737</th>\n",
       "      <td>活期存款</td>\n",
       "      <td>2147.500000</td>\n",
       "    </tr>\n",
       "    <tr>\n",
       "      <th>6213158137578568</th>\n",
       "      <td>存本取息</td>\n",
       "      <td>1869.666667</td>\n",
       "    </tr>\n",
       "    <tr>\n",
       "      <th>6213159179824379</th>\n",
       "      <td>存本取息</td>\n",
       "      <td>3533.000000</td>\n",
       "    </tr>\n",
       "    <tr>\n",
       "      <th>6213163319772978</th>\n",
       "      <td>活期存款</td>\n",
       "      <td>2082.500000</td>\n",
       "    </tr>\n",
       "    <tr>\n",
       "      <th>6213181481459027</th>\n",
       "      <td>定活两便</td>\n",
       "      <td>2055.000000</td>\n",
       "    </tr>\n",
       "    <tr>\n",
       "      <th>...</th>\n",
       "      <td>...</td>\n",
       "      <td>...</td>\n",
       "    </tr>\n",
       "    <tr>\n",
       "      <th>6216934285361673</th>\n",
       "      <td>活期存款</td>\n",
       "      <td>2342.000000</td>\n",
       "    </tr>\n",
       "    <tr>\n",
       "      <th>6216936274989208</th>\n",
       "      <td>整存整取</td>\n",
       "      <td>2728.000000</td>\n",
       "    </tr>\n",
       "    <tr>\n",
       "      <th>6216954551472650</th>\n",
       "      <td>定活两便</td>\n",
       "      <td>2205.000000</td>\n",
       "    </tr>\n",
       "    <tr>\n",
       "      <th>6216956713859164</th>\n",
       "      <td>存本取息</td>\n",
       "      <td>3718.500000</td>\n",
       "    </tr>\n",
       "    <tr>\n",
       "      <th>6216985457077231</th>\n",
       "      <td>定活两便</td>\n",
       "      <td>2342.000000</td>\n",
       "    </tr>\n",
       "  </tbody>\n",
       "</table>\n",
       "<p>311 rows × 2 columns</p>\n",
       "</div>"
      ],
      "text/plain": [
       "                  账户类型           金额\n",
       "账户编号                               \n",
       "6213151392674737  活期存款  2147.500000\n",
       "6213158137578568  存本取息  1869.666667\n",
       "6213159179824379  存本取息  3533.000000\n",
       "6213163319772978  活期存款  2082.500000\n",
       "6213181481459027  定活两便  2055.000000\n",
       "...                ...          ...\n",
       "6216934285361673  活期存款  2342.000000\n",
       "6216936274989208  整存整取  2728.000000\n",
       "6216954551472650  定活两便  2205.000000\n",
       "6216956713859164  存本取息  3718.500000\n",
       "6216985457077231  定活两便  2342.000000\n",
       "\n",
       "[311 rows x 2 columns]"
      ]
     },
     "execution_count": 14,
     "metadata": {},
     "output_type": "execute_result"
    }
   ],
   "source": [
    "df_2 = sh.groupby('账户编号').aggregate( {'账户类型': min, '金额': np.mean} )\n",
    "df_2"
   ]
  },
  {
   "cell_type": "code",
   "execution_count": 15,
   "metadata": {
    "scrolled": true
   },
   "outputs": [
    {
     "data": {
      "text/plain": [
       "<seaborn.axisgrid.FacetGrid at 0x1cb38481ca0>"
      ]
     },
     "execution_count": 15,
     "metadata": {},
     "output_type": "execute_result"
    },
    {
     "data": {
      "image/png": "[encoded data removed]",
      "text/plain": [
       "<Figure size 2160x360 with 6 Axes>"
      ]
     },
     "metadata": {},
     "output_type": "display_data"
    }
   ],
   "source": [
    "sns.displot(data=df_2,x='金额',col='账户类型')"
   ]
  },
  {
   "cell_type": "code",
   "execution_count": null,
   "metadata": {},
   "outputs": [],
   "source": [
    "# 标准答案\n",
    "import pandas as pd\n",
    "import seaborn as sns\n",
    "import matplotlib.pyplot as plt\n",
    "\n",
    "sns.set_style('whitegrid', {'font.sans-serif':['simhei', 'Arial']})\n",
    "plt.rcParams['axes.unicode_minus'] = False\n",
    "\n",
    "df = pd.read_excel(r'.\\交易数据.xlsx')\n",
    "df_t = df.groupby('账户编号').aggregate( {'账户类型': 'min', '金额': 'sum' } )\n",
    "df_m = df.groupby('账户编号').aggregate( {'账户类型': 'min', '金额': 'mean'} )\n",
    "\n",
    "sns.displot( data=df_t, x='金额', col='账户类型' )\n",
    "sns.displot( data=df_m, x='金额', col='账户类型' );"
   ]
  },
  {
   "cell_type": "markdown",
   "metadata": {},
   "source": [
    "###     下载并读取交易数据，完成以下需求：\n",
    "\n",
    "    1. 创建直方图，展示账户总交易金额的人数分布情况，展示区间为：0~5000~10000~20000；\n",
    "\n",
    "    2. 创建直方图，展示账户总交易金额的人数分布情况，展示区间为：0~2000~5000~10000~20000。 "
   ]
  },
  {
   "cell_type": "code",
   "execution_count": 17,
   "metadata": {},
   "outputs": [
    {
     "data": {
      "text/plain": [
       "<seaborn.axisgrid.FacetGrid at 0x1cb3966a190>"
      ]
     },
     "execution_count": 17,
     "metadata": {},
     "output_type": "execute_result"
    },
    {
     "data": {
      "image/png": "[encoded data removed]",
      "text/plain": [
       "<Figure size 360x360 with 1 Axes>"
      ]
     },
     "metadata": {},
     "output_type": "display_data"
    }
   ],
   "source": [
    "sns.displot(data=df,x='金额',bins=[0,5000,10000,20000])"
   ]
  },
  {
   "cell_type": "code",
   "execution_count": 18,
   "metadata": {
    "scrolled": true
   },
   "outputs": [
    {
     "data": {
      "text/plain": [
       "<seaborn.axisgrid.FacetGrid at 0x1cb38be65e0>"
      ]
     },
     "execution_count": 18,
     "metadata": {},
     "output_type": "execute_result"
    },
    {
     "data": {
      "image/png": "[encoded data removed]",
      "text/plain": [
       "<Figure size 360x360 with 1 Axes>"
      ]
     },
     "metadata": {},
     "output_type": "display_data"
    }
   ],
   "source": [
    "sns.displot(data=df,x='金额',bins=[0,2000,5000,10000,20000])"
   ]
  },
  {
   "cell_type": "code",
   "execution_count": null,
   "metadata": {},
   "outputs": [],
   "source": [
    "# 标准答案\n",
    "import pandas as pd\n",
    "import seaborn as sns\n",
    "import matplotlib.pyplot as plt\n",
    "\n",
    "sns.set_style('whitegrid', {'font.sans-serif':['simhei', 'Arial']})\n",
    "plt.rcParams['axes.unicode_minus'] = False\n",
    "\n",
    "df = pd.read_excel(r'.\\交易数据.xlsx')\n",
    "\n",
    "df_t = df.groupby('账户编号').aggregate( {'账户类型': 'min', '金额': 'sum' } )\n",
    "\n",
    "\n",
    "fig, axs = plt.subplots(1, 2, figsize=(20, 7))\n",
    "sns.histplot( data=df_t, x='金额', bins=[0,5000,10000,20000], ax=axs[0])\n",
    "sns.histplot( data=df_t, x='金额', bins=[0,2000,5000,10000,20000], ax=axs[1])"
   ]
  },
  {
   "cell_type": "markdown",
   "metadata": {},
   "source": [
    "###   下载并读取交易数据，完成以下需求：\n",
    "\n",
    "    1. 将各个账户的总交易金额划分为三个区间级别：低：0~5000、中：5000~10000、高：10000~20000；\n",
    "\n",
    "    2. 统计各个级别的人数；\n",
    "\n",
    "    3. 使用柱形图作为直方图展示各个级别的人数分布。"
   ]
  },
  {
   "cell_type": "code",
   "execution_count": 22,
   "metadata": {
    "scrolled": true
   },
   "outputs": [],
   "source": [
    "df['级别']=pd.cut(df['金额'],bins=[0,5000,10000,20000],labels=['一级','二级','三级'])\n",
    "df_gb=df.groupby('级别').count()"
   ]
  },
  {
   "cell_type": "code",
   "execution_count": 25,
   "metadata": {},
   "outputs": [
    {
     "data": {
      "text/html": [
       "<div>\n",
       "<style scoped>\n",
       "    .dataframe tbody tr th:only-of-type {\n",
       "        vertical-align: middle;\n",
       "    }\n",
       "\n",
       "    .dataframe tbody tr th {\n",
       "        vertical-align: top;\n",
       "    }\n",
       "\n",
       "    .dataframe thead th {\n",
       "        text-align: right;\n",
       "    }\n",
       "</style>\n",
       "<table border=\"1\" class=\"dataframe\">\n",
       "  <thead>\n",
       "    <tr style=\"text-align: right;\">\n",
       "      <th></th>\n",
       "      <th>账户类型</th>\n",
       "      <th>金额</th>\n",
       "    </tr>\n",
       "    <tr>\n",
       "      <th>级别</th>\n",
       "      <th></th>\n",
       "      <th></th>\n",
       "    </tr>\n",
       "  </thead>\n",
       "  <tbody>\n",
       "    <tr>\n",
       "      <th>一级</th>\n",
       "      <td>189</td>\n",
       "      <td>189</td>\n",
       "    </tr>\n",
       "    <tr>\n",
       "      <th>二级</th>\n",
       "      <td>108</td>\n",
       "      <td>108</td>\n",
       "    </tr>\n",
       "    <tr>\n",
       "      <th>三级</th>\n",
       "      <td>13</td>\n",
       "      <td>13</td>\n",
       "    </tr>\n",
       "  </tbody>\n",
       "</table>\n",
       "</div>"
      ],
      "text/plain": [
       "    账户类型   金额\n",
       "级别           \n",
       "一级   189  189\n",
       "二级   108  108\n",
       "三级    13   13"
      ]
     },
     "execution_count": 25,
     "metadata": {},
     "output_type": "execute_result"
    }
   ],
   "source": [
    "df_gb"
   ]
  },
  {
   "cell_type": "code",
   "execution_count": 26,
   "metadata": {
    "scrolled": true
   },
   "outputs": [
    {
     "data": {
      "text/plain": [
       "<matplotlib.axes._subplots.AxesSubplot at 0x1cb39a30e80>"
      ]
     },
     "execution_count": 26,
     "metadata": {},
     "output_type": "execute_result"
    },
    {
     "data": {
      "image/png": "[encoded data removed]",
      "text/plain": [
       "<Figure size 432x288 with 1 Axes>"
      ]
     },
     "metadata": {},
     "output_type": "display_data"
    }
   ],
   "source": [
    "sns.barplot(data=df_gb,x=df_gb.index,y='金额')"
   ]
  },
  {
   "cell_type": "code",
   "execution_count": 27,
   "metadata": {},
   "outputs": [
    {
     "data": {
      "image/png": "[encoded data removed]",
      "text/plain": [
       "<Figure size 432x288 with 1 Axes>"
      ]
     },
     "metadata": {},
     "output_type": "display_data"
    }
   ],
   "source": [
    "# 标准答案\n",
    "import pandas as pd\n",
    "import seaborn as sns\n",
    "import matplotlib.pyplot as plt\n",
    "\n",
    "sns.set_style('whitegrid', {'font.sans-serif':['simhei', 'Arial']})\n",
    "plt.rcParams['axes.unicode_minus'] = False\n",
    "\n",
    "df = sh\n",
    "\n",
    "df_t = df.groupby('账户编号').aggregate( {'账户类型': 'min', '金额': 'sum' } )\n",
    "df_t['级别'] = pd.cut( df_t['金额'], bins=[0,5000,10000,20000], \n",
    "                labels=['低(0,5000]','中(5000,10000]','高(10000,20000]'] )\n",
    "df_level = df_t.groupby('级别').count()\n",
    "\n",
    "sns.barplot( data=df_level, x=df_level.index, y='金额' );"
   ]
  }
 ],
 "metadata": {
  "kernelspec": {
   "display_name": "Python 3",
   "language": "python",
   "name": "python3"
  },
  "language_info": {
   "codemirror_mode": {
    "name": "ipython",
    "version": 3
   },
   "file_extension": ".py",
   "mimetype": "text/x-python",
   "name": "python",
   "nbconvert_exporter": "python",
   "pygments_lexer": "ipython3",
   "version": "3.8.3"
  }
 },
 "nbformat": 4,
 "nbformat_minor": 4
}
