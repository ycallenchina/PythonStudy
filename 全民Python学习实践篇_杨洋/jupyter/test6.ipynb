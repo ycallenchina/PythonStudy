{
 "cells": [
  {
   "cell_type": "code",
   "execution_count": 1,
   "metadata": {},
   "outputs": [],
   "source": [
    "import pandas as pd\n",
    "import numpy as np"
   ]
  },
  {
   "cell_type": "code",
   "execution_count": 2,
   "metadata": {},
   "outputs": [],
   "source": [
    "boolean=[True,False]\n",
    "gender=[\"男\",\"女\"]\n",
    "color=[\"white\",\"black\",\"yellow\"]\n",
    "df1=pd.DataFrame({\n",
    "    \"height\":np.random.randint(150,190,10),\n",
    "    \"weight\":np.random.randint(40,90,10),\n",
    "    \"smoker\":[boolean[x] for x in np.random.randint(0,2,10)],\n",
    "    \"gender\":[gender[x] for x in np.random.randint(0,2,10)],\n",
    "    \"age\":np.random.randint(15,90,10),\n",
    "    \"color\":[color[x] for x in np.random.randint(0,len(color),10) ]\n",
    "    }\n",
    ")    \n",
    "df2=pd.DataFrame({\n",
    "    \"height\":np.random.randint(150,190,10),\n",
    "    \"weight\":np.random.randint(40,90,10),\n",
    "    \"smoker\":[boolean[x] for x in np.random.randint(0,2,10)],\n",
    "    \"gender\":[gender[x] for x in np.random.randint(0,2,10)],\n",
    "    \"age\":np.random.randint(15,90,10),\n",
    "    \"color2\":[color[x] for x in np.random.randint(0,len(color),10) ]\n",
    "    }\n",
    ") \n"
   ]
  },
  {
   "cell_type": "code",
   "execution_count": 5,
   "metadata": {},
   "outputs": [
    {
     "name": "stdout",
     "output_type": "stream",
     "text": [
      "wo\n",
      "1\n"
     ]
    }
   ],
   "source": [
    "\n",
    "def 回测_thread2(func,*args):\n",
    "    \n",
    "    print(func)\n",
    "    print(*args)\n",
    "    \n",
    "回测_thread2('wo',1)"
   ]
  }
 ],
 "metadata": {
  "kernelspec": {
   "display_name": "Python 3",
   "language": "python",
   "name": "python3"
  },
  "language_info": {
   "codemirror_mode": {
    "name": "ipython",
    "version": 3
   },
   "file_extension": ".py",
   "mimetype": "text/x-python",
   "name": "python",
   "nbconvert_exporter": "python",
   "pygments_lexer": "ipython3",
   "version": "3.8.3"
  }
 },
 "nbformat": 4,
 "nbformat_minor": 4
}
