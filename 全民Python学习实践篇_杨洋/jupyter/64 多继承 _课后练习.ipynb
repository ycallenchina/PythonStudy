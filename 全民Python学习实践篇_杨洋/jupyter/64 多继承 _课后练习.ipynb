{
 "cells": [
  {
   "cell_type": "markdown",
   "metadata": {},
   "source": [
    "### 某公司将顾客分为内部顾客和外部顾客，但它们拥有相同的属性：姓名、年龄、职业。\n",
    "\n",
    "请编写顾客类（Customer）、内部顾客类（InCustomer）和外部顾客类（ExCustomer）三个类。其中顾客类具有上述三个方法，而内外两种顾客都从顾客类中继承到这些数学。\n",
    "\n",
    "然后创建几个内外部顾客对象，并调用它们的属性作为测试。"
   ]
  },
  {
   "cell_type": "code",
   "execution_count": 1,
   "metadata": {},
   "outputs": [],
   "source": [
    "class Customer():\n",
    "    def __init__(self,n,a,c):\n",
    "        self.name=n\n",
    "        self.age=a\n",
    "        self.job=c\n",
    "class InCustomer(Customer):\n",
    "    pass\n",
    "\n",
    "class ExCustomer(Customer):\n",
    "    pass\n"
   ]
  },
  {
   "cell_type": "code",
   "execution_count": 4,
   "metadata": {},
   "outputs": [
    {
     "data": {
      "text/plain": [
       "'老板'"
      ]
     },
     "execution_count": 4,
     "metadata": {},
     "output_type": "execute_result"
    }
   ],
   "source": [
    "a=InCustomer('eff',12,'老板娘')\n",
    "b=ExCustomer('allen',22,'老板')\n",
    "\n",
    "b.job"
   ]
  },
  {
   "cell_type": "code",
   "execution_count": 5,
   "metadata": {},
   "outputs": [
    {
     "name": "stdout",
     "output_type": "stream",
     "text": [
      "内部顾客： 张三 27 销售员\n",
      "外部顾客： 李四 25 司机\n"
     ]
    }
   ],
   "source": [
    "# 标准答案\n",
    "\n",
    "class Customer:\n",
    "\n",
    "    def __init__(self, name, age, job):\n",
    "\n",
    "        self.name = name\n",
    "\n",
    "        self.age = age\n",
    "\n",
    "        self.job = job\n",
    "\n",
    "\n",
    "\n",
    "class InCustomer(Customer):\n",
    "\n",
    "    pass\n",
    "\n",
    "\n",
    "\n",
    "class ExCustomer(Customer):\n",
    "\n",
    "    pass\n",
    "\n",
    "\n",
    "\n",
    "incus = InCustomer('张三', '27', '销售员')\n",
    "\n",
    "excus = ExCustomer('李四', '25', '司机')\n",
    "\n",
    "print('内部顾客：', incus.name, incus.age, incus.job)\n",
    "\n",
    "print('外部顾客：', excus.name, excus.age, excus.job)\n"
   ]
  },
  {
   "cell_type": "markdown",
   "metadata": {},
   "source": [
    "### 很多数据分析教材中都会用到“鸢尾花数据集”，其中包含了三种花朵样本：山鸢尾（setosa）、变色鸢尾（versicolor）和维吉尼亚鸢尾（virginica）。\n",
    "\n",
    "现在请编写一个处理该数据集的程序，首先编写一个鸢尾花类，该类有四个私有属性：萼片长度、萼片宽度、花瓣长度和花瓣宽度。要求在创建该类对象时，必须提供四个参数作为这四个私有属性的值。\n",
    "\n",
    "然后编写一个山鸢尾（Setosa）类，要求该类继承自鸢尾花类，并且提供一个show方法，可以打印出它从父类“继承”到的四个私有属性值。\n",
    "\n",
    "最后在主程序中创建两个山鸢尾对象，然后调用它们的show方法，观察结果。 "
   ]
  },
  {
   "cell_type": "markdown",
   "metadata": {},
   "source": [
    "## 私有属性的继承方法"
   ]
  },
  {
   "cell_type": "code",
   "execution_count": 21,
   "metadata": {},
   "outputs": [],
   "source": [
    "class Flower():\n",
    "    def __init__(self, name, age, job,y):\n",
    "\n",
    "        self.__long = name\n",
    "        self.__wide = age\n",
    "        self.__flong = job\n",
    "        self.__wwide=y\n",
    "\n",
    "class Seetosa(Flower):\n",
    "    \n",
    "    def show(self):\n",
    "        print( self._Flower__long ,\n",
    "        self._Flower__wide,\n",
    "        self._Flower__flong,\n",
    "        self._Flower__wwide)"
   ]
  },
  {
   "cell_type": "code",
   "execution_count": 22,
   "metadata": {},
   "outputs": [
    {
     "name": "stdout",
     "output_type": "stream",
     "text": [
      "11 22 33 44\n"
     ]
    }
   ],
   "source": [
    "a=Seetosa(11,22,33,44)\n",
    "a.show()"
   ]
  },
  {
   "cell_type": "code",
   "execution_count": null,
   "metadata": {},
   "outputs": [],
   "source": [
    "# 标准答案\n",
    "\n",
    "class Iris:\n",
    "\n",
    "    def __init__(self, seplength, sepwidth, petlength, petwidth):\n",
    "\n",
    "        self.__seplength = seplength\n",
    "\n",
    "        self.__sepwidth = sepwidth\n",
    "\n",
    "        self.__petlength = petlength\n",
    "\n",
    "        self.__petwidth = petwidth\n",
    "\n",
    "\n",
    "\n",
    "class Setosa(Iris):\n",
    "\n",
    "    def show(self):\n",
    "\n",
    "        print('山鸢尾：', self._Iris__seplength, self._Iris__sepwidth,\n",
    "\n",
    "              self._Iris__petlength, self._Iris__petwidth)\n",
    "\n",
    "\n",
    "\n",
    "\n",
    "\n",
    "s1 = Setosa(7.9, 4.4, 6.9, 2.5)\n",
    "\n",
    "s2= Setosa(4.3, 2.0, 1.0, 0.1)\n",
    "\n",
    "\n",
    "\n",
    "s1.show()\n",
    "\n",
    "s2.show()\n",
    "\n"
   ]
  },
  {
   "cell_type": "markdown",
   "metadata": {},
   "source": [
    "### 假设开发某个游戏，需要编写以下几个类：\n",
    "\n",
    "\n",
    "基本角色（Charater类）具有血量和魔法值等基础属性；\n",
    "\n",
    "\n",
    "人类（Human），继承自基本角色，并拥有特殊天赋属性外交；\n",
    "\n",
    "\n",
    "血精灵（BloodElf），继承自基本角色，并拥有魔法抗性；\n",
    "\n",
    "\n",
    "牛头人（Tauren），拥有耐久性属性。\n",
    "\n",
    "\n",
    "请编写程序让三种种族继承人物基础属性并添加自己的特殊属性。打印各个种族的特殊天赋属性。 "
   ]
  },
  {
   "cell_type": "code",
   "execution_count": 26,
   "metadata": {},
   "outputs": [],
   "source": [
    "class Charater():\n",
    "    def __init__(self,b,m):\n",
    "\n",
    "        self.blood = b\n",
    "        self.magic = m\n",
    "\n",
    "    \n",
    "    \n",
    "    \n",
    "    \n",
    "class Human(Charater):\n",
    "    def __init__(self,b,m,w):\n",
    "        super().__init__(b,m)\n",
    "        self.waijiao=w\n",
    "        \n",
    "\n",
    "class BloodEif(Charater):\n",
    "    def __init__(self,b,m,w):\n",
    "        super().__init__(b,m)\n",
    "        self.magicD=w\n",
    "        \n",
    "\n",
    "class Tauren(Charater):\n",
    "    def __init__(self,b,m,w):\n",
    "        super().__init__(b,m)\n",
    "        self.naijiu=w\n",
    "        \n",
    "\n"
   ]
  },
  {
   "cell_type": "code",
   "execution_count": 28,
   "metadata": {},
   "outputs": [
    {
     "data": {
      "text/plain": [
       "33"
      ]
     },
     "execution_count": 28,
     "metadata": {},
     "output_type": "execute_result"
    }
   ],
   "source": [
    "a=Human(11,22,33)\n",
    "b=BloodEif(22,33,44)\n",
    "a.waijiao\n",
    "#b.magicD"
   ]
  },
  {
   "cell_type": "code",
   "execution_count": 29,
   "metadata": {
    "scrolled": true
   },
   "outputs": [
    {
     "name": "stdout",
     "output_type": "stream",
     "text": [
      "人类外交： 50\n",
      "血精灵魔法抗性： 100\n",
      "牛头人耐久： 350\n"
     ]
    }
   ],
   "source": [
    "# 标准答案\n",
    "\n",
    "class Character:\n",
    "\n",
    "    def __init__(self, hp, mp):\n",
    "\n",
    "        self.hp = hp\n",
    "\n",
    "        self.mp = mp\n",
    "\n",
    "\n",
    "\n",
    "class Human(Character):\n",
    "\n",
    "    def __init__(self, hp, mp, dip):\n",
    "\n",
    "        self.diplomacy = dip\n",
    "\n",
    "        super().__init__(hp, mp)\n",
    "\n",
    "\n",
    "\n",
    "class BloodElf(Character):\n",
    "\n",
    "    def __init__(self, hp, mp, spr):\n",
    "\n",
    "        self.spell_res = spr\n",
    "\n",
    "        super().__init__(hp, mp)\n",
    "\n",
    "\n",
    "\n",
    "class Tauren(Character):\n",
    "\n",
    "    def __init__(self, hp, mp, dur):\n",
    "\n",
    "        self.durability = dur\n",
    "\n",
    "        super().__init__(hp, mp)\n",
    "\n",
    "\n",
    "\n",
    "human = Human(1000, 800, 50)\n",
    "\n",
    "bloodelf = BloodElf(950, 1200, 100)\n",
    "\n",
    "tauren = Tauren(2200, 300, 350)\n",
    "\n",
    "print('人类外交：', human.diplomacy)\n",
    "\n",
    "print('血精灵魔法抗性：', bloodelf.spell_res)\n",
    "\n",
    "print('牛头人耐久：', tauren.durability)\n"
   ]
  },
  {
   "cell_type": "markdown",
   "metadata": {},
   "source": [
    "### 在某些比较耗时的程序执行过程中，软件分析师需要统计程序执行的时间。《提高篇》前面讲过：time模块的time方法可以返回当前的时间戳，通过获取代码执行前和执行后两次的时间戳之差可以计算执行的时间。\n",
    "\n",
    "请编写一个计算类Calc，其中有一个方法calc_func，方法体是进行一个非常耗时的操作，比如用for循环计算 1 到 9999999 之间所有整数之和。\n",
    "\n",
    "然后编写一个名为TimeTools的类，并且继承于Calc类。要求该子类重新编写calc_func方法，即覆盖了父类的该方法。\n",
    "\n",
    "在子类的calc_func方法中调用父类的同名方法，利用time模块计算父类方法的运行时间并返回它。 "
   ]
  },
  {
   "cell_type": "code",
   "execution_count": 41,
   "metadata": {},
   "outputs": [],
   "source": [
    "class Calc():\n",
    "    def calc_func(self):\n",
    "        k=0\n",
    "        for i in range(99999999):\n",
    "            k=k+i\n",
    "        return k\n",
    "\n",
    "class TimeTools(Calc):\n",
    "    \n",
    "    def calc_func(self):\n",
    "        import time\n",
    "        t1=time.time()\n",
    "        super().calc_func()\n",
    "        t2=time.time()-t1\n",
    "        \n",
    "        return t2\n",
    "    "
   ]
  },
  {
   "cell_type": "code",
   "execution_count": 42,
   "metadata": {
    "scrolled": true
   },
   "outputs": [
    {
     "data": {
      "text/plain": [
       "3.5407955646514893"
      ]
     },
     "execution_count": 42,
     "metadata": {},
     "output_type": "execute_result"
    }
   ],
   "source": [
    "a=TimeTools()\n",
    "a.calc_func()"
   ]
  },
  {
   "cell_type": "code",
   "execution_count": 43,
   "metadata": {},
   "outputs": [
    {
     "name": "stdout",
     "output_type": "stream",
     "text": [
      "耗时： 0.3610806465148926\n"
     ]
    }
   ],
   "source": [
    "# 标准答案\n",
    "\n",
    "import time\n",
    "\n",
    "class Calc:\n",
    "\n",
    "    def calc_func(self):\n",
    "\n",
    "        res = 0\n",
    "\n",
    "        for i in range(9999999):\n",
    "\n",
    "            res += i\n",
    "\n",
    "\n",
    "\n",
    "class TimeTools(Calc):\n",
    "\n",
    "    def calc_func(self):\n",
    "\n",
    "        start = time.time()\n",
    "\n",
    "        super().calc_func()\n",
    "\n",
    "        end = time.time()\n",
    "\n",
    "        return end - start\n",
    "\n",
    "\n",
    "\n",
    "tools = TimeTools()\n",
    "\n",
    "print('耗时：', tools.calc_func())"
   ]
  },
  {
   "cell_type": "markdown",
   "metadata": {},
   "source": [
    "### 装修公司将所有的装修服务分为几种类型：时尚类、温馨类、品味类和务实类：\n",
    "\n",
    "时尚类具备的服务有：经济实惠型和时尚美观型。具体写成代码，就是拥有 economy 和 fashion 两个方法，分别用print打印出“经济型服务”和“时尚型服务”两个字符串。\n",
    "\n",
    "类似的，温馨类具备学习教育服务方法（用print输出“学习教育型服务”）、品味类具备审美品味方法（用print输出“审美品味型服务”）、务实类具备家庭方法（输出“家庭聚会型服务”）。\n",
    "\n",
    "接下来请编写三种顾客服务类型：\n",
    "\n",
    "青年人服务类，兼具时尚类和温馨类两种服务方法；\n",
    "中年人服务类，兼具温馨类和品味类方法；\n",
    "老年人服务类，具备务实类服务方法。\n",
    "\n",
    "请利用多继承编写上述各种服务类，然后实例化并试验。 "
   ]
  },
  {
   "cell_type": "code",
   "execution_count": 44,
   "metadata": {},
   "outputs": [
    {
     "name": "stdout",
     "output_type": "stream",
     "text": [
      "青年人： 经济实惠型服务 学习教育型服务 时尚美观型服务\n",
      "中年人： 学习教育型服务 审美品味型服务\n",
      "老年人： 家庭聚会型服务\n"
     ]
    }
   ],
   "source": [
    "# 代码核心为多继承的练习 但内容繁琐,简单,不想自己写\n",
    "# 标准答案\n",
    "class Fashion:\n",
    "\n",
    "    def economy(self):\n",
    "\n",
    "        return '经济实惠型服务'\n",
    "\n",
    "\n",
    "\n",
    "    def fashion(self):\n",
    "\n",
    "        return '时尚美观型服务'\n",
    "\n",
    "\n",
    "\n",
    "class Warm:\n",
    "\n",
    "    def education(self):\n",
    "\n",
    "        return '学习教育型服务'\n",
    "\n",
    "\n",
    "\n",
    "class Taste:\n",
    "\n",
    "    def aesthetic(self):\n",
    "\n",
    "        return '审美品味型服务'\n",
    "\n",
    "\n",
    "\n",
    "class Pragmatic:\n",
    "\n",
    "    def family(self):\n",
    "\n",
    "        return '家庭聚会型服务'\n",
    "\n",
    "\n",
    "\n",
    "class Young(Fashion, Warm):\n",
    "\n",
    "    pass\n",
    "\n",
    "\n",
    "\n",
    "class Middle(Warm, Taste):\n",
    "\n",
    "    pass\n",
    "\n",
    "\n",
    "\n",
    "class Old(Pragmatic):\n",
    "\n",
    "    pass\n",
    "\n",
    "\n",
    "\n",
    "p1 = Young()\n",
    "\n",
    "p2 = Middle()\n",
    "\n",
    "p3 = Old()\n",
    "\n",
    "print('青年人：', p1.economy(), p1.education(), p1.fashion())\n",
    "\n",
    "print('中年人：', p2.education(), p2.aesthetic())\n",
    "\n",
    "print('老年人：', p3.family())\n"
   ]
  }
 ],
 "metadata": {
  "kernelspec": {
   "display_name": "Python 3",
   "language": "python",
   "name": "python3"
  },
  "language_info": {
   "codemirror_mode": {
    "name": "ipython",
    "version": 3
   },
   "file_extension": ".py",
   "mimetype": "text/x-python",
   "name": "python",
   "nbconvert_exporter": "python",
   "pygments_lexer": "ipython3",
   "version": "3.8.3"
  }
 },
 "nbformat": 4,
 "nbformat_minor": 4
}
