{
 "cells": [
  {
   "cell_type": "markdown",
   "id": "7e9cd7f1",
   "metadata": {},
   "source": [
    "### 读取 水果分类数据 ，使用sklearn决策树对未知数据进行分类，将决策树导出为图片。"
   ]
  },
  {
   "cell_type": "code",
   "execution_count": 1,
   "id": "f3e7acfc",
   "metadata": {},
   "outputs": [],
   "source": [
    "import pandas as pd\n",
    "import numpy as np\n",
    "\n",
    "\n",
    "# 导入数据\n",
    "file = r'C:\\Users\\YcAllenEffy\\Desktop\\决策树水果分类.xlsx'\n",
    "df_src = pd.read_excel(file, sheet_name=0)      # 已知数据\n",
    "df_ans = pd.read_excel(file, sheet_name=1)  # 未知数据"
   ]
  },
  {
   "cell_type": "code",
   "execution_count": 2,
   "id": "14cbf303",
   "metadata": {},
   "outputs": [],
   "source": [
    "#导入决策树模型\n",
    "from sklearn.tree import DecisionTreeClassifier\n",
    "dtc=DecisionTreeClassifier()"
   ]
  },
  {
   "cell_type": "code",
   "execution_count": 3,
   "id": "84103ba0",
   "metadata": {
    "scrolled": false
   },
   "outputs": [
    {
     "data": {
      "text/plain": [
       "[array(['圆形', '椭圆'], dtype=object),\n",
       " array(['红色', '青色'], dtype=object),\n",
       " array(['大', '小'], dtype=object)]"
      ]
     },
     "execution_count": 3,
     "metadata": {},
     "output_type": "execute_result"
    }
   ],
   "source": [
    "#特征值数字化\n",
    "from sklearn.preprocessing import OrdinalEncoder\n",
    "enc=OrdinalEncoder()\n",
    "x_train=enc.fit_transform(df_src.iloc[:,0:3])\n",
    "enc.categories_"
   ]
  },
  {
   "cell_type": "code",
   "execution_count": 4,
   "id": "e30e51ca",
   "metadata": {
    "scrolled": true
   },
   "outputs": [
    {
     "data": {
      "text/plain": [
       "DecisionTreeClassifier()"
      ]
     },
     "execution_count": 4,
     "metadata": {},
     "output_type": "execute_result"
    }
   ],
   "source": [
    "#训练\n",
    "dtc.fit(x_train , df_src['分类'])"
   ]
  },
  {
   "cell_type": "code",
   "execution_count": 6,
   "id": "0077cbb7",
   "metadata": {
    "scrolled": true
   },
   "outputs": [
    {
     "data": {
      "text/plain": [
       "True"
      ]
     },
     "execution_count": 6,
     "metadata": {},
     "output_type": "execute_result"
    }
   ],
   "source": [
    "#决策树图形输出\n",
    "from sklearn.tree import export_graphviz\n",
    "import pydotplus\n",
    "#设置名称\n",
    "tree_data=export_graphviz(dtc,feature_names=['形状','颜色','大小'],class_names=['成熟','不成熟'],filled=True, rounded=True)\n",
    "#画图\n",
    "graph= pydotplus.graph_from_dot_data(tree_data)\n",
    "#输出\n",
    "graph.write_svg(r\"C:\\Users\\YcAllenEffy\\Desktop\\tree.svg\")"
   ]
  },
  {
   "cell_type": "code",
   "execution_count": 7,
   "id": "e2b1d7a3",
   "metadata": {},
   "outputs": [
    {
     "data": {
      "text/html": [
       "<div>\n",
       "<style scoped>\n",
       "    .dataframe tbody tr th:only-of-type {\n",
       "        vertical-align: middle;\n",
       "    }\n",
       "\n",
       "    .dataframe tbody tr th {\n",
       "        vertical-align: top;\n",
       "    }\n",
       "\n",
       "    .dataframe thead th {\n",
       "        text-align: right;\n",
       "    }\n",
       "</style>\n",
       "<table border=\"1\" class=\"dataframe\">\n",
       "  <thead>\n",
       "    <tr style=\"text-align: right;\">\n",
       "      <th></th>\n",
       "      <th>形状</th>\n",
       "      <th>颜色</th>\n",
       "      <th>大小</th>\n",
       "      <th>分类</th>\n",
       "    </tr>\n",
       "  </thead>\n",
       "  <tbody>\n",
       "    <tr>\n",
       "      <th>0</th>\n",
       "      <td>椭圆</td>\n",
       "      <td>红色</td>\n",
       "      <td>小</td>\n",
       "      <td>？</td>\n",
       "    </tr>\n",
       "  </tbody>\n",
       "</table>\n",
       "</div>"
      ],
      "text/plain": [
       "   形状  颜色 大小 分类\n",
       "0  椭圆  红色  小  ？"
      ]
     },
     "execution_count": 7,
     "metadata": {},
     "output_type": "execute_result"
    }
   ],
   "source": [
    "df_ans"
   ]
  },
  {
   "cell_type": "code",
   "execution_count": 9,
   "id": "7ada8e88",
   "metadata": {
    "scrolled": true
   },
   "outputs": [
    {
     "data": {
      "text/plain": [
       "array(['不成熟'], dtype=object)"
      ]
     },
     "execution_count": 9,
     "metadata": {},
     "output_type": "execute_result"
    }
   ],
   "source": [
    "# 测试\n",
    "y=dtc.predict([(1,0,1),])\n",
    "y"
   ]
  },
  {
   "cell_type": "code",
   "execution_count": 12,
   "id": "303d81f5",
   "metadata": {},
   "outputs": [
    {
     "name": "stdout",
     "output_type": "stream",
     "text": [
      "预测结果,: ['不成熟'] 预测数值 [[1. 0. 1.]]\n"
     ]
    },
    {
     "data": {
      "text/plain": [
       "True"
      ]
     },
     "execution_count": 12,
     "metadata": {},
     "output_type": "execute_result"
    }
   ],
   "source": [
    "# 标准答案\n",
    "#读取数据\n",
    "import pandas as pd\n",
    "df_known = df_src\n",
    "df_unknown = df_ans\n",
    "\n",
    "# 拆分测试集与训练集\n",
    "from sklearn.model_selection import train_test_split\n",
    "df_train, df_test = train_test_split( df_known, random_state=42 )\n",
    "\n",
    "# 数据预处理，特征编码\n",
    "from sklearn.preprocessing import OrdinalEncoder\n",
    "enc = OrdinalEncoder()\n",
    "x_train = enc.fit_transform( df_train.iloc[:, :3] )\n",
    "x_test = enc.transform( df_test.iloc[:, :3] )\n",
    "x_unknown = enc.transform( df_unknown.iloc[:, :3] )\n",
    "enc.categories_\n",
    "\n",
    "# 决策树训练\n",
    "from sklearn.tree import DecisionTreeClassifier\n",
    "dtc = DecisionTreeClassifier()\n",
    "dtc.fit( x_train, df_train['分类'] )\n",
    "\n",
    "# 对测试集预测\n",
    "df_test['预测分类'] = dtc.predict( x_test )\n",
    "df_test\n",
    "\n",
    "# 对未知数据预测\n",
    "print('预测结果,:',dtc.predict( x_unknown ),\"预测数值\",x_unknown)\n",
    "\n",
    "# 决策树导出图片\n",
    "from sklearn.tree import export_graphviz\n",
    "import pydotplus\n",
    "tree_data = export_graphviz( dtc,\n",
    "                        feature_names=[ '形状', '颜色', '大小' ],\n",
    "                        class_names=['成熟', '不成熟'],\n",
    "                        filled=True,      \n",
    "                        rounded=True )  \n",
    "graph = pydotplus.graph_from_dot_data( tree_data )\n",
    "graph.write_svg(r\"C:\\Users\\YcAllenEffy\\Desktop\\tree2.svg\")"
   ]
  }
 ],
 "metadata": {
  "kernelspec": {
   "display_name": "Python 3 (ipykernel)",
   "language": "python",
   "name": "python3"
  },
  "language_info": {
   "codemirror_mode": {
    "name": "ipython",
    "version": 3
   },
   "file_extension": ".py",
   "mimetype": "text/x-python",
   "name": "python",
   "nbconvert_exporter": "python",
   "pygments_lexer": "ipython3",
   "version": "3.8.3"
  }
 },
 "nbformat": 4,
 "nbformat_minor": 5
}
