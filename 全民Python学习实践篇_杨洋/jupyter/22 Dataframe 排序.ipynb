{
 "cells": [
  {
   "cell_type": "markdown",
   "metadata": {},
   "source": [
    "### Merge后重新指定索引\n",
    "\n",
    "  原因:由于2df合并后可能会打乱顺序并且自动更新新的索引\n",
    "\n",
    "  所以:为了保留原来索引,而得到的方法\n",
    "\n",
    "  方法:把所有复制到普通列df['保留索引列']=df.index\n",
    "\n",
    "        再把merge后的索引赋值回保留的索引列.df.index=df['保留索引列']\n",
    "\n",
    "\n",
    "\n",
    "#### Df的排序\n",
    "\n",
    "  一,单列排序方法\n",
    "\n",
    "    df.sort_values('列名',ascending=False)\n",
    "\n",
    "    默认ascending=True 从低到高排,False从高到低\n",
    "\n",
    "  二,多列排序\n",
    "\n",
    "    df.sort_values(['列名1','列名2'],ascending=[True,False])\n",
    "\n",
    "    列名1为低到高,若列名1相等,列名2从高到低排序\n",
    "\n",
    "  三,按拼音排序\n",
    "\n",
    "    import pinyin\n",
    "\n",
    "    df['拼音转化列']=df['待转化列'].apply(pinyin.get,format='strip')\n",
    "\n",
    "    其中format='strip' 参数为pinyin.get的参数,作用为把拼音转化为str串\n",
    "\n",
    "    df.sor_values('拼音转化列')\n",
    "\n",
    "  四,索引排序\n",
    "\n",
    "    df.sort_index(ascending=False)\n",
    "\n",
    "  五,排序的缺失值位置参数\n",
    "\n",
    "    na_position='first' 把缺失值的行排在最前面\n",
    "\n",
    "    na_position='last' 把缺失值的行排在最后面(默认值)"
   ]
  }
 ],
 "metadata": {
  "kernelspec": {
   "display_name": "Python 3",
   "language": "python",
   "name": "python3"
  },
  "language_info": {
   "codemirror_mode": {
    "name": "ipython",
    "version": 3
   },
   "file_extension": ".py",
   "mimetype": "text/x-python",
   "name": "python",
   "nbconvert_exporter": "python",
   "pygments_lexer": "ipython3",
   "version": "3.8.3"
  }
 },
 "nbformat": 4,
 "nbformat_minor": 4
}
