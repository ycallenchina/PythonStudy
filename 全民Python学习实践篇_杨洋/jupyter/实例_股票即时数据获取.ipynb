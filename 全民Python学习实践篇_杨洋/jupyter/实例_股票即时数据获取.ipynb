{
 "cells": [
  {
   "cell_type": "code",
   "execution_count": 25,
   "metadata": {},
   "outputs": [],
   "source": [
    "import easyquotation\n",
    "import time"
   ]
  },
  {
   "cell_type": "code",
   "execution_count": null,
   "metadata": {},
   "outputs": [],
   "source": [
    "import easyquotation\n",
    "import time\n",
    "\n",
    "def get_stock(name):\n",
    "    \n",
    "    try:\n",
    "        quotation = easyquotation.use('sina')\n",
    "        tmp_dict = quotation.market_snapshot(prefix=False)\n",
    "\n",
    "        code=str(name)\n",
    "\n",
    "        name=tmp_dict[code]['name']\n",
    "        price=str(tmp_dict[code]['now'])\n",
    "        now='时间:'+str(time.strftime(\"%m-%d %H:%M:%S\", time.localtime()))\n",
    "        message=name+price+now\n",
    "\n",
    "        return message\n",
    "\n",
    "    except:\n",
    "        message='股票代码输入有误'\n",
    "        return message\n",
    "\n",
    "print(get_stock(300244))"
   ]
  },
  {
   "cell_type": "code",
   "execution_count": null,
   "metadata": {},
   "outputs": [],
   "source": []
  }
 ],
 "metadata": {
  "kernelspec": {
   "display_name": "Python 3",
   "language": "python",
   "name": "python3"
  },
  "language_info": {
   "codemirror_mode": {
    "name": "ipython",
    "version": 3
   },
   "file_extension": ".py",
   "mimetype": "text/x-python",
   "name": "python",
   "nbconvert_exporter": "python",
   "pygments_lexer": "ipython3",
   "version": "3.8.3"
  }
 },
 "nbformat": 4,
 "nbformat_minor": 4
}
