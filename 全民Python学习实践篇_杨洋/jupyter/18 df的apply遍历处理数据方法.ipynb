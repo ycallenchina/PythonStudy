{
 "cells": [
  {
   "cell_type": "markdown",
   "metadata": {},
   "source": [
    "### series 的map方法\n",
    "\n",
    "  series.map(函数名A)\n",
    "\n",
    "    原理:把每个series数据滚动逐个访问 函数A 将处理后的返回结果来创建一个新的series.\n",
    "\n",
    "    特点:每次处理一个数据(在series里)\n",
    "\n",
    "#### df的apply的方法\n",
    "\n",
    "  df.apply(函数名A,axis=1)\n",
    "\n",
    "    原理: 按axis=1 即colounms方向 逐行处理\n",
    "\n",
    "         滚动逐个 把df的每行数据 访问函数A,把处理后的返回结果来创建一个新的 df\n",
    "\n",
    "    同理:axis=0时,即按照index 方向 逐列处理\n",
    "\n",
    "    特点:每次处理一行 或者一列的 series数据\n",
    "\n",
    "#### df的applymap方法\n",
    "\n",
    "  df.applymap(函数名A)\n",
    "\n",
    "    原理:把df里的每个数据交给函数A返回结果创建一个新的df\n",
    "\n",
    "    特点:每次处理一个数据\n",
    "\n",
    "#### df的统计函数方法\n",
    "\n",
    "  df.sum (axis=1)总和\n",
    "\n",
    "  df.count总个数\n",
    "\n",
    "  df.mean 平均数\n",
    "\n",
    "  ...等\n",
    "\n",
    "#### df的argmax 和idxmax\n",
    "\n",
    "  df['值1'].argmax 返回df值1里的最大值行号\n",
    "\n",
    "  df['值1'].idxmax 返回df值1里的最大值的索引\n",
    "  同理 min 的idxmin也可以返回最小值的行号\n",
    "\n",
    "#### df的corr() 相关性函数\n",
    "\n",
    "  df.corr()\n",
    "\n",
    "    原理:正相关为0-1 值大为优\n",
    "\n",
    "         负相关为-1-0 值小为优"
   ]
  },
  {
   "cell_type": "code",
   "execution_count": 4,
   "metadata": {},
   "outputs": [
    {
     "data": {
      "text/html": [
       "<div>\n",
       "<style scoped>\n",
       "    .dataframe tbody tr th:only-of-type {\n",
       "        vertical-align: middle;\n",
       "    }\n",
       "\n",
       "    .dataframe tbody tr th {\n",
       "        vertical-align: top;\n",
       "    }\n",
       "\n",
       "    .dataframe thead th {\n",
       "        text-align: right;\n",
       "    }\n",
       "</style>\n",
       "<table border=\"1\" class=\"dataframe\">\n",
       "  <thead>\n",
       "    <tr style=\"text-align: right;\">\n",
       "      <th></th>\n",
       "      <th>height</th>\n",
       "      <th>weight</th>\n",
       "      <th>smoker</th>\n",
       "      <th>gender</th>\n",
       "      <th>age</th>\n",
       "      <th>color</th>\n",
       "    </tr>\n",
       "  </thead>\n",
       "  <tbody>\n",
       "    <tr>\n",
       "      <th>0</th>\n",
       "      <td>160</td>\n",
       "      <td>67</td>\n",
       "      <td>False</td>\n",
       "      <td>男</td>\n",
       "      <td>75</td>\n",
       "      <td>white</td>\n",
       "    </tr>\n",
       "    <tr>\n",
       "      <th>1</th>\n",
       "      <td>182</td>\n",
       "      <td>43</td>\n",
       "      <td>False</td>\n",
       "      <td>女</td>\n",
       "      <td>77</td>\n",
       "      <td>yellow</td>\n",
       "    </tr>\n",
       "    <tr>\n",
       "      <th>2</th>\n",
       "      <td>170</td>\n",
       "      <td>51</td>\n",
       "      <td>True</td>\n",
       "      <td>女</td>\n",
       "      <td>48</td>\n",
       "      <td>black</td>\n",
       "    </tr>\n",
       "    <tr>\n",
       "      <th>3</th>\n",
       "      <td>150</td>\n",
       "      <td>59</td>\n",
       "      <td>True</td>\n",
       "      <td>女</td>\n",
       "      <td>58</td>\n",
       "      <td>white</td>\n",
       "    </tr>\n",
       "    <tr>\n",
       "      <th>4</th>\n",
       "      <td>168</td>\n",
       "      <td>77</td>\n",
       "      <td>True</td>\n",
       "      <td>男</td>\n",
       "      <td>52</td>\n",
       "      <td>white</td>\n",
       "    </tr>\n",
       "    <tr>\n",
       "      <th>5</th>\n",
       "      <td>171</td>\n",
       "      <td>66</td>\n",
       "      <td>False</td>\n",
       "      <td>男</td>\n",
       "      <td>19</td>\n",
       "      <td>yellow</td>\n",
       "    </tr>\n",
       "    <tr>\n",
       "      <th>6</th>\n",
       "      <td>151</td>\n",
       "      <td>71</td>\n",
       "      <td>False</td>\n",
       "      <td>女</td>\n",
       "      <td>79</td>\n",
       "      <td>black</td>\n",
       "    </tr>\n",
       "    <tr>\n",
       "      <th>7</th>\n",
       "      <td>150</td>\n",
       "      <td>61</td>\n",
       "      <td>False</td>\n",
       "      <td>女</td>\n",
       "      <td>21</td>\n",
       "      <td>white</td>\n",
       "    </tr>\n",
       "    <tr>\n",
       "      <th>8</th>\n",
       "      <td>159</td>\n",
       "      <td>73</td>\n",
       "      <td>False</td>\n",
       "      <td>女</td>\n",
       "      <td>20</td>\n",
       "      <td>yellow</td>\n",
       "    </tr>\n",
       "    <tr>\n",
       "      <th>9</th>\n",
       "      <td>158</td>\n",
       "      <td>70</td>\n",
       "      <td>True</td>\n",
       "      <td>女</td>\n",
       "      <td>49</td>\n",
       "      <td>black</td>\n",
       "    </tr>\n",
       "  </tbody>\n",
       "</table>\n",
       "</div>"
      ],
      "text/plain": [
       "   height  weight  smoker gender  age   color\n",
       "0     160      67   False      男   75   white\n",
       "1     182      43   False      女   77  yellow\n",
       "2     170      51    True      女   48   black\n",
       "3     150      59    True      女   58   white\n",
       "4     168      77    True      男   52   white\n",
       "5     171      66   False      男   19  yellow\n",
       "6     151      71   False      女   79   black\n",
       "7     150      61   False      女   21   white\n",
       "8     159      73   False      女   20  yellow\n",
       "9     158      70    True      女   49   black"
      ]
     },
     "execution_count": 4,
     "metadata": {},
     "output_type": "execute_result"
    }
   ],
   "source": [
    "import pandas as pd\n",
    "import numpy as np\n",
    "boolean=[True,False]\n",
    "gender=[\"男\",\"女\"]\n",
    "color=[\"white\",\"black\",\"yellow\"]\n",
    "df1=pd.DataFrame({\n",
    "    \"height\":np.random.randint(150,190,10),\n",
    "    \"weight\":np.random.randint(40,90,10),\n",
    "    \"smoker\":[boolean[x] for x in np.random.randint(0,2,10)],\n",
    "    \"gender\":[gender[x] for x in np.random.randint(0,2,10)],\n",
    "    \"age\":np.random.randint(15,90,10),\n",
    "    \"color\":[color[x] for x in np.random.randint(0,len(color),10) ]\n",
    "    }\n",
    ") \n",
    "df1"
   ]
  },
  {
   "cell_type": "markdown",
   "metadata": {},
   "source": [
    "### series 的map方法"
   ]
  },
  {
   "cell_type": "code",
   "execution_count": 5,
   "metadata": {},
   "outputs": [
    {
     "data": {
      "text/plain": [
       "0    160\n",
       "1    182\n",
       "2    170\n",
       "3    150\n",
       "4    168\n",
       "5    171\n",
       "6    151\n",
       "7    150\n",
       "8    159\n",
       "9    158\n",
       "Name: height, dtype: int32"
      ]
     },
     "execution_count": 5,
     "metadata": {},
     "output_type": "execute_result"
    }
   ],
   "source": [
    "sr1=df1['height']\n",
    "sr1"
   ]
  },
  {
   "cell_type": "code",
   "execution_count": 7,
   "metadata": {},
   "outputs": [
    {
     "data": {
      "text/plain": [
       "0    260\n",
       "1    282\n",
       "2    270\n",
       "3    250\n",
       "4    268\n",
       "5    271\n",
       "6    251\n",
       "7    250\n",
       "8    259\n",
       "9    258\n",
       "Name: height, dtype: int64"
      ]
     },
     "execution_count": 7,
     "metadata": {},
     "output_type": "execute_result"
    }
   ],
   "source": [
    "sr1.map(lambda x:x+100)"
   ]
  },
  {
   "cell_type": "markdown",
   "metadata": {},
   "source": [
    "### df的apply的方法"
   ]
  },
  {
   "cell_type": "code",
   "execution_count": 18,
   "metadata": {},
   "outputs": [
    {
     "data": {
      "text/plain": [
       "0    老年人\n",
       "1    老年人\n",
       "2    青年人\n",
       "3    老年人\n",
       "4    老年人\n",
       "5    青年人\n",
       "6    老年人\n",
       "7    青年人\n",
       "8    青年人\n",
       "9    青年人\n",
       "dtype: object"
      ]
     },
     "execution_count": 18,
     "metadata": {},
     "output_type": "execute_result"
    }
   ],
   "source": [
    "def go(x):\n",
    "    if x['age']>50:\n",
    "        return '老年人'\n",
    "    else:\n",
    "        return '青年人'\n",
    "df1.apply(go,axis=1)\n"
   ]
  },
  {
   "cell_type": "markdown",
   "metadata": {},
   "source": [
    "### df的applymap方法"
   ]
  },
  {
   "cell_type": "code",
   "execution_count": 19,
   "metadata": {},
   "outputs": [
    {
     "data": {
      "text/html": [
       "<div>\n",
       "<style scoped>\n",
       "    .dataframe tbody tr th:only-of-type {\n",
       "        vertical-align: middle;\n",
       "    }\n",
       "\n",
       "    .dataframe tbody tr th {\n",
       "        vertical-align: top;\n",
       "    }\n",
       "\n",
       "    .dataframe thead th {\n",
       "        text-align: right;\n",
       "    }\n",
       "</style>\n",
       "<table border=\"1\" class=\"dataframe\">\n",
       "  <thead>\n",
       "    <tr style=\"text-align: right;\">\n",
       "      <th></th>\n",
       "      <th>height</th>\n",
       "      <th>weight</th>\n",
       "      <th>smoker</th>\n",
       "      <th>gender</th>\n",
       "      <th>age</th>\n",
       "      <th>color</th>\n",
       "    </tr>\n",
       "  </thead>\n",
       "  <tbody>\n",
       "    <tr>\n",
       "      <th>0</th>\n",
       "      <td>&lt;class 'int'&gt;</td>\n",
       "      <td>&lt;class 'int'&gt;</td>\n",
       "      <td>&lt;class 'bool'&gt;</td>\n",
       "      <td>&lt;class 'str'&gt;</td>\n",
       "      <td>&lt;class 'int'&gt;</td>\n",
       "      <td>&lt;class 'str'&gt;</td>\n",
       "    </tr>\n",
       "    <tr>\n",
       "      <th>1</th>\n",
       "      <td>&lt;class 'int'&gt;</td>\n",
       "      <td>&lt;class 'int'&gt;</td>\n",
       "      <td>&lt;class 'bool'&gt;</td>\n",
       "      <td>&lt;class 'str'&gt;</td>\n",
       "      <td>&lt;class 'int'&gt;</td>\n",
       "      <td>&lt;class 'str'&gt;</td>\n",
       "    </tr>\n",
       "    <tr>\n",
       "      <th>2</th>\n",
       "      <td>&lt;class 'int'&gt;</td>\n",
       "      <td>&lt;class 'int'&gt;</td>\n",
       "      <td>&lt;class 'bool'&gt;</td>\n",
       "      <td>&lt;class 'str'&gt;</td>\n",
       "      <td>&lt;class 'int'&gt;</td>\n",
       "      <td>&lt;class 'str'&gt;</td>\n",
       "    </tr>\n",
       "    <tr>\n",
       "      <th>3</th>\n",
       "      <td>&lt;class 'int'&gt;</td>\n",
       "      <td>&lt;class 'int'&gt;</td>\n",
       "      <td>&lt;class 'bool'&gt;</td>\n",
       "      <td>&lt;class 'str'&gt;</td>\n",
       "      <td>&lt;class 'int'&gt;</td>\n",
       "      <td>&lt;class 'str'&gt;</td>\n",
       "    </tr>\n",
       "    <tr>\n",
       "      <th>4</th>\n",
       "      <td>&lt;class 'int'&gt;</td>\n",
       "      <td>&lt;class 'int'&gt;</td>\n",
       "      <td>&lt;class 'bool'&gt;</td>\n",
       "      <td>&lt;class 'str'&gt;</td>\n",
       "      <td>&lt;class 'int'&gt;</td>\n",
       "      <td>&lt;class 'str'&gt;</td>\n",
       "    </tr>\n",
       "    <tr>\n",
       "      <th>5</th>\n",
       "      <td>&lt;class 'int'&gt;</td>\n",
       "      <td>&lt;class 'int'&gt;</td>\n",
       "      <td>&lt;class 'bool'&gt;</td>\n",
       "      <td>&lt;class 'str'&gt;</td>\n",
       "      <td>&lt;class 'int'&gt;</td>\n",
       "      <td>&lt;class 'str'&gt;</td>\n",
       "    </tr>\n",
       "    <tr>\n",
       "      <th>6</th>\n",
       "      <td>&lt;class 'int'&gt;</td>\n",
       "      <td>&lt;class 'int'&gt;</td>\n",
       "      <td>&lt;class 'bool'&gt;</td>\n",
       "      <td>&lt;class 'str'&gt;</td>\n",
       "      <td>&lt;class 'int'&gt;</td>\n",
       "      <td>&lt;class 'str'&gt;</td>\n",
       "    </tr>\n",
       "    <tr>\n",
       "      <th>7</th>\n",
       "      <td>&lt;class 'int'&gt;</td>\n",
       "      <td>&lt;class 'int'&gt;</td>\n",
       "      <td>&lt;class 'bool'&gt;</td>\n",
       "      <td>&lt;class 'str'&gt;</td>\n",
       "      <td>&lt;class 'int'&gt;</td>\n",
       "      <td>&lt;class 'str'&gt;</td>\n",
       "    </tr>\n",
       "    <tr>\n",
       "      <th>8</th>\n",
       "      <td>&lt;class 'int'&gt;</td>\n",
       "      <td>&lt;class 'int'&gt;</td>\n",
       "      <td>&lt;class 'bool'&gt;</td>\n",
       "      <td>&lt;class 'str'&gt;</td>\n",
       "      <td>&lt;class 'int'&gt;</td>\n",
       "      <td>&lt;class 'str'&gt;</td>\n",
       "    </tr>\n",
       "    <tr>\n",
       "      <th>9</th>\n",
       "      <td>&lt;class 'int'&gt;</td>\n",
       "      <td>&lt;class 'int'&gt;</td>\n",
       "      <td>&lt;class 'bool'&gt;</td>\n",
       "      <td>&lt;class 'str'&gt;</td>\n",
       "      <td>&lt;class 'int'&gt;</td>\n",
       "      <td>&lt;class 'str'&gt;</td>\n",
       "    </tr>\n",
       "  </tbody>\n",
       "</table>\n",
       "</div>"
      ],
      "text/plain": [
       "          height         weight          smoker         gender            age  \\\n",
       "0  <class 'int'>  <class 'int'>  <class 'bool'>  <class 'str'>  <class 'int'>   \n",
       "1  <class 'int'>  <class 'int'>  <class 'bool'>  <class 'str'>  <class 'int'>   \n",
       "2  <class 'int'>  <class 'int'>  <class 'bool'>  <class 'str'>  <class 'int'>   \n",
       "3  <class 'int'>  <class 'int'>  <class 'bool'>  <class 'str'>  <class 'int'>   \n",
       "4  <class 'int'>  <class 'int'>  <class 'bool'>  <class 'str'>  <class 'int'>   \n",
       "5  <class 'int'>  <class 'int'>  <class 'bool'>  <class 'str'>  <class 'int'>   \n",
       "6  <class 'int'>  <class 'int'>  <class 'bool'>  <class 'str'>  <class 'int'>   \n",
       "7  <class 'int'>  <class 'int'>  <class 'bool'>  <class 'str'>  <class 'int'>   \n",
       "8  <class 'int'>  <class 'int'>  <class 'bool'>  <class 'str'>  <class 'int'>   \n",
       "9  <class 'int'>  <class 'int'>  <class 'bool'>  <class 'str'>  <class 'int'>   \n",
       "\n",
       "           color  \n",
       "0  <class 'str'>  \n",
       "1  <class 'str'>  \n",
       "2  <class 'str'>  \n",
       "3  <class 'str'>  \n",
       "4  <class 'str'>  \n",
       "5  <class 'str'>  \n",
       "6  <class 'str'>  \n",
       "7  <class 'str'>  \n",
       "8  <class 'str'>  \n",
       "9  <class 'str'>  "
      ]
     },
     "execution_count": 19,
     "metadata": {},
     "output_type": "execute_result"
    }
   ],
   "source": [
    "df1.applymap(type)"
   ]
  },
  {
   "cell_type": "markdown",
   "metadata": {},
   "source": [
    "#### df的统计函数方法"
   ]
  },
  {
   "cell_type": "code",
   "execution_count": 20,
   "metadata": {},
   "outputs": [
    {
     "data": {
      "text/plain": [
       "height                                                 1619\n",
       "weight                                                  638\n",
       "smoker                                                    4\n",
       "gender                                           男女女女男男女女女女\n",
       "age                                                     498\n",
       "color     whiteyellowblackwhitewhiteyellowblackwhiteyell...\n",
       "dtype: object"
      ]
     },
     "execution_count": 20,
     "metadata": {},
     "output_type": "execute_result"
    }
   ],
   "source": [
    "df1.sum()"
   ]
  },
  {
   "cell_type": "code",
   "execution_count": 23,
   "metadata": {},
   "outputs": [
    {
     "data": {
      "text/plain": [
       "0    302.0\n",
       "1    302.0\n",
       "2    270.0\n",
       "3    268.0\n",
       "4    298.0\n",
       "5    256.0\n",
       "6    301.0\n",
       "7    232.0\n",
       "8    252.0\n",
       "9    278.0\n",
       "dtype: float64"
      ]
     },
     "execution_count": 23,
     "metadata": {},
     "output_type": "execute_result"
    }
   ],
   "source": [
    "df1.sum(axis=1) #按照行合计,只统计纯数字"
   ]
  },
  {
   "cell_type": "markdown",
   "metadata": {},
   "source": [
    "### df的argmax 和idxmax"
   ]
  },
  {
   "cell_type": "code",
   "execution_count": 28,
   "metadata": {},
   "outputs": [
    {
     "data": {
      "text/plain": [
       "6"
      ]
     },
     "execution_count": 28,
     "metadata": {},
     "output_type": "execute_result"
    }
   ],
   "source": [
    "df1['age'].argmax() #返回age最大值行号"
   ]
  },
  {
   "cell_type": "code",
   "execution_count": 29,
   "metadata": {},
   "outputs": [
    {
     "data": {
      "text/plain": [
       "6"
      ]
     },
     "execution_count": 29,
     "metadata": {},
     "output_type": "execute_result"
    }
   ],
   "source": [
    "df1['age'].idxmax() #返回age最大值索引"
   ]
  },
  {
   "cell_type": "markdown",
   "metadata": {},
   "source": [
    "### 相关性函数corr "
   ]
  },
  {
   "cell_type": "code",
   "execution_count": 31,
   "metadata": {},
   "outputs": [
    {
     "data": {
      "text/html": [
       "<div>\n",
       "<style scoped>\n",
       "    .dataframe tbody tr th:only-of-type {\n",
       "        vertical-align: middle;\n",
       "    }\n",
       "\n",
       "    .dataframe tbody tr th {\n",
       "        vertical-align: top;\n",
       "    }\n",
       "\n",
       "    .dataframe thead th {\n",
       "        text-align: right;\n",
       "    }\n",
       "</style>\n",
       "<table border=\"1\" class=\"dataframe\">\n",
       "  <thead>\n",
       "    <tr style=\"text-align: right;\">\n",
       "      <th></th>\n",
       "      <th>height</th>\n",
       "      <th>weight</th>\n",
       "      <th>smoker</th>\n",
       "      <th>age</th>\n",
       "    </tr>\n",
       "  </thead>\n",
       "  <tbody>\n",
       "    <tr>\n",
       "      <th>height</th>\n",
       "      <td>1.000000</td>\n",
       "      <td>-0.463808</td>\n",
       "      <td>-0.032356</td>\n",
       "      <td>0.103901</td>\n",
       "    </tr>\n",
       "    <tr>\n",
       "      <th>weight</th>\n",
       "      <td>-0.463808</td>\n",
       "      <td>1.000000</td>\n",
       "      <td>0.036898</td>\n",
       "      <td>-0.238031</td>\n",
       "    </tr>\n",
       "    <tr>\n",
       "      <th>smoker</th>\n",
       "      <td>-0.032356</td>\n",
       "      <td>0.036898</td>\n",
       "      <td>1.000000</td>\n",
       "      <td>0.071421</td>\n",
       "    </tr>\n",
       "    <tr>\n",
       "      <th>age</th>\n",
       "      <td>0.103901</td>\n",
       "      <td>-0.238031</td>\n",
       "      <td>0.071421</td>\n",
       "      <td>1.000000</td>\n",
       "    </tr>\n",
       "  </tbody>\n",
       "</table>\n",
       "</div>"
      ],
      "text/plain": [
       "          height    weight    smoker       age\n",
       "height  1.000000 -0.463808 -0.032356  0.103901\n",
       "weight -0.463808  1.000000  0.036898 -0.238031\n",
       "smoker -0.032356  0.036898  1.000000  0.071421\n",
       "age     0.103901 -0.238031  0.071421  1.000000"
      ]
     },
     "execution_count": 31,
     "metadata": {},
     "output_type": "execute_result"
    }
   ],
   "source": [
    "df1.corr() #只统计纯数字的 内容,文本内容列自动忽略"
   ]
  }
 ],
 "metadata": {
  "kernelspec": {
   "display_name": "Python 3 (ipykernel)",
   "language": "python",
   "name": "python3"
  },
  "language_info": {
   "codemirror_mode": {
    "name": "ipython",
    "version": 3
   },
   "file_extension": ".py",
   "mimetype": "text/x-python",
   "name": "python",
   "nbconvert_exporter": "python",
   "pygments_lexer": "ipython3",
   "version": "3.8.3"
  }
 },
 "nbformat": 4,
 "nbformat_minor": 4
}
