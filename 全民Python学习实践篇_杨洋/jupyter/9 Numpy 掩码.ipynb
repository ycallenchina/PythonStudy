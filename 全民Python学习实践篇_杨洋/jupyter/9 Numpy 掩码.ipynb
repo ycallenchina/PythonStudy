{
 "cells": [
  {
   "cell_type": "markdown",
   "metadata": {},
   "source": [
    "### 掩码_numpy 的ndarry掩码\n",
    "\n",
    "掩码技术(mask)\n",
    "\n",
    "  原理:\n",
    "\n",
    "  1,nd(1,2,3,4)  一行ndarry数据\n",
    "\n",
    "  2,nd[[True,False, False, True]] 用布尔值做掩码尺\n",
    "\n",
    "  3,nd(1,4) 得出结果\n",
    "\n",
    "#### 掩码的与或非的使用\n",
    "\n",
    "  #### 使用实例及机制:\n",
    "\n",
    "    1,nd[(nd>1)&(nd<3)]\n",
    "\n",
    "    2,其中nd>1和nd<3会得出一个 ndarry对象 如:array([ True,  True, False]) 其结果就是掩码尺\n",
    "\n",
    "    3,nd>1和nd<3 的运算规则遵循 numpy的广播机制\n",
    "\n",
    "    4,可以统计nd>1得出的个数 :\n",
    "\n",
    "      np.sum(nd>1)\n",
    "\n",
    "      np.count_nonzero(nd>1) #统计非0数值的方法\n",
    "\n",
    "    5,最终通过掩码尺返回nd数组里需要掩码的数值,而现实需要的数值\n",
    "\n",
    "      掩码里只能使用位运算符\n",
    "\n",
    "||位运算符号|逻辑运算符|\n",
    "|-|-|-|\n",
    "|与|&|and|\n",
    "|或||||\n",
    "|非|~|not|\n",
    "\n",
    "\n",
    "  #### 位运算符机制:\n",
    "\n",
    "      1—(nd>1) & (nd<3) 注意圆括号必须写 \n",
    "\n",
    "    2—(array([False,  True,  True]))&(array([ True,  True, False]))\n",
    "\n",
    "       注意位运算符等级优先关系运算符>,<,!=\n",
    "\n",
    "    3—&按照对应位置,逐个运算比较得出返回数组结果\n",
    "\n",
    "        结果:array([False,  True, False]) \n",
    "\n",
    "  #### 逻辑运算符机制:\n",
    "\n",
    "    相对位运算符按一位位运算,而是整体比较返回一个布尔结果"
   ]
  },
  {
   "cell_type": "code",
   "execution_count": 2,
   "metadata": {},
   "outputs": [],
   "source": [
    "import numpy as np\n",
    "import pandas as pd"
   ]
  },
  {
   "cell_type": "markdown",
   "metadata": {},
   "source": [
    "### 掩码技术原理"
   ]
  },
  {
   "cell_type": "code",
   "execution_count": 3,
   "metadata": {},
   "outputs": [
    {
     "data": {
      "text/plain": [
       "array([1, 2, 3])"
      ]
     },
     "execution_count": 3,
     "metadata": {},
     "output_type": "execute_result"
    }
   ],
   "source": [
    "x=[1,2,3]\n",
    "nd1=np.array(x)#创建ndarray方法\n",
    "nd1"
   ]
  },
  {
   "cell_type": "markdown",
   "metadata": {},
   "source": [
    "#### 用布尔值数组做掩码尺"
   ]
  },
  {
   "cell_type": "code",
   "execution_count": 5,
   "metadata": {},
   "outputs": [
    {
     "data": {
      "text/plain": [
       "array([1, 2])"
      ]
     },
     "execution_count": 5,
     "metadata": {},
     "output_type": "execute_result"
    }
   ],
   "source": [
    "nd1[[ True,  True, False]]"
   ]
  },
  {
   "cell_type": "markdown",
   "metadata": {},
   "source": [
    "#### 同理 nd1<3 能得出布尔值数组"
   ]
  },
  {
   "cell_type": "code",
   "execution_count": 6,
   "metadata": {},
   "outputs": [
    {
     "data": {
      "text/plain": [
       "array([ True,  True, False])"
      ]
     },
     "execution_count": 6,
     "metadata": {},
     "output_type": "execute_result"
    }
   ],
   "source": [
    "nd1<3"
   ]
  },
  {
   "cell_type": "markdown",
   "metadata": {},
   "source": [
    "#### 所以可以套用关系算式做掩码"
   ]
  },
  {
   "cell_type": "code",
   "execution_count": 8,
   "metadata": {},
   "outputs": [
    {
     "data": {
      "text/plain": [
       "array([1, 2])"
      ]
     },
     "execution_count": 8,
     "metadata": {},
     "output_type": "execute_result"
    }
   ],
   "source": [
    "nd1[nd1<3]"
   ]
  },
  {
   "cell_type": "markdown",
   "metadata": {},
   "source": [
    "### 掩码的与或非的使用"
   ]
  },
  {
   "cell_type": "code",
   "execution_count": 9,
   "metadata": {},
   "outputs": [
    {
     "data": {
      "text/plain": [
       "array([2])"
      ]
     },
     "execution_count": 9,
     "metadata": {},
     "output_type": "execute_result"
    }
   ],
   "source": [
    "nd1[(nd1>1)&(nd1<3)] #注意圆括号,因为位运算符号比关系运算符号等级优先"
   ]
  },
  {
   "cell_type": "markdown",
   "metadata": {},
   "source": [
    "### 用统计函数统计关系算式里的True值"
   ]
  },
  {
   "cell_type": "code",
   "execution_count": 13,
   "metadata": {},
   "outputs": [
    {
     "data": {
      "text/plain": [
       "2"
      ]
     },
     "execution_count": 13,
     "metadata": {},
     "output_type": "execute_result"
    }
   ],
   "source": [
    "np.sum(nd1>1) #统计True的和,因为False为0,所以True的和为True的个数"
   ]
  },
  {
   "cell_type": "code",
   "execution_count": 12,
   "metadata": {},
   "outputs": [
    {
     "data": {
      "text/plain": [
       "2"
      ]
     },
     "execution_count": 12,
     "metadata": {},
     "output_type": "execute_result"
    }
   ],
   "source": [
    "np.count_nonzero(nd1>1) #统计非0数值的方法"
   ]
  }
 ],
 "metadata": {
  "kernelspec": {
   "display_name": "Python 3",
   "language": "python",
   "name": "python3"
  },
  "language_info": {
   "codemirror_mode": {
    "name": "ipython",
    "version": 3
   },
   "file_extension": ".py",
   "mimetype": "text/x-python",
   "name": "python",
   "nbconvert_exporter": "python",
   "pygments_lexer": "ipython3",
   "version": "3.8.3"
  }
 },
 "nbformat": 4,
 "nbformat_minor": 4
}
